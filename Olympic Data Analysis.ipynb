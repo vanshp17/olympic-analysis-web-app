{
 "cells": [
  {
   "cell_type": "code",
   "execution_count": 227,
   "id": "53668aab",
   "metadata": {},
   "outputs": [],
   "source": [
    "#! pip install opendatasets --quiet"
   ]
  },
  {
   "cell_type": "code",
   "execution_count": 228,
   "id": "16ce610d",
   "metadata": {},
   "outputs": [],
   "source": [
    "# import opendatasets as od \n",
    "# dataset_url = 'https://www.kaggle.com/datasets/heesoo37/120-years-of-olympic-history-athletes-and-results'\n",
    "# od.download(dataset_url)"
   ]
  },
  {
   "cell_type": "code",
   "execution_count": 229,
   "id": "1496fd18",
   "metadata": {
    "tags": []
   },
   "outputs": [],
   "source": [
    "import pandas as pd\n",
    "import numpy as np\n",
    "import time\n",
    "import warnings\n",
    "warnings.filterwarnings('ignore')"
   ]
  },
  {
   "cell_type": "code",
   "execution_count": 230,
   "id": "28f37df0",
   "metadata": {
    "tags": []
   },
   "outputs": [],
   "source": [
    "df= pd.read_csv('athlete_events.csv')\n",
    "region_df = pd.read_csv('noc_regions.csv')"
   ]
  },
  {
   "cell_type": "code",
   "execution_count": 231,
   "id": "4568117e",
   "metadata": {
    "tags": []
   },
   "outputs": [
    {
     "data": {
      "text/html": [
       "<div>\n",
       "<style scoped>\n",
       "    .dataframe tbody tr th:only-of-type {\n",
       "        vertical-align: middle;\n",
       "    }\n",
       "\n",
       "    .dataframe tbody tr th {\n",
       "        vertical-align: top;\n",
       "    }\n",
       "\n",
       "    .dataframe thead th {\n",
       "        text-align: right;\n",
       "    }\n",
       "</style>\n",
       "<table border=\"1\" class=\"dataframe\">\n",
       "  <thead>\n",
       "    <tr style=\"text-align: right;\">\n",
       "      <th></th>\n",
       "      <th>ID</th>\n",
       "      <th>Name</th>\n",
       "      <th>Sex</th>\n",
       "      <th>Age</th>\n",
       "      <th>Height</th>\n",
       "      <th>Weight</th>\n",
       "      <th>Team</th>\n",
       "      <th>NOC</th>\n",
       "      <th>Games</th>\n",
       "      <th>Year</th>\n",
       "      <th>Season</th>\n",
       "      <th>City</th>\n",
       "      <th>Sport</th>\n",
       "      <th>Event</th>\n",
       "      <th>Medal</th>\n",
       "    </tr>\n",
       "  </thead>\n",
       "  <tbody>\n",
       "    <tr>\n",
       "      <th>0</th>\n",
       "      <td>1</td>\n",
       "      <td>A Dijiang</td>\n",
       "      <td>M</td>\n",
       "      <td>24.0</td>\n",
       "      <td>180.0</td>\n",
       "      <td>80.0</td>\n",
       "      <td>China</td>\n",
       "      <td>CHN</td>\n",
       "      <td>1992 Summer</td>\n",
       "      <td>1992</td>\n",
       "      <td>Summer</td>\n",
       "      <td>Barcelona</td>\n",
       "      <td>Basketball</td>\n",
       "      <td>Basketball Men's Basketball</td>\n",
       "      <td>NaN</td>\n",
       "    </tr>\n",
       "    <tr>\n",
       "      <th>1</th>\n",
       "      <td>2</td>\n",
       "      <td>A Lamusi</td>\n",
       "      <td>M</td>\n",
       "      <td>23.0</td>\n",
       "      <td>170.0</td>\n",
       "      <td>60.0</td>\n",
       "      <td>China</td>\n",
       "      <td>CHN</td>\n",
       "      <td>2012 Summer</td>\n",
       "      <td>2012</td>\n",
       "      <td>Summer</td>\n",
       "      <td>London</td>\n",
       "      <td>Judo</td>\n",
       "      <td>Judo Men's Extra-Lightweight</td>\n",
       "      <td>NaN</td>\n",
       "    </tr>\n",
       "    <tr>\n",
       "      <th>2</th>\n",
       "      <td>3</td>\n",
       "      <td>Gunnar Nielsen Aaby</td>\n",
       "      <td>M</td>\n",
       "      <td>24.0</td>\n",
       "      <td>NaN</td>\n",
       "      <td>NaN</td>\n",
       "      <td>Denmark</td>\n",
       "      <td>DEN</td>\n",
       "      <td>1920 Summer</td>\n",
       "      <td>1920</td>\n",
       "      <td>Summer</td>\n",
       "      <td>Antwerpen</td>\n",
       "      <td>Football</td>\n",
       "      <td>Football Men's Football</td>\n",
       "      <td>NaN</td>\n",
       "    </tr>\n",
       "    <tr>\n",
       "      <th>3</th>\n",
       "      <td>4</td>\n",
       "      <td>Edgar Lindenau Aabye</td>\n",
       "      <td>M</td>\n",
       "      <td>34.0</td>\n",
       "      <td>NaN</td>\n",
       "      <td>NaN</td>\n",
       "      <td>Denmark/Sweden</td>\n",
       "      <td>DEN</td>\n",
       "      <td>1900 Summer</td>\n",
       "      <td>1900</td>\n",
       "      <td>Summer</td>\n",
       "      <td>Paris</td>\n",
       "      <td>Tug-Of-War</td>\n",
       "      <td>Tug-Of-War Men's Tug-Of-War</td>\n",
       "      <td>Gold</td>\n",
       "    </tr>\n",
       "    <tr>\n",
       "      <th>4</th>\n",
       "      <td>5</td>\n",
       "      <td>Christine Jacoba Aaftink</td>\n",
       "      <td>F</td>\n",
       "      <td>21.0</td>\n",
       "      <td>185.0</td>\n",
       "      <td>82.0</td>\n",
       "      <td>Netherlands</td>\n",
       "      <td>NED</td>\n",
       "      <td>1988 Winter</td>\n",
       "      <td>1988</td>\n",
       "      <td>Winter</td>\n",
       "      <td>Calgary</td>\n",
       "      <td>Speed Skating</td>\n",
       "      <td>Speed Skating Women's 500 metres</td>\n",
       "      <td>NaN</td>\n",
       "    </tr>\n",
       "  </tbody>\n",
       "</table>\n",
       "</div>"
      ],
      "text/plain": [
       "   ID                      Name Sex   Age  Height  Weight            Team  \\\n",
       "0   1                 A Dijiang   M  24.0   180.0    80.0           China   \n",
       "1   2                  A Lamusi   M  23.0   170.0    60.0           China   \n",
       "2   3       Gunnar Nielsen Aaby   M  24.0     NaN     NaN         Denmark   \n",
       "3   4      Edgar Lindenau Aabye   M  34.0     NaN     NaN  Denmark/Sweden   \n",
       "4   5  Christine Jacoba Aaftink   F  21.0   185.0    82.0     Netherlands   \n",
       "\n",
       "   NOC        Games  Year  Season       City          Sport  \\\n",
       "0  CHN  1992 Summer  1992  Summer  Barcelona     Basketball   \n",
       "1  CHN  2012 Summer  2012  Summer     London           Judo   \n",
       "2  DEN  1920 Summer  1920  Summer  Antwerpen       Football   \n",
       "3  DEN  1900 Summer  1900  Summer      Paris     Tug-Of-War   \n",
       "4  NED  1988 Winter  1988  Winter    Calgary  Speed Skating   \n",
       "\n",
       "                              Event Medal  \n",
       "0       Basketball Men's Basketball   NaN  \n",
       "1      Judo Men's Extra-Lightweight   NaN  \n",
       "2           Football Men's Football   NaN  \n",
       "3       Tug-Of-War Men's Tug-Of-War  Gold  \n",
       "4  Speed Skating Women's 500 metres   NaN  "
      ]
     },
     "execution_count": 231,
     "metadata": {},
     "output_type": "execute_result"
    }
   ],
   "source": [
    "df.head()"
   ]
  },
  {
   "cell_type": "code",
   "execution_count": 232,
   "id": "4176323e",
   "metadata": {
    "tags": []
   },
   "outputs": [
    {
     "data": {
      "text/plain": [
       "(271116, 15)"
      ]
     },
     "execution_count": 232,
     "metadata": {},
     "output_type": "execute_result"
    }
   ],
   "source": [
    "df.shape"
   ]
  },
  {
   "cell_type": "code",
   "execution_count": 233,
   "id": "20e02765",
   "metadata": {
    "tags": []
   },
   "outputs": [],
   "source": [
    "df = df[df['Season']=='Summer']"
   ]
  },
  {
   "cell_type": "code",
   "execution_count": 234,
   "id": "59bf7471",
   "metadata": {
    "tags": []
   },
   "outputs": [
    {
     "data": {
      "text/plain": [
       "(222552, 15)"
      ]
     },
     "execution_count": 234,
     "metadata": {},
     "output_type": "execute_result"
    }
   ],
   "source": [
    "df.shape"
   ]
  },
  {
   "cell_type": "code",
   "execution_count": 235,
   "id": "4b07bf15",
   "metadata": {
    "tags": []
   },
   "outputs": [
    {
     "data": {
      "text/html": [
       "<div>\n",
       "<style scoped>\n",
       "    .dataframe tbody tr th:only-of-type {\n",
       "        vertical-align: middle;\n",
       "    }\n",
       "\n",
       "    .dataframe tbody tr th {\n",
       "        vertical-align: top;\n",
       "    }\n",
       "\n",
       "    .dataframe thead th {\n",
       "        text-align: right;\n",
       "    }\n",
       "</style>\n",
       "<table border=\"1\" class=\"dataframe\">\n",
       "  <thead>\n",
       "    <tr style=\"text-align: right;\">\n",
       "      <th></th>\n",
       "      <th>ID</th>\n",
       "      <th>Name</th>\n",
       "      <th>Sex</th>\n",
       "      <th>Age</th>\n",
       "      <th>Height</th>\n",
       "      <th>Weight</th>\n",
       "      <th>Team</th>\n",
       "      <th>NOC</th>\n",
       "      <th>Games</th>\n",
       "      <th>Year</th>\n",
       "      <th>Season</th>\n",
       "      <th>City</th>\n",
       "      <th>Sport</th>\n",
       "      <th>Event</th>\n",
       "      <th>Medal</th>\n",
       "    </tr>\n",
       "  </thead>\n",
       "  <tbody>\n",
       "    <tr>\n",
       "      <th>271106</th>\n",
       "      <td>135565</td>\n",
       "      <td>Fernando scar Zylberberg</td>\n",
       "      <td>M</td>\n",
       "      <td>27.0</td>\n",
       "      <td>168.0</td>\n",
       "      <td>76.0</td>\n",
       "      <td>Argentina</td>\n",
       "      <td>ARG</td>\n",
       "      <td>2004 Summer</td>\n",
       "      <td>2004</td>\n",
       "      <td>Summer</td>\n",
       "      <td>Athina</td>\n",
       "      <td>Hockey</td>\n",
       "      <td>Hockey Men's Hockey</td>\n",
       "      <td>NaN</td>\n",
       "    </tr>\n",
       "    <tr>\n",
       "      <th>271107</th>\n",
       "      <td>135566</td>\n",
       "      <td>James Francis \"Jim\" Zylker</td>\n",
       "      <td>M</td>\n",
       "      <td>21.0</td>\n",
       "      <td>175.0</td>\n",
       "      <td>75.0</td>\n",
       "      <td>United States</td>\n",
       "      <td>USA</td>\n",
       "      <td>1972 Summer</td>\n",
       "      <td>1972</td>\n",
       "      <td>Summer</td>\n",
       "      <td>Munich</td>\n",
       "      <td>Football</td>\n",
       "      <td>Football Men's Football</td>\n",
       "      <td>NaN</td>\n",
       "    </tr>\n",
       "    <tr>\n",
       "      <th>271108</th>\n",
       "      <td>135567</td>\n",
       "      <td>Aleksandr Viktorovich Zyuzin</td>\n",
       "      <td>M</td>\n",
       "      <td>24.0</td>\n",
       "      <td>183.0</td>\n",
       "      <td>72.0</td>\n",
       "      <td>Russia</td>\n",
       "      <td>RUS</td>\n",
       "      <td>2000 Summer</td>\n",
       "      <td>2000</td>\n",
       "      <td>Summer</td>\n",
       "      <td>Sydney</td>\n",
       "      <td>Rowing</td>\n",
       "      <td>Rowing Men's Lightweight Coxless Fours</td>\n",
       "      <td>NaN</td>\n",
       "    </tr>\n",
       "    <tr>\n",
       "      <th>271109</th>\n",
       "      <td>135567</td>\n",
       "      <td>Aleksandr Viktorovich Zyuzin</td>\n",
       "      <td>M</td>\n",
       "      <td>28.0</td>\n",
       "      <td>183.0</td>\n",
       "      <td>72.0</td>\n",
       "      <td>Russia</td>\n",
       "      <td>RUS</td>\n",
       "      <td>2004 Summer</td>\n",
       "      <td>2004</td>\n",
       "      <td>Summer</td>\n",
       "      <td>Athina</td>\n",
       "      <td>Rowing</td>\n",
       "      <td>Rowing Men's Lightweight Coxless Fours</td>\n",
       "      <td>NaN</td>\n",
       "    </tr>\n",
       "    <tr>\n",
       "      <th>271110</th>\n",
       "      <td>135568</td>\n",
       "      <td>Olga Igorevna Zyuzkova</td>\n",
       "      <td>F</td>\n",
       "      <td>33.0</td>\n",
       "      <td>171.0</td>\n",
       "      <td>69.0</td>\n",
       "      <td>Belarus</td>\n",
       "      <td>BLR</td>\n",
       "      <td>2016 Summer</td>\n",
       "      <td>2016</td>\n",
       "      <td>Summer</td>\n",
       "      <td>Rio de Janeiro</td>\n",
       "      <td>Basketball</td>\n",
       "      <td>Basketball Women's Basketball</td>\n",
       "      <td>NaN</td>\n",
       "    </tr>\n",
       "  </tbody>\n",
       "</table>\n",
       "</div>"
      ],
      "text/plain": [
       "            ID                          Name Sex   Age  Height  Weight  \\\n",
       "271106  135565      Fernando scar Zylberberg   M  27.0   168.0    76.0   \n",
       "271107  135566    James Francis \"Jim\" Zylker   M  21.0   175.0    75.0   \n",
       "271108  135567  Aleksandr Viktorovich Zyuzin   M  24.0   183.0    72.0   \n",
       "271109  135567  Aleksandr Viktorovich Zyuzin   M  28.0   183.0    72.0   \n",
       "271110  135568        Olga Igorevna Zyuzkova   F  33.0   171.0    69.0   \n",
       "\n",
       "                 Team  NOC        Games  Year  Season            City  \\\n",
       "271106      Argentina  ARG  2004 Summer  2004  Summer          Athina   \n",
       "271107  United States  USA  1972 Summer  1972  Summer          Munich   \n",
       "271108         Russia  RUS  2000 Summer  2000  Summer          Sydney   \n",
       "271109         Russia  RUS  2004 Summer  2004  Summer          Athina   \n",
       "271110        Belarus  BLR  2016 Summer  2016  Summer  Rio de Janeiro   \n",
       "\n",
       "             Sport                                   Event Medal  \n",
       "271106      Hockey                     Hockey Men's Hockey   NaN  \n",
       "271107    Football                 Football Men's Football   NaN  \n",
       "271108      Rowing  Rowing Men's Lightweight Coxless Fours   NaN  \n",
       "271109      Rowing  Rowing Men's Lightweight Coxless Fours   NaN  \n",
       "271110  Basketball           Basketball Women's Basketball   NaN  "
      ]
     },
     "execution_count": 235,
     "metadata": {},
     "output_type": "execute_result"
    }
   ],
   "source": [
    "df.tail()"
   ]
  },
  {
   "cell_type": "code",
   "execution_count": 236,
   "id": "468ef24e",
   "metadata": {
    "tags": []
   },
   "outputs": [
    {
     "data": {
      "text/html": [
       "<div>\n",
       "<style scoped>\n",
       "    .dataframe tbody tr th:only-of-type {\n",
       "        vertical-align: middle;\n",
       "    }\n",
       "\n",
       "    .dataframe tbody tr th {\n",
       "        vertical-align: top;\n",
       "    }\n",
       "\n",
       "    .dataframe thead th {\n",
       "        text-align: right;\n",
       "    }\n",
       "</style>\n",
       "<table border=\"1\" class=\"dataframe\">\n",
       "  <thead>\n",
       "    <tr style=\"text-align: right;\">\n",
       "      <th></th>\n",
       "      <th>NOC</th>\n",
       "      <th>region</th>\n",
       "      <th>notes</th>\n",
       "    </tr>\n",
       "  </thead>\n",
       "  <tbody>\n",
       "    <tr>\n",
       "      <th>225</th>\n",
       "      <td>YEM</td>\n",
       "      <td>Yemen</td>\n",
       "      <td>NaN</td>\n",
       "    </tr>\n",
       "    <tr>\n",
       "      <th>226</th>\n",
       "      <td>YMD</td>\n",
       "      <td>Yemen</td>\n",
       "      <td>South Yemen</td>\n",
       "    </tr>\n",
       "    <tr>\n",
       "      <th>227</th>\n",
       "      <td>YUG</td>\n",
       "      <td>Serbia</td>\n",
       "      <td>Yugoslavia</td>\n",
       "    </tr>\n",
       "    <tr>\n",
       "      <th>228</th>\n",
       "      <td>ZAM</td>\n",
       "      <td>Zambia</td>\n",
       "      <td>NaN</td>\n",
       "    </tr>\n",
       "    <tr>\n",
       "      <th>229</th>\n",
       "      <td>ZIM</td>\n",
       "      <td>Zimbabwe</td>\n",
       "      <td>NaN</td>\n",
       "    </tr>\n",
       "  </tbody>\n",
       "</table>\n",
       "</div>"
      ],
      "text/plain": [
       "     NOC    region        notes\n",
       "225  YEM     Yemen          NaN\n",
       "226  YMD     Yemen  South Yemen\n",
       "227  YUG    Serbia   Yugoslavia\n",
       "228  ZAM    Zambia          NaN\n",
       "229  ZIM  Zimbabwe          NaN"
      ]
     },
     "execution_count": 236,
     "metadata": {},
     "output_type": "execute_result"
    }
   ],
   "source": [
    "region_df.tail()"
   ]
  },
  {
   "cell_type": "code",
   "execution_count": 237,
   "id": "9f09ed9e",
   "metadata": {
    "tags": []
   },
   "outputs": [],
   "source": [
    "df = df.merge(region_df, on='NOC', how='left')    #merge region dataframe"
   ]
  },
  {
   "cell_type": "code",
   "execution_count": 238,
   "id": "c04da8c9",
   "metadata": {
    "tags": []
   },
   "outputs": [
    {
     "data": {
      "text/html": [
       "<div>\n",
       "<style scoped>\n",
       "    .dataframe tbody tr th:only-of-type {\n",
       "        vertical-align: middle;\n",
       "    }\n",
       "\n",
       "    .dataframe tbody tr th {\n",
       "        vertical-align: top;\n",
       "    }\n",
       "\n",
       "    .dataframe thead th {\n",
       "        text-align: right;\n",
       "    }\n",
       "</style>\n",
       "<table border=\"1\" class=\"dataframe\">\n",
       "  <thead>\n",
       "    <tr style=\"text-align: right;\">\n",
       "      <th></th>\n",
       "      <th>ID</th>\n",
       "      <th>Name</th>\n",
       "      <th>Sex</th>\n",
       "      <th>Age</th>\n",
       "      <th>Height</th>\n",
       "      <th>Weight</th>\n",
       "      <th>Team</th>\n",
       "      <th>NOC</th>\n",
       "      <th>Games</th>\n",
       "      <th>Year</th>\n",
       "      <th>Season</th>\n",
       "      <th>City</th>\n",
       "      <th>Sport</th>\n",
       "      <th>Event</th>\n",
       "      <th>Medal</th>\n",
       "      <th>region</th>\n",
       "      <th>notes</th>\n",
       "    </tr>\n",
       "  </thead>\n",
       "  <tbody>\n",
       "    <tr>\n",
       "      <th>222547</th>\n",
       "      <td>135565</td>\n",
       "      <td>Fernando scar Zylberberg</td>\n",
       "      <td>M</td>\n",
       "      <td>27.0</td>\n",
       "      <td>168.0</td>\n",
       "      <td>76.0</td>\n",
       "      <td>Argentina</td>\n",
       "      <td>ARG</td>\n",
       "      <td>2004 Summer</td>\n",
       "      <td>2004</td>\n",
       "      <td>Summer</td>\n",
       "      <td>Athina</td>\n",
       "      <td>Hockey</td>\n",
       "      <td>Hockey Men's Hockey</td>\n",
       "      <td>NaN</td>\n",
       "      <td>Argentina</td>\n",
       "      <td>NaN</td>\n",
       "    </tr>\n",
       "    <tr>\n",
       "      <th>222548</th>\n",
       "      <td>135566</td>\n",
       "      <td>James Francis \"Jim\" Zylker</td>\n",
       "      <td>M</td>\n",
       "      <td>21.0</td>\n",
       "      <td>175.0</td>\n",
       "      <td>75.0</td>\n",
       "      <td>United States</td>\n",
       "      <td>USA</td>\n",
       "      <td>1972 Summer</td>\n",
       "      <td>1972</td>\n",
       "      <td>Summer</td>\n",
       "      <td>Munich</td>\n",
       "      <td>Football</td>\n",
       "      <td>Football Men's Football</td>\n",
       "      <td>NaN</td>\n",
       "      <td>USA</td>\n",
       "      <td>NaN</td>\n",
       "    </tr>\n",
       "    <tr>\n",
       "      <th>222549</th>\n",
       "      <td>135567</td>\n",
       "      <td>Aleksandr Viktorovich Zyuzin</td>\n",
       "      <td>M</td>\n",
       "      <td>24.0</td>\n",
       "      <td>183.0</td>\n",
       "      <td>72.0</td>\n",
       "      <td>Russia</td>\n",
       "      <td>RUS</td>\n",
       "      <td>2000 Summer</td>\n",
       "      <td>2000</td>\n",
       "      <td>Summer</td>\n",
       "      <td>Sydney</td>\n",
       "      <td>Rowing</td>\n",
       "      <td>Rowing Men's Lightweight Coxless Fours</td>\n",
       "      <td>NaN</td>\n",
       "      <td>Russia</td>\n",
       "      <td>NaN</td>\n",
       "    </tr>\n",
       "    <tr>\n",
       "      <th>222550</th>\n",
       "      <td>135567</td>\n",
       "      <td>Aleksandr Viktorovich Zyuzin</td>\n",
       "      <td>M</td>\n",
       "      <td>28.0</td>\n",
       "      <td>183.0</td>\n",
       "      <td>72.0</td>\n",
       "      <td>Russia</td>\n",
       "      <td>RUS</td>\n",
       "      <td>2004 Summer</td>\n",
       "      <td>2004</td>\n",
       "      <td>Summer</td>\n",
       "      <td>Athina</td>\n",
       "      <td>Rowing</td>\n",
       "      <td>Rowing Men's Lightweight Coxless Fours</td>\n",
       "      <td>NaN</td>\n",
       "      <td>Russia</td>\n",
       "      <td>NaN</td>\n",
       "    </tr>\n",
       "    <tr>\n",
       "      <th>222551</th>\n",
       "      <td>135568</td>\n",
       "      <td>Olga Igorevna Zyuzkova</td>\n",
       "      <td>F</td>\n",
       "      <td>33.0</td>\n",
       "      <td>171.0</td>\n",
       "      <td>69.0</td>\n",
       "      <td>Belarus</td>\n",
       "      <td>BLR</td>\n",
       "      <td>2016 Summer</td>\n",
       "      <td>2016</td>\n",
       "      <td>Summer</td>\n",
       "      <td>Rio de Janeiro</td>\n",
       "      <td>Basketball</td>\n",
       "      <td>Basketball Women's Basketball</td>\n",
       "      <td>NaN</td>\n",
       "      <td>Belarus</td>\n",
       "      <td>NaN</td>\n",
       "    </tr>\n",
       "  </tbody>\n",
       "</table>\n",
       "</div>"
      ],
      "text/plain": [
       "            ID                          Name Sex   Age  Height  Weight  \\\n",
       "222547  135565      Fernando scar Zylberberg   M  27.0   168.0    76.0   \n",
       "222548  135566    James Francis \"Jim\" Zylker   M  21.0   175.0    75.0   \n",
       "222549  135567  Aleksandr Viktorovich Zyuzin   M  24.0   183.0    72.0   \n",
       "222550  135567  Aleksandr Viktorovich Zyuzin   M  28.0   183.0    72.0   \n",
       "222551  135568        Olga Igorevna Zyuzkova   F  33.0   171.0    69.0   \n",
       "\n",
       "                 Team  NOC        Games  Year  Season            City  \\\n",
       "222547      Argentina  ARG  2004 Summer  2004  Summer          Athina   \n",
       "222548  United States  USA  1972 Summer  1972  Summer          Munich   \n",
       "222549         Russia  RUS  2000 Summer  2000  Summer          Sydney   \n",
       "222550         Russia  RUS  2004 Summer  2004  Summer          Athina   \n",
       "222551        Belarus  BLR  2016 Summer  2016  Summer  Rio de Janeiro   \n",
       "\n",
       "             Sport                                   Event Medal     region  \\\n",
       "222547      Hockey                     Hockey Men's Hockey   NaN  Argentina   \n",
       "222548    Football                 Football Men's Football   NaN        USA   \n",
       "222549      Rowing  Rowing Men's Lightweight Coxless Fours   NaN     Russia   \n",
       "222550      Rowing  Rowing Men's Lightweight Coxless Fours   NaN     Russia   \n",
       "222551  Basketball           Basketball Women's Basketball   NaN    Belarus   \n",
       "\n",
       "       notes  \n",
       "222547   NaN  \n",
       "222548   NaN  \n",
       "222549   NaN  \n",
       "222550   NaN  \n",
       "222551   NaN  "
      ]
     },
     "execution_count": 238,
     "metadata": {},
     "output_type": "execute_result"
    }
   ],
   "source": [
    "df.tail()"
   ]
  },
  {
   "cell_type": "code",
   "execution_count": 239,
   "id": "a5e3f2ce",
   "metadata": {
    "tags": []
   },
   "outputs": [
    {
     "data": {
      "text/plain": [
       "array(['China', 'Denmark', 'Netherlands', 'Finland', 'Norway', 'Romania',\n",
       "       'Estonia', 'France', 'Morocco', 'Spain', 'Egypt', 'Iran',\n",
       "       'Bulgaria', 'Italy', 'Chad', 'Azerbaijan', 'Sudan', 'Russia',\n",
       "       'Argentina', 'Cuba', 'Belarus', 'Greece', 'Cameroon', 'Turkey',\n",
       "       'Chile', 'Mexico', 'USA', 'Nicaragua', 'Hungary', 'Nigeria',\n",
       "       'Algeria', 'Kuwait', 'Bahrain', 'Pakistan', 'Iraq', 'Syria',\n",
       "       'Lebanon', 'Qatar', 'Malaysia', 'Germany', 'Canada', 'Ireland',\n",
       "       'Australia', 'South Africa', 'Eritrea', 'Tanzania', 'Jordan',\n",
       "       'Tunisia', 'Libya', 'Belgium', 'Djibouti', 'Palestine', 'Comoros',\n",
       "       'Kazakhstan', 'Brunei', 'India', 'Saudi Arabia', 'Maldives',\n",
       "       'Ethiopia', 'United Arab Emirates', 'Yemen', 'Indonesia',\n",
       "       'Philippines', nan, 'Uzbekistan', 'Kyrgyzstan', 'Tajikistan',\n",
       "       'Japan', 'Republic of Congo', 'Switzerland', 'Brazil', 'Monaco',\n",
       "       'Israel', 'Uruguay', 'Sweden', 'Sri Lanka', 'Armenia',\n",
       "       'Ivory Coast', 'Kenya', 'Benin', 'UK', 'Ghana', 'Somalia', 'Niger',\n",
       "       'Mali', 'Afghanistan', 'Poland', 'Costa Rica', 'Panama', 'Georgia',\n",
       "       'Slovenia', 'Guyana', 'New Zealand', 'Portugal', 'Paraguay',\n",
       "       'Angola', 'Venezuela', 'Colombia', 'Bangladesh', 'Peru',\n",
       "       'El Salvador', 'Puerto Rico', 'Uganda', 'Honduras', 'Ecuador',\n",
       "       'Turkmenistan', 'Mauritius', 'Seychelles', 'Czech Republic',\n",
       "       'Luxembourg', 'Mauritania', 'Saint Kitts', 'Trinidad',\n",
       "       'Dominican Republic', 'Saint Vincent', 'Jamaica', 'Liberia',\n",
       "       'Suriname', 'Nepal', 'Mongolia', 'Austria', 'Palau', 'Lithuania',\n",
       "       'Togo', 'Namibia', 'Curacao', 'Ukraine', 'Iceland',\n",
       "       'American Samoa', 'Samoa', 'Rwanda', 'Croatia', 'Dominica',\n",
       "       'Haiti', 'Malta', 'Cyprus', 'Guinea', 'Belize', 'Thailand',\n",
       "       'Bermuda', 'Serbia', 'Sierra Leone', 'Papua New Guinea',\n",
       "       'Individual Olympic Athletes', 'Oman', 'Fiji', 'Vanuatu',\n",
       "       'Moldova', 'Bahamas', 'Guatemala', 'Latvia',\n",
       "       'Virgin Islands, British', 'Mozambique', 'Virgin Islands, US',\n",
       "       'Central African Republic', 'Madagascar', 'Bosnia and Herzegovina',\n",
       "       'Guam', 'Cayman Islands', 'Slovakia', 'Barbados', 'Guinea-Bissau',\n",
       "       'Timor-Leste', 'Democratic Republic of the Congo', 'Gabon',\n",
       "       'San Marino', 'Laos', 'Botswana', 'South Korea', 'Cambodia',\n",
       "       'North Korea', 'Solomon Islands', 'Senegal', 'Cape Verde',\n",
       "       'Equatorial Guinea', 'Boliva', 'Antigua', 'Andorra', 'Zimbabwe',\n",
       "       'Grenada', 'Saint Lucia', 'Micronesia', 'Myanmar', 'Malawi',\n",
       "       'Zambia', 'Taiwan', 'Sao Tome and Principe', 'Macedonia',\n",
       "       'Liechtenstein', 'Montenegro', 'Gambia', 'Cook Islands', 'Albania',\n",
       "       'Swaziland', 'Burkina Faso', 'Burundi', 'Aruba', 'Nauru',\n",
       "       'Vietnam', 'Bhutan', 'Marshall Islands', 'Kiribati', 'Tonga',\n",
       "       'Kosovo', 'South Sudan', 'Lesotho'], dtype=object)"
      ]
     },
     "execution_count": 239,
     "metadata": {},
     "output_type": "execute_result"
    }
   ],
   "source": [
    "df['region'].unique()"
   ]
  },
  {
   "cell_type": "code",
   "execution_count": 240,
   "id": "6a4942df",
   "metadata": {
    "tags": []
   },
   "outputs": [
    {
     "data": {
      "text/plain": [
       "ID             0\n",
       "Name           0\n",
       "Sex            0\n",
       "Age         9189\n",
       "Height     51857\n",
       "Weight     53854\n",
       "Team           0\n",
       "NOC            0\n",
       "Games          0\n",
       "Year           0\n",
       "Season         0\n",
       "City           0\n",
       "Sport          0\n",
       "Event          0\n",
       "Medal     188464\n",
       "region       370\n",
       "notes     218151\n",
       "dtype: int64"
      ]
     },
     "execution_count": 240,
     "metadata": {},
     "output_type": "execute_result"
    }
   ],
   "source": [
    "df.isnull().sum()"
   ]
  },
  {
   "cell_type": "code",
   "execution_count": 241,
   "id": "e9138137",
   "metadata": {
    "tags": []
   },
   "outputs": [
    {
     "data": {
      "text/plain": [
       "1385"
      ]
     },
     "execution_count": 241,
     "metadata": {},
     "output_type": "execute_result"
    }
   ],
   "source": [
    "df.duplicated().sum()"
   ]
  },
  {
   "cell_type": "code",
   "execution_count": 242,
   "id": "93c0e924",
   "metadata": {
    "tags": []
   },
   "outputs": [],
   "source": [
    "df.drop_duplicates(inplace=True)"
   ]
  },
  {
   "cell_type": "code",
   "execution_count": 243,
   "id": "825076ac",
   "metadata": {
    "tags": []
   },
   "outputs": [
    {
     "data": {
      "text/plain": [
       "Medal\n",
       "Gold      11456\n",
       "Bronze    11409\n",
       "Silver    11212\n",
       "Name: count, dtype: int64"
      ]
     },
     "execution_count": 243,
     "metadata": {},
     "output_type": "execute_result"
    }
   ],
   "source": [
    "df['Medal'].value_counts()"
   ]
  },
  {
   "cell_type": "code",
   "execution_count": 244,
   "id": "5a77d46e",
   "metadata": {
    "tags": []
   },
   "outputs": [],
   "source": [
    "#OHE- medal\n",
    "\n",
    "df = pd.concat([df,pd.get_dummies(df['Medal'])], axis=1)"
   ]
  },
  {
   "cell_type": "code",
   "execution_count": 245,
   "id": "f5417f39",
   "metadata": {
    "tags": []
   },
   "outputs": [
    {
     "data": {
      "text/plain": [
       "(221167, 20)"
      ]
     },
     "execution_count": 245,
     "metadata": {},
     "output_type": "execute_result"
    }
   ],
   "source": [
    "df.shape"
   ]
  },
  {
   "cell_type": "code",
   "execution_count": 246,
   "id": "9954b1de",
   "metadata": {
    "tags": []
   },
   "outputs": [
    {
     "data": {
      "text/html": [
       "<div>\n",
       "<style scoped>\n",
       "    .dataframe tbody tr th:only-of-type {\n",
       "        vertical-align: middle;\n",
       "    }\n",
       "\n",
       "    .dataframe tbody tr th {\n",
       "        vertical-align: top;\n",
       "    }\n",
       "\n",
       "    .dataframe thead th {\n",
       "        text-align: right;\n",
       "    }\n",
       "</style>\n",
       "<table border=\"1\" class=\"dataframe\">\n",
       "  <thead>\n",
       "    <tr style=\"text-align: right;\">\n",
       "      <th></th>\n",
       "      <th>region</th>\n",
       "      <th>Gold</th>\n",
       "      <th>Silver</th>\n",
       "      <th>Bronze</th>\n",
       "    </tr>\n",
       "  </thead>\n",
       "  <tbody>\n",
       "    <tr>\n",
       "      <th>0</th>\n",
       "      <td>USA</td>\n",
       "      <td>2472</td>\n",
       "      <td>1333</td>\n",
       "      <td>1197</td>\n",
       "    </tr>\n",
       "    <tr>\n",
       "      <th>1</th>\n",
       "      <td>Russia</td>\n",
       "      <td>1220</td>\n",
       "      <td>974</td>\n",
       "      <td>994</td>\n",
       "    </tr>\n",
       "    <tr>\n",
       "      <th>2</th>\n",
       "      <td>Germany</td>\n",
       "      <td>1075</td>\n",
       "      <td>987</td>\n",
       "      <td>1064</td>\n",
       "    </tr>\n",
       "    <tr>\n",
       "      <th>3</th>\n",
       "      <td>UK</td>\n",
       "      <td>635</td>\n",
       "      <td>729</td>\n",
       "      <td>620</td>\n",
       "    </tr>\n",
       "    <tr>\n",
       "      <th>4</th>\n",
       "      <td>Italy</td>\n",
       "      <td>518</td>\n",
       "      <td>474</td>\n",
       "      <td>454</td>\n",
       "    </tr>\n",
       "    <tr>\n",
       "      <th>...</th>\n",
       "      <td>...</td>\n",
       "      <td>...</td>\n",
       "      <td>...</td>\n",
       "      <td>...</td>\n",
       "    </tr>\n",
       "    <tr>\n",
       "      <th>200</th>\n",
       "      <td>Lesotho</td>\n",
       "      <td>0</td>\n",
       "      <td>0</td>\n",
       "      <td>0</td>\n",
       "    </tr>\n",
       "    <tr>\n",
       "      <th>201</th>\n",
       "      <td>Albania</td>\n",
       "      <td>0</td>\n",
       "      <td>0</td>\n",
       "      <td>0</td>\n",
       "    </tr>\n",
       "    <tr>\n",
       "      <th>202</th>\n",
       "      <td>Libya</td>\n",
       "      <td>0</td>\n",
       "      <td>0</td>\n",
       "      <td>0</td>\n",
       "    </tr>\n",
       "    <tr>\n",
       "      <th>203</th>\n",
       "      <td>Liechtenstein</td>\n",
       "      <td>0</td>\n",
       "      <td>0</td>\n",
       "      <td>0</td>\n",
       "    </tr>\n",
       "    <tr>\n",
       "      <th>204</th>\n",
       "      <td>Liberia</td>\n",
       "      <td>0</td>\n",
       "      <td>0</td>\n",
       "      <td>0</td>\n",
       "    </tr>\n",
       "  </tbody>\n",
       "</table>\n",
       "<p>205 rows × 4 columns</p>\n",
       "</div>"
      ],
      "text/plain": [
       "            region  Gold  Silver  Bronze\n",
       "0              USA  2472    1333    1197\n",
       "1           Russia  1220     974     994\n",
       "2          Germany  1075     987    1064\n",
       "3               UK   635     729     620\n",
       "4            Italy   518     474     454\n",
       "..             ...   ...     ...     ...\n",
       "200        Lesotho     0       0       0\n",
       "201        Albania     0       0       0\n",
       "202          Libya     0       0       0\n",
       "203  Liechtenstein     0       0       0\n",
       "204        Liberia     0       0       0\n",
       "\n",
       "[205 rows x 4 columns]"
      ]
     },
     "execution_count": 246,
     "metadata": {},
     "output_type": "execute_result"
    }
   ],
   "source": [
    "df.groupby('region').sum()[['Gold','Silver','Bronze']].sort_values('Gold',ascending=False).reset_index()"
   ]
  },
  {
   "cell_type": "code",
   "execution_count": 247,
   "id": "65fe5601",
   "metadata": {
    "tags": []
   },
   "outputs": [],
   "source": [
    "# in the above data wrong table we get\n",
    "# so we need to remove duplicates - count only once\n"
   ]
  },
  {
   "cell_type": "code",
   "execution_count": 248,
   "id": "60b64904",
   "metadata": {
    "tags": []
   },
   "outputs": [],
   "source": [
    "medal_tally = df.drop_duplicates(subset= ['Team','NOC', 'Games', 'Year','City','Sport','Event','Medal'] )"
   ]
  },
  {
   "cell_type": "code",
   "execution_count": 249,
   "id": "b73454cf",
   "metadata": {
    "tags": []
   },
   "outputs": [],
   "source": [
    "medal_tally = medal_tally.groupby('region').sum()[['Gold','Silver','Bronze']].sort_values('Gold',ascending=False).reset_index()"
   ]
  },
  {
   "cell_type": "code",
   "execution_count": 250,
   "id": "dd79adc1",
   "metadata": {
    "tags": []
   },
   "outputs": [],
   "source": [
    "medal_tally['total'] =  medal_tally['Gold']+medal_tally['Silver']+medal_tally['Bronze']"
   ]
  },
  {
   "cell_type": "code",
   "execution_count": 251,
   "id": "87a6a593",
   "metadata": {
    "tags": []
   },
   "outputs": [
    {
     "data": {
      "text/html": [
       "<div>\n",
       "<style scoped>\n",
       "    .dataframe tbody tr th:only-of-type {\n",
       "        vertical-align: middle;\n",
       "    }\n",
       "\n",
       "    .dataframe tbody tr th {\n",
       "        vertical-align: top;\n",
       "    }\n",
       "\n",
       "    .dataframe thead th {\n",
       "        text-align: right;\n",
       "    }\n",
       "</style>\n",
       "<table border=\"1\" class=\"dataframe\">\n",
       "  <thead>\n",
       "    <tr style=\"text-align: right;\">\n",
       "      <th></th>\n",
       "      <th>region</th>\n",
       "      <th>Gold</th>\n",
       "      <th>Silver</th>\n",
       "      <th>Bronze</th>\n",
       "      <th>total</th>\n",
       "    </tr>\n",
       "  </thead>\n",
       "  <tbody>\n",
       "    <tr>\n",
       "      <th>0</th>\n",
       "      <td>USA</td>\n",
       "      <td>1035</td>\n",
       "      <td>802</td>\n",
       "      <td>708</td>\n",
       "      <td>2545</td>\n",
       "    </tr>\n",
       "    <tr>\n",
       "      <th>1</th>\n",
       "      <td>Russia</td>\n",
       "      <td>592</td>\n",
       "      <td>498</td>\n",
       "      <td>487</td>\n",
       "      <td>1577</td>\n",
       "    </tr>\n",
       "    <tr>\n",
       "      <th>2</th>\n",
       "      <td>Germany</td>\n",
       "      <td>444</td>\n",
       "      <td>457</td>\n",
       "      <td>491</td>\n",
       "      <td>1392</td>\n",
       "    </tr>\n",
       "    <tr>\n",
       "      <th>3</th>\n",
       "      <td>UK</td>\n",
       "      <td>278</td>\n",
       "      <td>317</td>\n",
       "      <td>300</td>\n",
       "      <td>895</td>\n",
       "    </tr>\n",
       "    <tr>\n",
       "      <th>4</th>\n",
       "      <td>France</td>\n",
       "      <td>234</td>\n",
       "      <td>256</td>\n",
       "      <td>287</td>\n",
       "      <td>777</td>\n",
       "    </tr>\n",
       "    <tr>\n",
       "      <th>...</th>\n",
       "      <td>...</td>\n",
       "      <td>...</td>\n",
       "      <td>...</td>\n",
       "      <td>...</td>\n",
       "      <td>...</td>\n",
       "    </tr>\n",
       "    <tr>\n",
       "      <th>200</th>\n",
       "      <td>Lesotho</td>\n",
       "      <td>0</td>\n",
       "      <td>0</td>\n",
       "      <td>0</td>\n",
       "      <td>0</td>\n",
       "    </tr>\n",
       "    <tr>\n",
       "      <th>201</th>\n",
       "      <td>Albania</td>\n",
       "      <td>0</td>\n",
       "      <td>0</td>\n",
       "      <td>0</td>\n",
       "      <td>0</td>\n",
       "    </tr>\n",
       "    <tr>\n",
       "      <th>202</th>\n",
       "      <td>Libya</td>\n",
       "      <td>0</td>\n",
       "      <td>0</td>\n",
       "      <td>0</td>\n",
       "      <td>0</td>\n",
       "    </tr>\n",
       "    <tr>\n",
       "      <th>203</th>\n",
       "      <td>Liechtenstein</td>\n",
       "      <td>0</td>\n",
       "      <td>0</td>\n",
       "      <td>0</td>\n",
       "      <td>0</td>\n",
       "    </tr>\n",
       "    <tr>\n",
       "      <th>204</th>\n",
       "      <td>Liberia</td>\n",
       "      <td>0</td>\n",
       "      <td>0</td>\n",
       "      <td>0</td>\n",
       "      <td>0</td>\n",
       "    </tr>\n",
       "  </tbody>\n",
       "</table>\n",
       "<p>205 rows × 5 columns</p>\n",
       "</div>"
      ],
      "text/plain": [
       "            region  Gold  Silver  Bronze  total\n",
       "0              USA  1035     802     708   2545\n",
       "1           Russia   592     498     487   1577\n",
       "2          Germany   444     457     491   1392\n",
       "3               UK   278     317     300    895\n",
       "4           France   234     256     287    777\n",
       "..             ...   ...     ...     ...    ...\n",
       "200        Lesotho     0       0       0      0\n",
       "201        Albania     0       0       0      0\n",
       "202          Libya     0       0       0      0\n",
       "203  Liechtenstein     0       0       0      0\n",
       "204        Liberia     0       0       0      0\n",
       "\n",
       "[205 rows x 5 columns]"
      ]
     },
     "execution_count": 251,
     "metadata": {},
     "output_type": "execute_result"
    }
   ],
   "source": [
    "medal_tally"
   ]
  },
  {
   "cell_type": "code",
   "execution_count": 252,
   "id": "e41df432",
   "metadata": {
    "tags": []
   },
   "outputs": [
    {
     "name": "stdout",
     "output_type": "stream",
     "text": [
      "<class 'pandas.core.frame.DataFrame'>\n",
      "RangeIndex: 205 entries, 0 to 204\n",
      "Data columns (total 5 columns):\n",
      " #   Column  Non-Null Count  Dtype \n",
      "---  ------  --------------  ----- \n",
      " 0   region  205 non-null    object\n",
      " 1   Gold    205 non-null    int64 \n",
      " 2   Silver  205 non-null    int64 \n",
      " 3   Bronze  205 non-null    int64 \n",
      " 4   total   205 non-null    int64 \n",
      "dtypes: int64(4), object(1)\n",
      "memory usage: 8.1+ KB\n"
     ]
    }
   ],
   "source": [
    "medal_tally.info()"
   ]
  },
  {
   "cell_type": "code",
   "execution_count": 253,
   "id": "2abc4f00",
   "metadata": {
    "tags": []
   },
   "outputs": [
    {
     "name": "stdout",
     "output_type": "stream",
     "text": [
      "<class 'pandas.core.frame.DataFrame'>\n",
      "Index: 221167 entries, 0 to 222551\n",
      "Data columns (total 20 columns):\n",
      " #   Column  Non-Null Count   Dtype  \n",
      "---  ------  --------------   -----  \n",
      " 0   ID      221167 non-null  int64  \n",
      " 1   Name    221167 non-null  object \n",
      " 2   Sex     221167 non-null  object \n",
      " 3   Age     212137 non-null  float64\n",
      " 4   Height  170667 non-null  float64\n",
      " 5   Weight  168661 non-null  float64\n",
      " 6   Team    221167 non-null  object \n",
      " 7   NOC     221167 non-null  object \n",
      " 8   Games   221167 non-null  object \n",
      " 9   Year    221167 non-null  int64  \n",
      " 10  Season  221167 non-null  object \n",
      " 11  City    221167 non-null  object \n",
      " 12  Sport   221167 non-null  object \n",
      " 13  Event   221167 non-null  object \n",
      " 14  Medal   34077 non-null   object \n",
      " 15  region  220797 non-null  object \n",
      " 16  notes   4397 non-null    object \n",
      " 17  Bronze  221167 non-null  bool   \n",
      " 18  Gold    221167 non-null  bool   \n",
      " 19  Silver  221167 non-null  bool   \n",
      "dtypes: bool(3), float64(3), int64(2), object(12)\n",
      "memory usage: 31.0+ MB\n"
     ]
    }
   ],
   "source": [
    "df.info()"
   ]
  },
  {
   "cell_type": "code",
   "execution_count": 254,
   "id": "ffb6b910",
   "metadata": {
    "tags": []
   },
   "outputs": [],
   "source": [
    "years = df['Year'].unique().tolist()"
   ]
  },
  {
   "cell_type": "code",
   "execution_count": 255,
   "id": "b234da94",
   "metadata": {
    "tags": []
   },
   "outputs": [],
   "source": [
    "years.sort()"
   ]
  },
  {
   "cell_type": "code",
   "execution_count": 256,
   "id": "c0a9beec",
   "metadata": {
    "tags": []
   },
   "outputs": [],
   "source": [
    "years.insert(0,'Overall')"
   ]
  },
  {
   "cell_type": "code",
   "execution_count": 257,
   "id": "4d43dbd2",
   "metadata": {
    "tags": []
   },
   "outputs": [
    {
     "data": {
      "text/plain": [
       "['Overall',\n",
       " 1896,\n",
       " 1900,\n",
       " 1904,\n",
       " 1906,\n",
       " 1908,\n",
       " 1912,\n",
       " 1920,\n",
       " 1924,\n",
       " 1928,\n",
       " 1932,\n",
       " 1936,\n",
       " 1948,\n",
       " 1952,\n",
       " 1956,\n",
       " 1960,\n",
       " 1964,\n",
       " 1968,\n",
       " 1972,\n",
       " 1976,\n",
       " 1980,\n",
       " 1984,\n",
       " 1988,\n",
       " 1992,\n",
       " 1996,\n",
       " 2000,\n",
       " 2004,\n",
       " 2008,\n",
       " 2012,\n",
       " 2016]"
      ]
     },
     "execution_count": 257,
     "metadata": {},
     "output_type": "execute_result"
    }
   ],
   "source": [
    "years"
   ]
  },
  {
   "cell_type": "code",
   "execution_count": 258,
   "id": "56490516",
   "metadata": {
    "tags": []
   },
   "outputs": [],
   "source": [
    "country = np.unique(df['region'].dropna().values).tolist()"
   ]
  },
  {
   "cell_type": "code",
   "execution_count": 259,
   "id": "ae0ed902",
   "metadata": {
    "tags": []
   },
   "outputs": [],
   "source": [
    "country.sort()"
   ]
  },
  {
   "cell_type": "code",
   "execution_count": 260,
   "id": "5e303f77",
   "metadata": {
    "tags": []
   },
   "outputs": [],
   "source": [
    "country.insert(0,'Overall')"
   ]
  },
  {
   "cell_type": "code",
   "execution_count": 261,
   "id": "58dee64c",
   "metadata": {
    "tags": []
   },
   "outputs": [
    {
     "data": {
      "text/plain": [
       "['Overall',\n",
       " 'Afghanistan',\n",
       " 'Albania',\n",
       " 'Algeria',\n",
       " 'American Samoa',\n",
       " 'Andorra',\n",
       " 'Angola',\n",
       " 'Antigua',\n",
       " 'Argentina',\n",
       " 'Armenia',\n",
       " 'Aruba',\n",
       " 'Australia',\n",
       " 'Austria',\n",
       " 'Azerbaijan',\n",
       " 'Bahamas',\n",
       " 'Bahrain',\n",
       " 'Bangladesh',\n",
       " 'Barbados',\n",
       " 'Belarus',\n",
       " 'Belgium',\n",
       " 'Belize',\n",
       " 'Benin',\n",
       " 'Bermuda',\n",
       " 'Bhutan',\n",
       " 'Boliva',\n",
       " 'Bosnia and Herzegovina',\n",
       " 'Botswana',\n",
       " 'Brazil',\n",
       " 'Brunei',\n",
       " 'Bulgaria',\n",
       " 'Burkina Faso',\n",
       " 'Burundi',\n",
       " 'Cambodia',\n",
       " 'Cameroon',\n",
       " 'Canada',\n",
       " 'Cape Verde',\n",
       " 'Cayman Islands',\n",
       " 'Central African Republic',\n",
       " 'Chad',\n",
       " 'Chile',\n",
       " 'China',\n",
       " 'Colombia',\n",
       " 'Comoros',\n",
       " 'Cook Islands',\n",
       " 'Costa Rica',\n",
       " 'Croatia',\n",
       " 'Cuba',\n",
       " 'Curacao',\n",
       " 'Cyprus',\n",
       " 'Czech Republic',\n",
       " 'Democratic Republic of the Congo',\n",
       " 'Denmark',\n",
       " 'Djibouti',\n",
       " 'Dominica',\n",
       " 'Dominican Republic',\n",
       " 'Ecuador',\n",
       " 'Egypt',\n",
       " 'El Salvador',\n",
       " 'Equatorial Guinea',\n",
       " 'Eritrea',\n",
       " 'Estonia',\n",
       " 'Ethiopia',\n",
       " 'Fiji',\n",
       " 'Finland',\n",
       " 'France',\n",
       " 'Gabon',\n",
       " 'Gambia',\n",
       " 'Georgia',\n",
       " 'Germany',\n",
       " 'Ghana',\n",
       " 'Greece',\n",
       " 'Grenada',\n",
       " 'Guam',\n",
       " 'Guatemala',\n",
       " 'Guinea',\n",
       " 'Guinea-Bissau',\n",
       " 'Guyana',\n",
       " 'Haiti',\n",
       " 'Honduras',\n",
       " 'Hungary',\n",
       " 'Iceland',\n",
       " 'India',\n",
       " 'Individual Olympic Athletes',\n",
       " 'Indonesia',\n",
       " 'Iran',\n",
       " 'Iraq',\n",
       " 'Ireland',\n",
       " 'Israel',\n",
       " 'Italy',\n",
       " 'Ivory Coast',\n",
       " 'Jamaica',\n",
       " 'Japan',\n",
       " 'Jordan',\n",
       " 'Kazakhstan',\n",
       " 'Kenya',\n",
       " 'Kiribati',\n",
       " 'Kosovo',\n",
       " 'Kuwait',\n",
       " 'Kyrgyzstan',\n",
       " 'Laos',\n",
       " 'Latvia',\n",
       " 'Lebanon',\n",
       " 'Lesotho',\n",
       " 'Liberia',\n",
       " 'Libya',\n",
       " 'Liechtenstein',\n",
       " 'Lithuania',\n",
       " 'Luxembourg',\n",
       " 'Macedonia',\n",
       " 'Madagascar',\n",
       " 'Malawi',\n",
       " 'Malaysia',\n",
       " 'Maldives',\n",
       " 'Mali',\n",
       " 'Malta',\n",
       " 'Marshall Islands',\n",
       " 'Mauritania',\n",
       " 'Mauritius',\n",
       " 'Mexico',\n",
       " 'Micronesia',\n",
       " 'Moldova',\n",
       " 'Monaco',\n",
       " 'Mongolia',\n",
       " 'Montenegro',\n",
       " 'Morocco',\n",
       " 'Mozambique',\n",
       " 'Myanmar',\n",
       " 'Namibia',\n",
       " 'Nauru',\n",
       " 'Nepal',\n",
       " 'Netherlands',\n",
       " 'New Zealand',\n",
       " 'Nicaragua',\n",
       " 'Niger',\n",
       " 'Nigeria',\n",
       " 'North Korea',\n",
       " 'Norway',\n",
       " 'Oman',\n",
       " 'Pakistan',\n",
       " 'Palau',\n",
       " 'Palestine',\n",
       " 'Panama',\n",
       " 'Papua New Guinea',\n",
       " 'Paraguay',\n",
       " 'Peru',\n",
       " 'Philippines',\n",
       " 'Poland',\n",
       " 'Portugal',\n",
       " 'Puerto Rico',\n",
       " 'Qatar',\n",
       " 'Republic of Congo',\n",
       " 'Romania',\n",
       " 'Russia',\n",
       " 'Rwanda',\n",
       " 'Saint Kitts',\n",
       " 'Saint Lucia',\n",
       " 'Saint Vincent',\n",
       " 'Samoa',\n",
       " 'San Marino',\n",
       " 'Sao Tome and Principe',\n",
       " 'Saudi Arabia',\n",
       " 'Senegal',\n",
       " 'Serbia',\n",
       " 'Seychelles',\n",
       " 'Sierra Leone',\n",
       " 'Slovakia',\n",
       " 'Slovenia',\n",
       " 'Solomon Islands',\n",
       " 'Somalia',\n",
       " 'South Africa',\n",
       " 'South Korea',\n",
       " 'South Sudan',\n",
       " 'Spain',\n",
       " 'Sri Lanka',\n",
       " 'Sudan',\n",
       " 'Suriname',\n",
       " 'Swaziland',\n",
       " 'Sweden',\n",
       " 'Switzerland',\n",
       " 'Syria',\n",
       " 'Taiwan',\n",
       " 'Tajikistan',\n",
       " 'Tanzania',\n",
       " 'Thailand',\n",
       " 'Timor-Leste',\n",
       " 'Togo',\n",
       " 'Tonga',\n",
       " 'Trinidad',\n",
       " 'Tunisia',\n",
       " 'Turkey',\n",
       " 'Turkmenistan',\n",
       " 'UK',\n",
       " 'USA',\n",
       " 'Uganda',\n",
       " 'Ukraine',\n",
       " 'United Arab Emirates',\n",
       " 'Uruguay',\n",
       " 'Uzbekistan',\n",
       " 'Vanuatu',\n",
       " 'Venezuela',\n",
       " 'Vietnam',\n",
       " 'Virgin Islands, British',\n",
       " 'Virgin Islands, US',\n",
       " 'Yemen',\n",
       " 'Zambia',\n",
       " 'Zimbabwe']"
      ]
     },
     "execution_count": 261,
     "metadata": {},
     "output_type": "execute_result"
    }
   ],
   "source": [
    "country"
   ]
  },
  {
   "cell_type": "code",
   "execution_count": null,
   "id": "67b884fd",
   "metadata": {},
   "outputs": [],
   "source": []
  },
  {
   "cell_type": "code",
   "execution_count": 262,
   "id": "313ab917",
   "metadata": {
    "tags": []
   },
   "outputs": [],
   "source": [
    "def fetch_medal_tally(df,year,country):\n",
    "    medal_df = df.drop_duplicates(subset= ['Team','NOC', 'Games', 'Year','City','Sport','Event','Medal'] )\n",
    "    flag = 0\n",
    "    \n",
    "    if year == 'Overall' and country== 'Overall':\n",
    "        temp_df = medal_df \n",
    "        \n",
    "    if year == 'Overall' and country != 'Overall':\n",
    "        flag=1\n",
    "        temp_df = medal_df[medal_df['region'] == country]\n",
    "        \n",
    "    if year != 'Overall' and country == 'Overall':\n",
    "        temp_df = medal_df[medal_df['Year'] == int(year)]\n",
    "        \n",
    "    if year != 'Overall' and country != 'Overall':\n",
    "        temp_df = medal_df[(medal_df['Year'] == int(year)) & (medal_df['region'] == country)]\n",
    "        \n",
    "    if flag == 1:\n",
    "        x = temp_df.groupby('Year').sum()[['Gold','Silver','Bronze']].sort_values('Year',ascending=True).reset_index()\n",
    "    else:\n",
    "        x = temp_df.groupby('region').sum()[['Gold','Silver','Bronze']].sort_values('Gold',ascending=False).reset_index()\n",
    "    \n",
    "    x['total'] = x['Gold'] + x['Silver'] + x['Bronze']\n",
    "    \n",
    "    print(x)\n"
   ]
  },
  {
   "cell_type": "code",
   "execution_count": 263,
   "id": "8f69d5ea",
   "metadata": {
    "tags": []
   },
   "outputs": [
    {
     "name": "stdout",
     "output_type": "stream",
     "text": [
      "    Year  Gold  Silver  Bronze  total\n",
      "0   1900     0       2       0      2\n",
      "1   1920     0       0       0      0\n",
      "2   1924     0       0       0      0\n",
      "3   1928     1       0       0      1\n",
      "4   1932     1       0       0      1\n",
      "5   1936     1       0       0      1\n",
      "6   1948     1       0       0      1\n",
      "7   1952     1       0       1      2\n",
      "8   1956     1       0       0      1\n",
      "9   1960     0       1       0      1\n",
      "10  1964     1       0       0      1\n",
      "11  1968     0       0       1      1\n",
      "12  1972     0       0       1      1\n",
      "13  1976     0       0       0      0\n",
      "14  1980     1       0       0      1\n",
      "15  1984     0       0       0      0\n",
      "16  1988     0       0       0      0\n",
      "17  1992     0       0       0      0\n",
      "18  1996     0       0       1      1\n",
      "19  2000     0       0       1      1\n",
      "20  2004     0       1       0      1\n",
      "21  2008     1       0       2      3\n",
      "22  2012     0       2       4      6\n",
      "23  2016     0       1       1      2\n"
     ]
    }
   ],
   "source": [
    "fetch_medal_tally(df,year='Overall', country='India')"
   ]
  },
  {
   "cell_type": "code",
   "execution_count": 264,
   "id": "3f5e58c1",
   "metadata": {
    "tags": []
   },
   "outputs": [
    {
     "data": {
      "text/html": [
       "<div>\n",
       "<style scoped>\n",
       "    .dataframe tbody tr th:only-of-type {\n",
       "        vertical-align: middle;\n",
       "    }\n",
       "\n",
       "    .dataframe tbody tr th {\n",
       "        vertical-align: top;\n",
       "    }\n",
       "\n",
       "    .dataframe thead th {\n",
       "        text-align: right;\n",
       "    }\n",
       "</style>\n",
       "<table border=\"1\" class=\"dataframe\">\n",
       "  <thead>\n",
       "    <tr style=\"text-align: right;\">\n",
       "      <th></th>\n",
       "      <th>region</th>\n",
       "      <th>Gold</th>\n",
       "      <th>Silver</th>\n",
       "      <th>Bronze</th>\n",
       "    </tr>\n",
       "  </thead>\n",
       "  <tbody>\n",
       "    <tr>\n",
       "      <th>0</th>\n",
       "      <td>USA</td>\n",
       "      <td>1035</td>\n",
       "      <td>802</td>\n",
       "      <td>708</td>\n",
       "    </tr>\n",
       "    <tr>\n",
       "      <th>1</th>\n",
       "      <td>Russia</td>\n",
       "      <td>592</td>\n",
       "      <td>498</td>\n",
       "      <td>487</td>\n",
       "    </tr>\n",
       "    <tr>\n",
       "      <th>2</th>\n",
       "      <td>Germany</td>\n",
       "      <td>444</td>\n",
       "      <td>457</td>\n",
       "      <td>491</td>\n",
       "    </tr>\n",
       "    <tr>\n",
       "      <th>3</th>\n",
       "      <td>UK</td>\n",
       "      <td>278</td>\n",
       "      <td>317</td>\n",
       "      <td>300</td>\n",
       "    </tr>\n",
       "    <tr>\n",
       "      <th>4</th>\n",
       "      <td>France</td>\n",
       "      <td>234</td>\n",
       "      <td>256</td>\n",
       "      <td>287</td>\n",
       "    </tr>\n",
       "    <tr>\n",
       "      <th>...</th>\n",
       "      <td>...</td>\n",
       "      <td>...</td>\n",
       "      <td>...</td>\n",
       "      <td>...</td>\n",
       "    </tr>\n",
       "    <tr>\n",
       "      <th>200</th>\n",
       "      <td>Lesotho</td>\n",
       "      <td>0</td>\n",
       "      <td>0</td>\n",
       "      <td>0</td>\n",
       "    </tr>\n",
       "    <tr>\n",
       "      <th>201</th>\n",
       "      <td>Albania</td>\n",
       "      <td>0</td>\n",
       "      <td>0</td>\n",
       "      <td>0</td>\n",
       "    </tr>\n",
       "    <tr>\n",
       "      <th>202</th>\n",
       "      <td>Libya</td>\n",
       "      <td>0</td>\n",
       "      <td>0</td>\n",
       "      <td>0</td>\n",
       "    </tr>\n",
       "    <tr>\n",
       "      <th>203</th>\n",
       "      <td>Liechtenstein</td>\n",
       "      <td>0</td>\n",
       "      <td>0</td>\n",
       "      <td>0</td>\n",
       "    </tr>\n",
       "    <tr>\n",
       "      <th>204</th>\n",
       "      <td>Liberia</td>\n",
       "      <td>0</td>\n",
       "      <td>0</td>\n",
       "      <td>0</td>\n",
       "    </tr>\n",
       "  </tbody>\n",
       "</table>\n",
       "<p>205 rows × 4 columns</p>\n",
       "</div>"
      ],
      "text/plain": [
       "            region  Gold  Silver  Bronze\n",
       "0              USA  1035     802     708\n",
       "1           Russia   592     498     487\n",
       "2          Germany   444     457     491\n",
       "3               UK   278     317     300\n",
       "4           France   234     256     287\n",
       "..             ...   ...     ...     ...\n",
       "200        Lesotho     0       0       0\n",
       "201        Albania     0       0       0\n",
       "202          Libya     0       0       0\n",
       "203  Liechtenstein     0       0       0\n",
       "204        Liberia     0       0       0\n",
       "\n",
       "[205 rows x 4 columns]"
      ]
     },
     "execution_count": 264,
     "metadata": {},
     "output_type": "execute_result"
    }
   ],
   "source": [
    "medal_tally.groupby('region').sum()[['Gold','Silver','Bronze']].sort_values('Gold',ascending=False).reset_index()"
   ]
  },
  {
   "cell_type": "code",
   "execution_count": 265,
   "id": "0a563488",
   "metadata": {
    "tags": []
   },
   "outputs": [
    {
     "ename": "NameError",
     "evalue": "name 'medal_df' is not defined",
     "output_type": "error",
     "traceback": [
      "\u001b[1;31m---------------------------------------------------------------------------\u001b[0m",
      "\u001b[1;31mNameError\u001b[0m                                 Traceback (most recent call last)",
      "Cell \u001b[1;32mIn[265], line 1\u001b[0m\n\u001b[1;32m----> 1\u001b[0m medal_df[(medal_df[\u001b[38;5;124m'\u001b[39m\u001b[38;5;124mYear\u001b[39m\u001b[38;5;124m'\u001b[39m] \u001b[38;5;241m==\u001b[39m \u001b[38;5;241m2016\u001b[39m) \u001b[38;5;241m&\u001b[39m (medal_df[\u001b[38;5;124m'\u001b[39m\u001b[38;5;124mregion\u001b[39m\u001b[38;5;124m'\u001b[39m] \u001b[38;5;241m==\u001b[39m \u001b[38;5;124m'\u001b[39m\u001b[38;5;124mIndia\u001b[39m\u001b[38;5;124m'\u001b[39m)]\n",
      "\u001b[1;31mNameError\u001b[0m: name 'medal_df' is not defined"
     ]
    }
   ],
   "source": [
    "medal_df[(medal_df['Year'] == 2016) & (medal_df['region'] == 'India')]"
   ]
  },
  {
   "cell_type": "markdown",
   "id": "dc2bc342",
   "metadata": {},
   "source": [
    "### Overall Analysis\n",
    "    - no of editions\n",
    "    - no of cities\n",
    "    - no od events/sports\n",
    "    - no of athletes\n",
    "    - participating nations"
   ]
  },
  {
   "cell_type": "code",
   "execution_count": null,
   "id": "1d07db36",
   "metadata": {
    "tags": []
   },
   "outputs": [],
   "source": [
    "df.sample()"
   ]
  },
  {
   "cell_type": "code",
   "execution_count": null,
   "id": "976eb9d4",
   "metadata": {
    "tags": []
   },
   "outputs": [],
   "source": [
    "df['Year'].unique().shape[0] - 1"
   ]
  },
  {
   "cell_type": "code",
   "execution_count": null,
   "id": "547dc384",
   "metadata": {
    "tags": []
   },
   "outputs": [],
   "source": [
    "df['City'].unique().shape"
   ]
  },
  {
   "cell_type": "code",
   "execution_count": null,
   "id": "944fbec3",
   "metadata": {
    "tags": []
   },
   "outputs": [],
   "source": [
    "df['Sport'].unique().shape"
   ]
  },
  {
   "cell_type": "code",
   "execution_count": null,
   "id": "5f6b7045",
   "metadata": {
    "tags": []
   },
   "outputs": [],
   "source": [
    "df['Event'].unique().shape"
   ]
  },
  {
   "cell_type": "code",
   "execution_count": null,
   "id": "4f5de564",
   "metadata": {
    "tags": []
   },
   "outputs": [],
   "source": [
    "df['Name'].unique().shape"
   ]
  },
  {
   "cell_type": "code",
   "execution_count": null,
   "id": "10d4f8d8",
   "metadata": {
    "tags": []
   },
   "outputs": [],
   "source": [
    "df['region'].unique().shape"
   ]
  },
  {
   "cell_type": "code",
   "execution_count": null,
   "id": "5ee66d9b",
   "metadata": {
    "tags": []
   },
   "outputs": [],
   "source": [
    "editions = df['Year'].unique().shape[0] - 1\n",
    "cities = df['City'].unique().shape[0]\n",
    "sports = df['Sport'].unique().shape[0]\n",
    "events = df['Event'].unique().shape[0]\n",
    "athletes = df['Name'].unique().shape[0]\n",
    "nations = df['region'].unique().shape[0]"
   ]
  },
  {
   "cell_type": "code",
   "execution_count": null,
   "id": "f794930b",
   "metadata": {
    "tags": []
   },
   "outputs": [],
   "source": [
    "df.head()"
   ]
  },
  {
   "cell_type": "markdown",
   "id": "d5f51ace",
   "metadata": {},
   "source": [
    "### Graphs"
   ]
  },
  {
   "cell_type": "code",
   "execution_count": null,
   "id": "77edfa3f",
   "metadata": {
    "tags": []
   },
   "outputs": [],
   "source": [
    "nations_over_time = df.drop_duplicates(['Year','region'])[\"Year\"].value_counts().reset_index().sort_values('Year')"
   ]
  },
  {
   "cell_type": "code",
   "execution_count": null,
   "id": "29d75410",
   "metadata": {
    "tags": []
   },
   "outputs": [],
   "source": [
    "nations_over_time.rename(columns = {'Year':'Editions','count':'No of Countries'}, inplace=True)"
   ]
  },
  {
   "cell_type": "code",
   "execution_count": null,
   "id": "ceae9d23",
   "metadata": {
    "tags": []
   },
   "outputs": [],
   "source": [
    "nations_over_time"
   ]
  },
  {
   "cell_type": "code",
   "execution_count": null,
   "id": "f284daf0",
   "metadata": {
    "tags": []
   },
   "outputs": [],
   "source": [
    "# lineplot\n",
    "\n",
    "import plotly.express as px\n",
    "fig = px.line(nations_over_time, x = 'Editions',y='No of Countries')\n",
    "fig.show()"
   ]
  },
  {
   "cell_type": "code",
   "execution_count": null,
   "id": "0e025f1b",
   "metadata": {
    "tags": []
   },
   "outputs": [],
   "source": [
    "events_over_time = df.drop_duplicates(['Year','Event'])[\"Year\"].value_counts().reset_index().sort_values('Year')"
   ]
  },
  {
   "cell_type": "code",
   "execution_count": null,
   "id": "76a7b804-5e35-443a-b90c-4e7213e5cbd4",
   "metadata": {
    "tags": []
   },
   "outputs": [],
   "source": [
    "events_over_time.rename(columns = {'Year':'Event','count':'No of Countries'}, inplace=True)"
   ]
  },
  {
   "cell_type": "code",
   "execution_count": null,
   "id": "76e13545-fe21-4dad-87aa-6197b6471ebb",
   "metadata": {},
   "outputs": [],
   "source": []
  },
  {
   "cell_type": "code",
   "execution_count": null,
   "id": "150f55a5-579e-4b89-81b7-981963449e13",
   "metadata": {
    "tags": []
   },
   "outputs": [],
   "source": [
    "import seaborn as sns\n",
    "import matplotlib.pyplot as plt\n",
    "\n",
    "%matplotlib inline"
   ]
  },
  {
   "cell_type": "code",
   "execution_count": null,
   "id": "5da68dc8-a1b2-4714-9811-7a0dc0c4dbda",
   "metadata": {
    "tags": []
   },
   "outputs": [],
   "source": [
    "x = df.drop_duplicates(['Year','Sport','Event'])"
   ]
  },
  {
   "cell_type": "code",
   "execution_count": null,
   "id": "21b13f65-d57b-4cc4-b4a9-f78ce827dfc8",
   "metadata": {},
   "outputs": [],
   "source": [
    "plt.figure(figsize=(25, 25))\n",
    "\n",
    "#pivot_table =  x.pivot_table(index='Sport',columns='Year',values='Event',aggfunc='count').fillna(0).astype('int')\n",
    "sns.heatmap(x.pivot_table(index='Sport',columns='Year',values='Event',aggfunc='count').fillna(0).astype('int')\n",
    ", annot=True)   "
   ]
  },
  {
   "cell_type": "code",
   "execution_count": null,
   "id": "14b17166-6705-4bcb-be09-6daaf3942735",
   "metadata": {},
   "outputs": [],
   "source": [
    "df."
   ]
  },
  {
   "cell_type": "code",
   "execution_count": null,
   "id": "00e171bd-07db-4808-826f-b3ba117c6b48",
   "metadata": {
    "tags": []
   },
   "outputs": [],
   "source": [
    "# successful athletes\n",
    "\n",
    "def most_sucessful(df,Sport):\n",
    "    temp_df = df.dropna(subset=['Medal'])\n",
    "    \n",
    "    if Sport!= 'Overall':\n",
    "        temp_df = temp_df[temp_df['Sport'] == Sport]\n",
    "    x= temp_df['Name'].value_counts().reset_index().head(15).merge(df,on = 'Name',how='left')[['Name','count','Sport','region']].drop_duplicates('Name')\n",
    "    x.rename(columns = {'Name':'Name','count':'Medals'},inplace=True)\n",
    "    return x"
   ]
  },
  {
   "cell_type": "code",
   "execution_count": null,
   "id": "54a569cf-88b4-47eb-885a-9e5842de0b12",
   "metadata": {
    "tags": []
   },
   "outputs": [],
   "source": [
    "most_sucessful(df,'Overall')"
   ]
  },
  {
   "cell_type": "markdown",
   "id": "80a6e0f6-054d-4d0f-92d2-a1d6ad47141f",
   "metadata": {},
   "source": [
    "### Country Wise analysis\n",
    "\n",
    "    * Country wise medal tally per year(line plot)\n",
    "    * what contriies are good at heatmap\n",
    "    * Most sucessful athletes top 10"
   ]
  },
  {
   "cell_type": "code",
   "execution_count": null,
   "id": "07d42677-c193-4b62-a740-5da5ef0e2946",
   "metadata": {
    "tags": []
   },
   "outputs": [],
   "source": [
    "temp_df =  df.dropna(subset=['Medal'])\n",
    "temp_df = temp_df.drop_duplicates(subset= ['Team','NOC', 'Games', 'Year','City','Sport','Event','Medal'] )"
   ]
  },
  {
   "cell_type": "code",
   "execution_count": null,
   "id": "c0114342-9820-4ddb-bb34-674e34034b10",
   "metadata": {
    "tags": []
   },
   "outputs": [],
   "source": [
    "new_df = temp_df[temp_df['region'] == 'India']\n",
    "final_df = new_df.groupby('Year').count()['Medal'].reset_index()"
   ]
  },
  {
   "cell_type": "code",
   "execution_count": null,
   "id": "01e6e048-3523-4474-8844-99e58af6d608",
   "metadata": {
    "tags": []
   },
   "outputs": [],
   "source": [
    "fig = px.line(final_df, x = 'Year',y='Medal')\n",
    "fig.show()"
   ]
  },
  {
   "cell_type": "code",
   "execution_count": null,
   "id": "0bfae60d-0aa0-4ca9-9b6a-0a8521dc9f92",
   "metadata": {
    "tags": []
   },
   "outputs": [],
   "source": [
    "new_df = temp_df[temp_df['region'] == 'UK']\n",
    "plt.figure(figsize=(20,20))\n",
    "sns.heatmap(new_df.pivot_table(index='Sport', columns='Year', values='Medal', aggfunc='count').fillna(0), annot=True)\n"
   ]
  },
  {
   "cell_type": "code",
   "execution_count": null,
   "id": "546bce24-51ff-447a-9311-fd53927a9b8b",
   "metadata": {
    "tags": []
   },
   "outputs": [],
   "source": [
    "#country wise top 10 athletes\n",
    "# successful athletes\n",
    "\n",
    "def most_sucessful(df,country):\n",
    "    temp_df = df.dropna(subset=['Medal'])\n",
    "    \n",
    "    temp_df = temp_df[temp_df['region'] == country]\n",
    "    x= temp_df['Name'].value_counts().reset_index().head(15).merge(df,on = 'Name',how='left')[['Name','count','Sport']].drop_duplicates('Name')\n",
    "    x.rename(columns = {'Name':'Name','count':'Medals'},inplace=True)\n",
    "    return x\n"
   ]
  },
  {
   "cell_type": "code",
   "execution_count": null,
   "id": "d1cca59d-de8f-45f8-b50e-c42673719daf",
   "metadata": {
    "tags": []
   },
   "outputs": [],
   "source": [
    "most_sucessful(df,'USA')"
   ]
  },
  {
   "cell_type": "markdown",
   "id": "ef27249d-d86a-4745-a6f2-77d1b707c9ac",
   "metadata": {},
   "source": [
    "# Athletes analysis"
   ]
  },
  {
   "cell_type": "code",
   "execution_count": null,
   "id": "8ee5999c-f634-4e36-aa1c-4f8e5a92a380",
   "metadata": {
    "tags": []
   },
   "outputs": [],
   "source": [
    "import plotly.figure_factory as ff"
   ]
  },
  {
   "cell_type": "code",
   "execution_count": null,
   "id": "1ee94322-1264-4f30-992d-90bd0d5eb937",
   "metadata": {
    "tags": []
   },
   "outputs": [],
   "source": [
    "athletes_df = df.drop_duplicates(subset=['Name','region'])"
   ]
  },
  {
   "cell_type": "code",
   "execution_count": 135,
   "id": "63164b63-5677-4078-bb3b-a18332819cb5",
   "metadata": {
    "tags": []
   },
   "outputs": [],
   "source": [
    "x1 = athletes_df['Age'].dropna()\n",
    "x2= athletes_df[athletes_df['Medal'] == 'Gold']['Age'].dropna()\n",
    "x3= athletes_df[athletes_df['Medal'] == 'Silver']['Age'].dropna()\n",
    "x4= athletes_df[athletes_df['Medal'] == 'Bronze']['Age'].dropna()"
   ]
  },
  {
   "cell_type": "code",
   "execution_count": 266,
   "id": "4a621b52-2c03-4c49-85a9-5776b2ff1be0",
   "metadata": {
    "tags": []
   },
   "outputs": [
    {
     "data": {
      "application/vnd.plotly.v1+json": {
       "config": {
        "plotlyServerURL": "https://plot.ly"
       },
       "data": [
        {
         "legendgroup": "Overall Age",
         "marker": {
          "color": "rgb(31, 119, 180)"
         },
         "mode": "lines",
         "name": "Overall Age",
         "showlegend": true,
         "type": "scatter",
         "x": [
          10,
          10.174,
          10.348,
          10.522,
          10.696,
          10.87,
          11.044,
          11.218,
          11.392,
          11.566,
          11.74,
          11.914,
          12.088000000000001,
          12.262,
          12.436,
          12.61,
          12.783999999999999,
          12.958,
          13.132,
          13.306000000000001,
          13.48,
          13.654,
          13.828,
          14.001999999999999,
          14.176,
          14.35,
          14.524000000000001,
          14.698,
          14.872,
          15.046,
          15.219999999999999,
          15.394,
          15.568,
          15.742,
          15.916,
          16.09,
          16.264,
          16.438,
          16.612000000000002,
          16.786,
          16.96,
          17.134,
          17.308,
          17.482,
          17.656,
          17.83,
          18.003999999999998,
          18.178,
          18.352,
          18.526,
          18.7,
          18.874000000000002,
          19.048000000000002,
          19.222,
          19.396,
          19.57,
          19.744,
          19.918,
          20.092,
          20.266,
          20.439999999999998,
          20.614,
          20.788,
          20.962,
          21.136,
          21.310000000000002,
          21.484,
          21.658,
          21.832,
          22.006,
          22.18,
          22.354,
          22.528,
          22.701999999999998,
          22.875999999999998,
          23.05,
          23.224,
          23.398,
          23.572,
          23.746000000000002,
          23.92,
          24.094,
          24.268,
          24.442,
          24.616,
          24.79,
          24.964,
          25.137999999999998,
          25.311999999999998,
          25.486,
          25.66,
          25.834,
          26.008,
          26.182,
          26.356,
          26.53,
          26.704,
          26.878,
          27.052,
          27.226,
          27.4,
          27.574,
          27.748,
          27.922,
          28.096,
          28.27,
          28.444,
          28.618,
          28.792,
          28.966,
          29.14,
          29.314,
          29.488,
          29.662,
          29.836,
          30.01,
          30.184,
          30.358,
          30.532,
          30.706,
          30.88,
          31.054,
          31.228,
          31.402,
          31.576,
          31.75,
          31.924,
          32.098,
          32.272,
          32.446,
          32.620000000000005,
          32.794,
          32.968,
          33.141999999999996,
          33.316,
          33.489999999999995,
          33.664,
          33.838,
          34.012,
          34.186,
          34.36,
          34.534,
          34.708,
          34.882000000000005,
          35.056,
          35.230000000000004,
          35.403999999999996,
          35.578,
          35.751999999999995,
          35.926,
          36.1,
          36.274,
          36.448,
          36.622,
          36.796,
          36.97,
          37.144,
          37.318,
          37.492000000000004,
          37.666,
          37.84,
          38.013999999999996,
          38.188,
          38.361999999999995,
          38.536,
          38.71,
          38.884,
          39.058,
          39.232,
          39.406,
          39.58,
          39.754000000000005,
          39.928,
          40.102000000000004,
          40.275999999999996,
          40.45,
          40.623999999999995,
          40.798,
          40.972,
          41.146,
          41.32,
          41.494,
          41.668,
          41.842,
          42.016,
          42.19,
          42.364,
          42.538,
          42.712,
          42.886,
          43.06,
          43.234,
          43.408,
          43.582,
          43.756,
          43.93,
          44.104,
          44.278,
          44.452,
          44.626,
          44.8,
          44.974,
          45.148,
          45.322,
          45.496,
          45.67,
          45.844,
          46.018,
          46.192,
          46.366,
          46.54,
          46.714,
          46.888,
          47.062,
          47.236,
          47.41,
          47.584,
          47.758,
          47.932,
          48.106,
          48.28,
          48.454,
          48.628,
          48.802,
          48.976,
          49.15,
          49.324,
          49.498,
          49.672,
          49.846,
          50.02,
          50.194,
          50.368,
          50.542,
          50.716,
          50.89,
          51.064,
          51.238,
          51.412,
          51.586,
          51.76,
          51.934,
          52.108,
          52.282,
          52.456,
          52.63,
          52.804,
          52.978,
          53.152,
          53.326,
          53.5,
          53.674,
          53.848,
          54.022,
          54.196,
          54.37,
          54.544,
          54.718,
          54.892,
          55.066,
          55.24,
          55.414,
          55.588,
          55.762,
          55.936,
          56.11,
          56.284,
          56.458,
          56.632,
          56.806,
          56.98,
          57.154,
          57.328,
          57.502,
          57.676,
          57.85,
          58.024,
          58.198,
          58.372,
          58.546,
          58.72,
          58.894,
          59.068,
          59.242,
          59.416,
          59.59,
          59.764,
          59.938,
          60.112,
          60.286,
          60.46,
          60.634,
          60.808,
          60.982,
          61.156,
          61.33,
          61.504,
          61.678,
          61.852,
          62.026,
          62.2,
          62.374,
          62.548,
          62.722,
          62.896,
          63.07,
          63.244,
          63.418,
          63.592,
          63.766,
          63.94,
          64.114,
          64.288,
          64.462,
          64.636,
          64.81,
          64.98400000000001,
          65.158,
          65.332,
          65.506,
          65.68,
          65.854,
          66.02799999999999,
          66.202,
          66.376,
          66.55,
          66.72399999999999,
          66.898,
          67.072,
          67.24600000000001,
          67.42,
          67.594,
          67.768,
          67.94200000000001,
          68.116,
          68.28999999999999,
          68.464,
          68.638,
          68.812,
          68.98599999999999,
          69.16,
          69.334,
          69.50800000000001,
          69.682,
          69.856,
          70.03,
          70.20400000000001,
          70.378,
          70.55199999999999,
          70.726,
          70.9,
          71.074,
          71.24799999999999,
          71.422,
          71.596,
          71.77000000000001,
          71.944,
          72.118,
          72.292,
          72.46600000000001,
          72.64,
          72.814,
          72.988,
          73.162,
          73.336,
          73.50999999999999,
          73.684,
          73.858,
          74.032,
          74.206,
          74.38,
          74.554,
          74.728,
          74.902,
          75.076,
          75.25,
          75.424,
          75.598,
          75.772,
          75.946,
          76.12,
          76.294,
          76.468,
          76.642,
          76.816,
          76.99,
          77.164,
          77.338,
          77.512,
          77.686,
          77.86,
          78.034,
          78.208,
          78.382,
          78.556,
          78.73,
          78.904,
          79.078,
          79.252,
          79.426,
          79.6,
          79.774,
          79.948,
          80.122,
          80.296,
          80.47,
          80.644,
          80.818,
          80.992,
          81.166,
          81.34,
          81.514,
          81.688,
          81.862,
          82.036,
          82.21,
          82.384,
          82.558,
          82.732,
          82.906,
          83.08,
          83.254,
          83.428,
          83.602,
          83.776,
          83.95,
          84.124,
          84.298,
          84.472,
          84.646,
          84.82,
          84.994,
          85.168,
          85.342,
          85.516,
          85.69,
          85.864,
          86.038,
          86.212,
          86.386,
          86.56,
          86.734,
          86.908,
          87.082,
          87.256,
          87.43,
          87.604,
          87.778,
          87.952,
          88.126,
          88.3,
          88.474,
          88.648,
          88.822,
          88.996,
          89.17,
          89.344,
          89.518,
          89.692,
          89.866,
          90.04,
          90.214,
          90.388,
          90.562,
          90.736,
          90.91,
          91.084,
          91.258,
          91.432,
          91.606,
          91.78,
          91.954,
          92.128,
          92.302,
          92.476,
          92.65,
          92.824,
          92.998,
          93.172,
          93.346,
          93.52,
          93.694,
          93.868,
          94.042,
          94.216,
          94.39,
          94.564,
          94.738,
          94.912,
          95.086,
          95.26,
          95.434,
          95.608,
          95.782,
          95.956,
          96.13,
          96.304,
          96.478,
          96.652,
          96.826
         ],
         "xaxis": "x",
         "y": [
          1.0695195716989126e-05,
          1.3464104361132537e-05,
          1.7046194382555058e-05,
          2.189982419088748e-05,
          2.865922513609096e-05,
          3.8184278800250504e-05,
          5.1543676301118593e-05,
          6.987699964819074e-05,
          9.423459723133059e-05,
          0.00012564322913068634,
          0.00016555176962339128,
          0.0002164113290210796,
          0.00028178165218243993,
          0.0003655785983572815,
          0.00047098612072901756,
          0.0006003436908005672,
          0.0007568090270171765,
          0.0009466577140528732,
          0.0011794787204800537,
          0.0014646272966631394,
          0.0018061941370278902,
          0.0022018440467008295,
          0.002648702503520038,
          0.003152154259549165,
          0.003727800566964018,
          0.004390764794288224,
          0.005139332593453991,
          0.005949534915848396,
          0.00679087910112219,
          0.007652903614171944,
          0.008557100035417564,
          0.009538309980630445,
          0.01060978275613107,
          0.011747273701498686,
          0.012913379761745055,
          0.014102163207168292,
          0.015357648072144368,
          0.016741357034897087,
          0.018277896946654083,
          0.019937272617529152,
          0.021679260972163383,
          0.023516521130823316,
          0.02552337259459293,
          0.027768396541796872,
          0.030235633254609304,
          0.032825533478708355,
          0.03545068759647513,
          0.03813314561972882,
          0.0409906339297888,
          0.04410688822193896,
          0.04741391873156328,
          0.050722568646836594,
          0.0538921142416185,
          0.056971914055065825,
          0.060155487604027974,
          0.06357468368970516,
          0.06714166924658581,
          0.07061621013404423,
          0.07384415422971917,
          0.07691665671272775,
          0.0800619750891688,
          0.08336043762169881,
          0.08658032567559168,
          0.08933143552530312,
          0.0914069824050788,
          0.09297113190137199,
          0.09438899873192172,
          0.09586053611462707,
          0.0972301050102457,
          0.0981680515581808,
          0.09853320183153297,
          0.09853283085843231,
          0.09850817339289271,
          0.09857004232776535,
          0.09847088856285695,
          0.09785296856445488,
          0.0966171786667117,
          0.09503134404752887,
          0.09347105536329112,
          0.09206749576011479,
          0.09062380463546682,
          0.08887075479984072,
          0.08677900337509359,
          0.08460012309547023,
          0.08260702881785334,
          0.08082001420016727,
          0.07900646987596978,
          0.07694268706697519,
          0.07465271359761409,
          0.0723770040219579,
          0.07031777599146868,
          0.06843799309963712,
          0.06651983368727078,
          0.06440689243167846,
          0.06216775583818056,
          0.060016045106067534,
          0.05808511496162052,
          0.056300212174632214,
          0.05447384185784765,
          0.05250987208369408,
          0.05049655385243626,
          0.04859900152043319,
          0.04687657915193592,
          0.04522096584433536,
          0.04347305032554319,
          0.04158808423172299,
          0.03967748895682199,
          0.03789397603285486,
          0.03628831306164639,
          0.03478325534765563,
          0.03327732036153466,
          0.03175756916158279,
          0.03030366678281368,
          0.028989774763053946,
          0.02779710898086485,
          0.0266298049345315,
          0.02541178685155185,
          0.024159675659281652,
          0.02295920326843491,
          0.021876951025986188,
          0.020901886020492217,
          0.01997151590124801,
          0.019045698797472487,
          0.01814646596593082,
          0.017326110907046704,
          0.016604451211480638,
          0.01594479849566001,
          0.015291586006591303,
          0.014625969278252727,
          0.013980218485376268,
          0.013399222954391067,
          0.012893190557470671,
          0.012430860836624926,
          0.011975981361826236,
          0.011524307333093528,
          0.011101519811736347,
          0.010727172863303757,
          0.010385955883854693,
          0.010037638342779345,
          0.00965447294494614,
          0.0092463505588221,
          0.008848556683238662,
          0.00848669521749128,
          0.008155415996390308,
          0.007830533923532253,
          0.007498516640503201,
          0.007171251701719043,
          0.006872334079681399,
          0.006611932474547971,
          0.006377615707746397,
          0.006149405667997064,
          0.005921193817922326,
          0.005705421203163756,
          0.00551741221710314,
          0.005357580497788403,
          0.0052107039083804365,
          0.005062016491400462,
          0.004911937655287959,
          0.004773766679982233,
          0.004657724645816495,
          0.004559131071737907,
          0.0044631887140342925,
          0.004360493249451699,
          0.004256177801808517,
          0.004163147209742433,
          0.004087262479235673,
          0.004020612868062083,
          0.003949707248334138,
          0.003869154217850186,
          0.003785814371313702,
          0.003709111201224956,
          0.003638253425929243,
          0.0035603829206091687,
          0.0034619881342605927,
          0.00334203998607697,
          0.003213779326937394,
          0.003093965157199833,
          0.002990768594343871,
          0.0029016821067698122,
          0.0028215299933904963,
          0.002750458123743958,
          0.002693157952901574,
          0.0026511441729246605,
          0.002617704831781862,
          0.0025819040024693783,
          0.00253775654231207,
          0.002488836798597667,
          0.0024434072200045145,
          0.0024052408377906297,
          0.002369730998315883,
          0.002329044697205701,
          0.0022804474053208018,
          0.002228813679170873,
          0.002180823418949834,
          0.0021372571521717626,
          0.0020916543688558596,
          0.0020366807144833244,
          0.0019714448879785927,
          0.0019022402033994695,
          0.00183624708668398,
          0.0017749331099166934,
          0.0017137887338982349,
          0.0016481729081881224,
          0.0015788933088418575,
          0.0015119508816592475,
          0.0014532674802532133,
          0.0014041750792635243,
          0.0013620050897197936,
          0.001324351246125933,
          0.0012919003923008998,
          0.001266836147267356,
          0.0012490131955336275,
          0.0012345572047343057,
          0.0012187291349552048,
          0.0012000884712735302,
          0.0011815093216633414,
          0.0011669842706804002,
          0.0011576250784726717,
          0.0011509789146196916,
          0.001144043031693306,
          0.0011363183439285615,
          0.001129295637868916,
          0.001122829941201981,
          0.001112501699359703,
          0.0010913213372081175,
          0.0010547357808546223,
          0.0010044349574127565,
          0.000947493620642174,
          0.0008917732013556416,
          0.0008417623361769606,
          0.0007980757554627737,
          0.0007600086905661104,
          0.0007279085539109345,
          0.000703088757293709,
          0.0006860681754086719,
          0.000675613995574273,
          0.0006697742824908816,
          0.0006675571977061766,
          0.0006691072427218084,
          0.0006740171379128629,
          0.0006797157732644342,
          0.0006820360071168231,
          0.0006778133917462808,
          0.0006671047210008807,
          0.0006528163135212803,
          0.0006380523036977401,
          0.0006237182719868449,
          0.0006085495971953019,
          0.0005912159820667174,
          0.0005721357209873079,
          0.0005531466434423352,
          0.0005355514898109153,
          0.0005187324843417988,
          0.0005008274344833843,
          0.00048075265669410256,
          0.0004595163407411299,
          0.0004396031689793064,
          0.00042319928225010125,
          0.0004110345215328426,
          0.00040270978193249847,
          0.0003976955225726046,
          0.00039559893670118395,
          0.000395359963018476,
          0.0003944798353396932,
          0.0003895663102888458,
          0.00037816845156324666,
          0.0003604662628884187,
          0.0003393676521357115,
          0.00031895736284160114,
          0.00030261211579767376,
          0.0002921223618541319,
          0.00028797723121065557,
          0.00028991310239301387,
          0.00029695039585909933,
          0.0003071302870067642,
          0.0003177699178982709,
          0.0003265364427970123,
          0.00033258096869671417,
          0.000336629925039013,
          0.000339815378300267,
          0.00034228174662751204,
          0.0003428916309577472,
          0.00034029475819359427,
          0.0003342684620923484,
          0.00032597877078667644,
          0.00031691802496189357,
          0.0003076054466972663,
          0.00029733706717169627,
          0.00028517999881385843,
          0.0002711804062739699,
          0.000256624898377994,
          0.00024320601274091197,
          0.0002319888683675666,
          0.000223117017209213,
          0.00021630966213754537,
          0.0002114048998840513,
          0.00020831090107878127,
          0.00020652304267319605,
          0.00020491560819439566,
          0.00020221766259029744,
          0.00019779085480085934,
          0.00019193110582083834,
          0.0001853598839958777,
          0.00017838846512452887,
          0.00017057400885279133,
          0.00016120249535741505,
          0.0001501402733385489,
          0.00013828402547031346,
          0.00012726355024642413,
          0.00011872448479782203,
          0.00011377155746420856,
          0.00011282900252221939,
          0.00011571756463958055,
          0.00012166416419998955,
          0.0001292714119488369,
          0.0001367364785525035,
          0.00014244878397442562,
          0.00014565136081549134,
          0.00014663261179613608,
          0.0001462366436741349,
          0.00014507755299703664,
          0.00014311963713478271,
          0.0001399389201648647,
          0.00013533980341087182,
          0.00012969661498081662,
          0.0001237091330795093,
          0.00011785722235055747,
          0.00011210802997420125,
          0.00010613125231264977,
          9.975759735239018e-05,
          9.320837302746698e-05,
          8.690317929959609e-05,
          8.10894102706167e-05,
          7.56821390326502e-05,
          7.044832964015892e-05,
          6.531701189234878e-05,
          6.050652607723099e-05,
          5.6382033478741226e-05,
          5.322451067902174e-05,
          5.113462885030348e-05,
          5.0109984429621605e-05,
          5.0153328611610334e-05,
          5.12823664976103e-05,
          5.3468687216641825e-05,
          5.6626223652123144e-05,
          6.068237277558594e-05,
          6.561017168956845e-05,
          7.12890639976517e-05,
          7.72510595412788e-05,
          8.256787374694063e-05,
          8.609606213387293e-05,
          8.700055413738321e-05,
          8.518877967895647e-05,
          8.130721247716837e-05,
          7.629491182981516e-05,
          7.084798964987208e-05,
          6.519412974350525e-05,
          5.92795377979212e-05,
          5.312374301840525e-05,
          4.701128257662901e-05,
          4.1398166109491924e-05,
          3.667709421058314e-05,
          3.302237340006571e-05,
          3.0400283521363085e-05,
          2.866169309531306e-05,
          2.75991753581846e-05,
          2.6947450296204636e-05,
          2.6397580315422884e-05,
          2.5678188810715222e-05,
          2.4663736970097315e-05,
          2.3416101877280105e-05,
          2.2115186957517407e-05,
          2.093375113496357e-05,
          1.995573507182026e-05,
          1.9184069510183906e-05,
          1.8594638194459737e-05,
          1.8161169757963706e-05,
          1.7827292422214245e-05,
          1.747354748587487e-05,
          1.6939302105332797e-05,
          1.6101065343982714e-05,
          1.4944329595834493e-05,
          1.356430834666748e-05,
          1.2093344128607923e-05,
          1.0616506914271462e-05,
          9.142075989615918e-06,
          7.640864348769512e-06,
          6.111061146684261e-06,
          4.612733381196637e-06,
          3.2501966036419386e-06,
          2.1237486682601726e-06,
          1.2891798910037736e-06,
          7.489916508997516e-07,
          4.7336333851173293e-07,
          4.323844715261898e-07,
          6.197568864898569e-07,
          1.0558740914566586e-06,
          1.7680014947309356e-06,
          2.7553360250594827e-06,
          3.956507956590812e-06,
          5.2416654367436735e-06,
          6.4426699297238056e-06,
          7.4118653927419e-06,
          8.075784092014081e-06,
          8.446638068716399e-06,
          8.581211361086219e-06,
          8.51685278862237e-06,
          8.23419577834922e-06,
          7.676256007556475e-06,
          6.808657415065507e-06,
          5.6737108947437215e-06,
          4.397839131982364e-06,
          3.1486798094426653e-06,
          2.072666930366701e-06,
          1.2507732368158772e-06,
          6.907156553261051e-07,
          3.486759706361722e-07,
          1.6079229197288497e-07,
          6.77112926355252e-08,
          2.6032144079417224e-08,
          9.135926400509791e-09,
          2.9265370844497275e-09,
          8.556448087487777e-10,
          2.283277972263796e-10,
          5.5608689976481564e-11,
          1.2360739759205336e-11,
          2.508442308439316e-12,
          4.707708219912342e-13,
          1.218661176763397e-13,
          2.766944720448462e-13,
          1.473454055497478e-12,
          7.471478216827518e-12,
          3.461477984233391e-11,
          1.463648182377094e-10,
          5.648330914583239e-10,
          1.9893517485824495e-09,
          6.394565389650935e-09,
          1.875938042141976e-08,
          5.02266200115081e-08,
          1.2273188975849816e-07,
          2.737088842170605e-07,
          5.570938604140778e-07,
          1.0348463096677728e-06,
          1.7544110068867882e-06,
          2.714531192729786e-06,
          3.8332428536640115e-06,
          4.940214862678193e-06,
          5.810765457860639e-06,
          6.237762849815756e-06,
          6.11128275366753e-06,
          5.464417849873821e-06,
          4.4592665188363295e-06,
          3.3211689064019105e-06,
          2.25749346536601e-06,
          1.4004578603342085e-06,
          7.929057990086567e-07,
          4.0971432425069184e-07,
          1.932185001436798e-07,
          8.316187458579363e-08,
          3.2666893693658964e-08,
          1.1711146481713293e-08,
          3.831766110561522e-09,
          1.1442122052366377e-09,
          3.1183306620279775e-10,
          7.756142135518822e-11,
          1.7606675429233983e-11,
          3.647681936806015e-12,
          6.897069128048961e-13,
          1.1902019712692854e-13,
          1.874631151522362e-14,
          2.707635391898064e-15,
          4.698376994282086e-16,
          9.734103624157584e-16,
          6.803050078567983e-15,
          4.530401512139495e-14,
          2.7552745969375437e-13,
          1.5293485518148839e-12,
          7.74743590880119e-12,
          3.581959383955664e-11,
          1.5114599396209162e-10,
          5.820892979930043e-10,
          2.046000728203296e-09,
          6.563804528091273e-09,
          1.9220156050409733e-08,
          5.137354651099583e-08,
          1.2535859904758878e-07,
          2.7930966939275885e-07,
          5.684322998831291e-07,
          1.057240417098018e-06,
          1.7987646663054235e-06,
          2.803815717709255e-06,
          4.014153661008229e-06,
          5.299817142615368e-06,
          6.493159717647271e-06,
          7.4492738448854454e-06,
          8.098895809425102e-06,
          8.457555712723588e-06,
          8.582535341631603e-06,
          8.509013693506833e-06,
          8.215032832341917e-06
         ],
         "yaxis": "y"
        },
        {
         "legendgroup": "Gold Medalist",
         "marker": {
          "color": "rgb(255, 127, 14)"
         },
         "mode": "lines",
         "name": "Gold Medalist",
         "showlegend": true,
         "type": "scatter",
         "x": [
          13,
          13.102,
          13.204,
          13.306,
          13.408,
          13.51,
          13.612,
          13.714,
          13.816,
          13.918,
          14.02,
          14.122,
          14.224,
          14.326,
          14.428,
          14.53,
          14.632,
          14.734,
          14.836,
          14.938,
          15.04,
          15.142,
          15.244,
          15.346,
          15.448,
          15.55,
          15.652000000000001,
          15.754,
          15.856,
          15.958,
          16.06,
          16.162,
          16.264,
          16.366,
          16.468,
          16.57,
          16.672,
          16.774,
          16.876,
          16.978,
          17.08,
          17.182000000000002,
          17.284,
          17.386,
          17.488,
          17.59,
          17.692,
          17.794,
          17.896,
          17.998,
          18.1,
          18.201999999999998,
          18.304000000000002,
          18.406,
          18.508,
          18.61,
          18.712,
          18.814,
          18.916,
          19.018,
          19.12,
          19.222,
          19.323999999999998,
          19.426000000000002,
          19.528,
          19.63,
          19.732,
          19.834,
          19.936,
          20.038,
          20.14,
          20.242,
          20.344,
          20.445999999999998,
          20.548000000000002,
          20.65,
          20.752,
          20.854,
          20.956,
          21.058,
          21.16,
          21.262,
          21.364,
          21.466,
          21.567999999999998,
          21.67,
          21.772,
          21.874000000000002,
          21.976,
          22.078,
          22.18,
          22.282,
          22.384,
          22.486,
          22.588,
          22.689999999999998,
          22.792,
          22.894,
          22.996000000000002,
          23.098,
          23.2,
          23.302,
          23.404,
          23.506,
          23.608,
          23.71,
          23.811999999999998,
          23.914,
          24.016,
          24.118000000000002,
          24.22,
          24.322,
          24.424,
          24.526,
          24.628,
          24.73,
          24.832,
          24.933999999999997,
          25.036,
          25.137999999999998,
          25.240000000000002,
          25.342,
          25.444000000000003,
          25.546,
          25.648,
          25.75,
          25.852,
          25.954,
          26.055999999999997,
          26.158,
          26.259999999999998,
          26.362000000000002,
          26.464,
          26.566000000000003,
          26.668,
          26.77,
          26.872,
          26.974,
          27.076,
          27.178,
          27.28,
          27.381999999999998,
          27.484,
          27.586,
          27.688000000000002,
          27.79,
          27.892,
          27.994,
          28.096,
          28.198,
          28.3,
          28.402,
          28.503999999999998,
          28.606,
          28.708,
          28.810000000000002,
          28.912,
          29.014,
          29.116,
          29.218,
          29.32,
          29.422,
          29.524,
          29.626,
          29.728,
          29.83,
          29.932,
          30.034,
          30.136,
          30.238,
          30.34,
          30.442,
          30.544,
          30.646,
          30.748,
          30.85,
          30.952,
          31.054,
          31.156,
          31.258,
          31.36,
          31.462,
          31.564,
          31.666,
          31.768,
          31.87,
          31.972,
          32.074,
          32.176,
          32.278,
          32.379999999999995,
          32.482,
          32.584,
          32.686,
          32.788,
          32.89,
          32.992000000000004,
          33.094,
          33.196,
          33.298,
          33.4,
          33.501999999999995,
          33.604,
          33.706,
          33.808,
          33.91,
          34.012,
          34.114000000000004,
          34.216,
          34.318,
          34.42,
          34.522,
          34.623999999999995,
          34.726,
          34.828,
          34.93,
          35.032,
          35.134,
          35.236000000000004,
          35.338,
          35.44,
          35.542,
          35.644,
          35.745999999999995,
          35.848,
          35.95,
          36.052,
          36.153999999999996,
          36.256,
          36.358000000000004,
          36.46,
          36.562,
          36.664,
          36.766,
          36.867999999999995,
          36.97,
          37.072,
          37.174,
          37.275999999999996,
          37.378,
          37.480000000000004,
          37.582,
          37.684,
          37.786,
          37.888000000000005,
          37.989999999999995,
          38.092,
          38.194,
          38.296,
          38.397999999999996,
          38.5,
          38.602000000000004,
          38.704,
          38.806,
          38.908,
          39.010000000000005,
          39.111999999999995,
          39.214,
          39.316,
          39.418,
          39.519999999999996,
          39.622,
          39.724000000000004,
          39.826,
          39.928,
          40.03,
          40.132000000000005,
          40.234,
          40.336,
          40.438,
          40.54,
          40.641999999999996,
          40.744,
          40.846000000000004,
          40.948,
          41.05,
          41.152,
          41.254000000000005,
          41.356,
          41.458,
          41.56,
          41.662,
          41.763999999999996,
          41.866,
          41.968,
          42.07,
          42.172,
          42.274,
          42.376000000000005,
          42.478,
          42.58,
          42.682,
          42.784,
          42.885999999999996,
          42.988,
          43.09,
          43.192,
          43.294,
          43.396,
          43.498000000000005,
          43.6,
          43.702,
          43.804,
          43.906,
          44.007999999999996,
          44.11,
          44.212,
          44.314,
          44.416,
          44.518,
          44.620000000000005,
          44.722,
          44.824,
          44.926,
          45.028,
          45.13,
          45.232,
          45.334,
          45.436,
          45.538,
          45.64,
          45.742,
          45.844,
          45.946,
          46.048,
          46.15,
          46.252,
          46.354,
          46.456,
          46.558,
          46.66,
          46.762,
          46.864,
          46.966,
          47.068,
          47.17,
          47.272,
          47.374,
          47.476,
          47.578,
          47.68,
          47.782,
          47.884,
          47.986,
          48.088,
          48.19,
          48.292,
          48.394,
          48.496,
          48.598,
          48.7,
          48.802,
          48.904,
          49.006,
          49.108,
          49.21,
          49.312,
          49.414,
          49.516,
          49.618,
          49.72,
          49.822,
          49.924,
          50.026,
          50.128,
          50.23,
          50.332,
          50.434,
          50.536,
          50.638,
          50.74,
          50.842,
          50.944,
          51.046,
          51.148,
          51.25,
          51.352,
          51.454,
          51.556,
          51.658,
          51.76,
          51.862,
          51.964,
          52.066,
          52.168,
          52.27,
          52.372,
          52.474,
          52.576,
          52.678,
          52.78,
          52.882,
          52.984,
          53.086,
          53.188,
          53.29,
          53.392,
          53.494,
          53.596,
          53.698,
          53.8,
          53.902,
          54.004,
          54.106,
          54.208,
          54.31,
          54.412,
          54.514,
          54.616,
          54.718,
          54.82,
          54.922,
          55.024,
          55.126,
          55.228,
          55.33,
          55.432,
          55.534,
          55.636,
          55.738,
          55.84,
          55.942,
          56.044,
          56.146,
          56.248,
          56.35,
          56.452,
          56.554,
          56.656,
          56.758,
          56.86,
          56.962,
          57.064,
          57.166,
          57.268,
          57.37,
          57.472,
          57.574,
          57.676,
          57.778,
          57.88,
          57.982,
          58.084,
          58.186,
          58.288,
          58.39,
          58.492,
          58.594,
          58.696,
          58.798,
          58.9,
          59.002,
          59.104,
          59.206,
          59.308,
          59.41,
          59.512,
          59.614,
          59.716,
          59.818,
          59.92,
          60.022,
          60.124,
          60.226,
          60.328,
          60.43,
          60.532,
          60.634,
          60.736,
          60.838,
          60.94,
          61.042,
          61.144,
          61.246,
          61.348,
          61.45,
          61.552,
          61.654,
          61.756,
          61.858,
          61.96,
          62.062,
          62.164,
          62.266,
          62.368,
          62.47,
          62.572,
          62.674,
          62.776,
          62.878,
          62.98,
          63.082,
          63.184,
          63.286,
          63.388,
          63.49,
          63.592,
          63.694,
          63.796,
          63.898
         ],
         "xaxis": "x",
         "y": [
          0.0009899569307249038,
          0.0010840058412850634,
          0.0011849939136809964,
          0.0012938342742882607,
          0.0014115053877012393,
          0.0015390086130240151,
          0.0016773217228948727,
          0.001827352384564564,
          0.0019898959068589232,
          0.002165601446944245,
          0.002354950327582804,
          0.0025582491668248207,
          0.002775639242890051,
          0.0030071220243901606,
          0.003252599238240301,
          0.0035119243884128163,
          0.0037849614389396063,
          0.004071645573024767,
          0.004372040636233515,
          0.0046863881128546515,
          0.005015143259463705,
          0.005358995259121727,
          0.005718869843449952,
          0.006095914600222965,
          0.0064914689621719274,
          0.006907022476683593,
          0.007344166219206516,
          0.007804542999465205,
          0.008289802226607787,
          0.008801564907382346,
          0.009341403268434691,
          0.009910837996276779,
          0.010511354207143005,
          0.011144435169527405,
          0.011811610710539499,
          0.01251451536037982,
          0.013254949832961438,
          0.014034938576563407,
          0.014856775973169369,
          0.01572305436533093,
          0.016636668413688712,
          0.01760079222843922,
          0.01861882809888118,
          0.019694328241168485,
          0.020830893541822822,
          0.022032055535421056,
          0.02330114958177892,
          0.024641188207459648,
          0.026054743719599403,
          0.02754384843942184,
          0.029109919283757776,
          0.030753711085784514,
          0.03247530022025379,
          0.03427409708037327,
          0.036148883077113676,
          0.038097865425580885,
          0.04011874132721194,
          0.04220876244102882,
          0.04436479083570095,
          0.04658333887439134,
          0.04886058754057748,
          0.051192380317001594,
          0.05357419259175637,
          0.056001079396952515,
          0.05846760683369776,
          0.060967774602648656,
          0.06349493850094684,
          0.06604174247033866,
          0.06860006973250478,
          0.07116102170327292,
          0.0737149317532252,
          0.07625141854958364,
          0.07875948082027484,
          0.08122763216140523,
          0.08364407128100634,
          0.08599688020019179,
          0.08827424077467898,
          0.09046465873043641,
          0.09255718435878844,
          0.09454162003247786,
          0.09640870654525188,
          0.09815028256419822,
          0.09975941378264644,
          0.10123049028439844,
          0.10255929192665537,
          0.10374302216020355,
          0.10478031076836121,
          0.1056711858041378,
          0.10641701487913491,
          0.10702041620614584,
          0.10748514059014352,
          0.10781592689182957,
          0.10801833517858146,
          0.10809856353316334,
          0.10806325597587006,
          0.10791930988339392,
          0.10767369148007097,
          0.10733326739750353,
          0.10690465904067734,
          0.10639412474557496,
          0.10580747268477812,
          0.10515000538258991,
          0.10442649470771949,
          0.10364118444189384,
          0.10279781606405596,
          0.1018996723137596,
          0.10094963247068102,
          0.09995023316940445,
          0.09890372899699242,
          0.09781214808284454,
          0.09667733930628122,
          0.0955010094625039,
          0.09428475053056251,
          0.09303005884013726,
          0.0917383492216188,
          0.09041096798959676,
          0.08904920878329377,
          0.08765433488617527,
          0.08622761075963598,
          0.0847703442794144,
          0.08328393969443475,
          0.08176995975879668,
          0.08023019392550967,
          0.07866672803570339,
          0.07708200970209975,
          0.07547890270770263,
          0.07386072337966622,
          0.0722312522135899,
          0.07059471513619377,
          0.06895573074158672,
          0.06731922253509613,
          0.06569029845028423,
          0.06407410332976995,
          0.06247565326211504,
          0.060899663216394874,
          0.05935038094273288,
          0.05783144036134605,
          0.05634574655523035,
          0.054895402095408365,
          0.053481681000453626,
          0.05210505251991259,
          0.05076525255800627,
          0.049461396361264016,
          0.0481921224940721,
          0.04695575546642735,
          0.04575047291223587,
          0.044574463084602445,
          0.04342605965213143,
          0.042303843233592785,
          0.04120670256062122,
          0.04013385226752238,
          0.039084808659028185,
          0.03805932895561773,
          0.03705732303659705,
          0.036078749237485795,
          0.03512350706525338,
          0.03419133966439507,
          0.033281757535146554,
          0.03239399254246247,
          0.03152698793835191,
          0.030679426301078613,
          0.02984979335618187,
          0.02903647196719884,
          0.02823785751286643,
          0.027452483684347734,
          0.026679146637273995,
          0.025917015514022815,
          0.025165718594942016,
          0.02442539661155297,
          0.023696717823922773,
          0.022980853007010704,
          0.02227941213524538,
          0.021594347920882283,
          0.020927834108378948,
          0.020282128294137412,
          0.01965942988135909,
          0.019061743574832982,
          0.018490757675500905,
          0.017947744556530705,
          0.017433488364283836,
          0.01694824248528805,
          0.016491716931952095,
          0.01606309375052758,
          0.01566106699426891,
          0.015283902798017439,
          0.014929514622233186,
          0.014595548723766274,
          0.014279475233235634,
          0.013978680732420538,
          0.01369055879484751,
          0.01341259547276486,
          0.013142447121574417,
          0.01287800823647811,
          0.01261746717076959,
          0.012359347781795848,
          0.012102535297394728,
          0.011846285096207077,
          0.011590213707305895,
          0.011334272173369303,
          0.011078702951610819,
          0.010823982663613375,
          0.010570754127453813,
          0.010319752073283017,
          0.010071727621766323,
          0.009827376885178894,
          0.009587278869587048,
          0.009351847203925429,
          0.009121299144458845,
          0.008895643897243672,
          0.008674690700014599,
          0.008458075462418831,
          0.008245303236924257,
          0.008035802525711587,
          0.007828986537101942,
          0.007624316065006663,
          0.0074213587065486,
          0.007219839637321984,
          0.007019680064853115,
          0.0068210206734832446,
          0.00662422872580976,
          0.0064298888536149,
          0.006238778818241216,
          0.0060518325339518385,
          0.005870093352872198,
          0.0056946609772241235,
          0.00552663541058228,
          0.005367061141196653,
          0.005216874350108987,
          0.005076855447949128,
          0.004947588752808975,
          0.0048294306914237525,
          0.004722487569362858,
          0.00462660371066159,
          0.004541360579961303,
          0.004466087316029602,
          0.004399882862055372,
          0.004341649520274753,
          0.004290137252679577,
          0.004243997394220075,
          0.004201843675809742,
          0.00416231764361289,
          0.004124154809273831,
          0.004086247289131432,
          0.004047698403547622,
          0.00400786480439966,
          0.003966382236064339,
          0.00392317201867013,
          0.0038784267206050447,
          0.0038325751530539536,
          0.003786228619366503,
          0.003740112103593744,
          0.0036949855951089136,
          0.003651561845189565,
          0.003610427400163068,
          0.003571973673422666,
          0.0035363440914911505,
          0.003503402033531162,
          0.0034727225001954533,
          0.0034436083692885168,
          0.0034151299282494767,
          0.003386184333318111,
          0.003355569935392647,
          0.003322069200209783,
          0.003284533348475928,
          0.003241961896208952,
          0.0031935709618053486,
          0.003138845431766506,
          0.0030775716937194828,
          0.0030098494688353405,
          0.0029360831080059314,
          0.0028569543701346795,
          0.002773380022656188,
          0.0026864584898628457,
          0.0025974101787990572,
          0.0025075160500037433,
          0.0024180585377115635,
          0.0023302681653558635,
          0.002245278271032293,
          0.00216408927857711,
          0.002087543032226212,
          0.002016306938329095,
          0.001950867074896139,
          0.0018915290540404668,
          0.001838425240211724,
          0.0017915269046399548,
          0.001750659988891092,
          0.0017155233114973056,
          0.0016857082405706968,
          0.0016607190417771704,
          0.0016399932767107565,
          0.0016229217643445972,
          0.0016088677289060084,
          0.0015971848468234865,
          0.0015872339797441057,
          0.001578398444431578,
          0.0015700977246028089,
          0.0015617995721097322,
          0.001553030471151326,
          0.0015433844456699932,
          0.0015325301758001078,
          0.0015202163577557202,
          0.0015062752014494197,
          0.0014906239240879853,
          0.0014732640804773075,
          0.0014542785849996627,
          0.0014338263349350895,
          0.0014121344417121027,
          0.0013894882093134506,
          0.0013662191532183227,
          0.001342691509095447,
          0.0013192878158316914,
          0.0012963942517993507,
          0.0012743864410876954,
          0.0012536164200819809,
          0.001234401365565707,
          0.0012170145433329771,
          0.0012016787577981934,
          0.0011885623889695185,
          0.001177777914937041,
          0.00116938265506055,
          0.0011633813461025388,
          0.001159730089389405,
          0.0011583411839945186,
          0.0011590883852807985,
          0.001161812191595081,
          0.001166324853150596,
          0.001172414903645623,
          0.0011798511248385663,
          0.001188385956648348,
          0.0011977584521943381,
          0.0012076969428120175,
          0.001217921618959176,
          0.0012281472472771009,
          0.0012380862314015054,
          0.0012474521850307106,
          0.001255964122086992,
          0.0012633512840638712,
          0.0012693585246058557,
          0.0012737520644625128,
          0.0012763253272756805,
          0.001276904481184923,
          0.0012753532564001454,
          0.0012715765965147837,
          0.0012655227393798115,
          0.0012571834139497103,
          0.001246591977720832,
          0.0012338194931584509,
          0.0012189689328497891,
          0.0012021678903506433,
          0.0011835603344406264,
          0.0011632980588267652,
          0.0011415325324548604,
          0.0011184078397484224,
          0.001094055315360706,
          0.0010685903319812345,
          0.0010421115063100673,
          0.001014702366008365,
          0.0009864352903308092,
          0.0009573773208826108,
          0.0009275972568535033,
          0.0008971733185265433,
          0.0008662005967720218,
          0.0008347975118849757,
          0.0008031105831888944,
          0.0007713169549394593,
          0.0007396243209871893,
          0.0007082681212867002,
          0.0006775061245182149,
          0.0006476107381756564,
          0.0006188595773395044,
          0.0005915249573361928,
          0.0005658630418810738,
          0.0005421033738587746,
          0.0005204394460800917,
          0.0005010208472838502,
          0.00048394736287515303,
          0.00046926524140912345,
          0.00045696567687812813,
          0.0004469854200053238,
          0.00043920932977402875,
          0.0004334746133371952,
          0.000429576475697921,
          0.00042727490232544147,
          0.0004263023172203746,
          0.00042637188423346275,
          0.00042718624069901457,
          0.0004284464631511015,
          0.00042986106293023115,
          0.00043115479709584907,
          0.0004320770628508858,
          0.0004324096290044679,
          0.00043197345297972024,
          0.00043063434163237066,
          0.00042830724053315373,
          0.00042495897754832513,
          0.00042060933752146565,
          0.00041533039876798174,
          0.0004092441120918791,
          0.00040251814418484265,
          0.0003953600380594458,
          0.00038800976623173684,
          0.0003807307741563248,
          0.0003737996408390533,
          0.0003674945297895017,
          0.00036208267339685765,
          0.00035780722953011965,
          0.0003548739662752668,
          0.0003534383576855019,
          0.00035359379231353,
          0.00035536168496396814,
          0.00035868431745041937,
          0.00036342119605801694,
          0.00036934958873824467,
          0.00037616969087348736,
          0.000383514574046813,
          0.000390964719409543,
          0.000398066558482919,
          0.0004043540792851295,
          0.00040937224647697584,
          0.0004127007691932377,
          0.00041397665868730396,
          0.00041291406549484285,
          0.00040932007170157785,
          0.0004031054203906379,
          0.0003942895589558905,
          0.00038299981272206583,
          0.00036946494265717905,
          0.0003540037303402623,
          0.00033700953736897943,
          0.00031893198061200376,
          0.000300256940255638,
          0.00028148608126734535,
          0.00026311694085748386,
          0.00024562444401321623,
          0.00022944448918248145,
          0.00021496002792169806,
          0.0002024898706015884,
          0.00019228030042669488,
          0.00018449947484584556,
          0.00017923453207481944,
          0.00017649128905668747,
          0.00017619640048283262,
          0.0001782018316740132,
          0.00018229147014098653,
          0.00018818965643545773,
          0.00019557135604626356,
          0.0002040736280013998,
          0.0002133079836676337,
          0.0002228731831128765,
          0.00023236799648416418,
          0.00024140347001666562,
          0.0002496142807313936,
          0.00025666883508479747,
          0.0002622778547581205,
          0.0002662012850063066,
          0.0002682534453817795,
          0.00026830640985548094,
          0.0002662916486758752,
          0.0002621999884826952,
          0.00025607995598849386,
          0.00024803457318703105,
          0.00023821667892485917,
          0.00022682287174907644,
          0.00021408620752132502,
          0.0002002678425459702,
          0.00018564788361298136,
          0.0001705157804767616,
          0.00015516066113190145,
          0.00013986205265498038,
          0.0001248814393396839,
          0.00011045507861722011,
          9.678842271346431e-05,
          8.405238501624739e-05,
          7.238155487972281e-05,
          6.18743170275908e-05,
          5.2594687516070155e-05,
          4.457555260939683e-05,
          3.78229027170348e-05,
          3.232059967844517e-05,
          2.8035206419413102e-05,
          2.4920442805331948e-05,
          2.292090550036225e-05,
          2.1974794447519902e-05,
          2.2015513457471756e-05,
          2.297214530684183e-05,
          2.476893045381462e-05,
          2.732399142977185e-05,
          3.054763208258671e-05,
          3.434059418362607e-05,
          3.8592668219734895e-05,
          4.318202840500501e-05,
          4.797559552698207e-05,
          5.283063033590718e-05,
          5.7597633493476376e-05,
          6.2124487368303e-05,
          6.626163408275801e-05,
          6.986795790014428e-05,
          7.281694227173467e-05,
          7.500261420516637e-05,
          7.634477868446482e-05
         ],
         "yaxis": "y"
        },
        {
         "legendgroup": "Silver Medalist",
         "marker": {
          "color": "rgb(44, 160, 44)"
         },
         "mode": "lines",
         "name": "Silver Medalist",
         "showlegend": true,
         "type": "scatter",
         "x": [
          11,
          11.124,
          11.248,
          11.372,
          11.496,
          11.62,
          11.744,
          11.868,
          11.992,
          12.116,
          12.24,
          12.364,
          12.488,
          12.612,
          12.736,
          12.86,
          12.984,
          13.108,
          13.232,
          13.356,
          13.48,
          13.604,
          13.728,
          13.852,
          13.975999999999999,
          14.1,
          14.224,
          14.347999999999999,
          14.472,
          14.596,
          14.72,
          14.844,
          14.968,
          15.091999999999999,
          15.216000000000001,
          15.34,
          15.464,
          15.588000000000001,
          15.712,
          15.836,
          15.96,
          16.084,
          16.208,
          16.332,
          16.456,
          16.58,
          16.704,
          16.828,
          16.951999999999998,
          17.076,
          17.2,
          17.323999999999998,
          17.448,
          17.572,
          17.695999999999998,
          17.82,
          17.944,
          18.067999999999998,
          18.192,
          18.316,
          18.44,
          18.564,
          18.688,
          18.812,
          18.936,
          19.060000000000002,
          19.183999999999997,
          19.308,
          19.432000000000002,
          19.555999999999997,
          19.68,
          19.804000000000002,
          19.928,
          20.052,
          20.176000000000002,
          20.3,
          20.424,
          20.548000000000002,
          20.672,
          20.796,
          20.92,
          21.044,
          21.168,
          21.292,
          21.416,
          21.54,
          21.664,
          21.788,
          21.912,
          22.036,
          22.16,
          22.284,
          22.408,
          22.532,
          22.656,
          22.78,
          22.904,
          23.028,
          23.152,
          23.276,
          23.4,
          23.524,
          23.648,
          23.772,
          23.896,
          24.02,
          24.144,
          24.268,
          24.392,
          24.516,
          24.64,
          24.764,
          24.887999999999998,
          25.012,
          25.136,
          25.259999999999998,
          25.384,
          25.508,
          25.631999999999998,
          25.756,
          25.880000000000003,
          26.003999999999998,
          26.128,
          26.252000000000002,
          26.375999999999998,
          26.5,
          26.624000000000002,
          26.747999999999998,
          26.872,
          26.996000000000002,
          27.12,
          27.244,
          27.368,
          27.492,
          27.616,
          27.74,
          27.864,
          27.988,
          28.112,
          28.236,
          28.36,
          28.484,
          28.608,
          28.732,
          28.856,
          28.98,
          29.104,
          29.228,
          29.352,
          29.476,
          29.6,
          29.724,
          29.848,
          29.972,
          30.096,
          30.22,
          30.344,
          30.468,
          30.592,
          30.716,
          30.84,
          30.964,
          31.088,
          31.212,
          31.336,
          31.46,
          31.584,
          31.708,
          31.832,
          31.956,
          32.08,
          32.204,
          32.328,
          32.452,
          32.576,
          32.7,
          32.824,
          32.948,
          33.072,
          33.196,
          33.32,
          33.444,
          33.568,
          33.692,
          33.816,
          33.94,
          34.064,
          34.188,
          34.312,
          34.436,
          34.56,
          34.684,
          34.808,
          34.932,
          35.056,
          35.18,
          35.304,
          35.428,
          35.552,
          35.676,
          35.8,
          35.924,
          36.048,
          36.172,
          36.296,
          36.42,
          36.544,
          36.668,
          36.792,
          36.916,
          37.04,
          37.164,
          37.288,
          37.412,
          37.536,
          37.66,
          37.784,
          37.908,
          38.032,
          38.156,
          38.28,
          38.403999999999996,
          38.528,
          38.652,
          38.775999999999996,
          38.9,
          39.024,
          39.147999999999996,
          39.272,
          39.396,
          39.519999999999996,
          39.644,
          39.768,
          39.891999999999996,
          40.016,
          40.14,
          40.263999999999996,
          40.388000000000005,
          40.512,
          40.635999999999996,
          40.760000000000005,
          40.884,
          41.007999999999996,
          41.132000000000005,
          41.256,
          41.379999999999995,
          41.504000000000005,
          41.628,
          41.751999999999995,
          41.876000000000005,
          42,
          42.123999999999995,
          42.248000000000005,
          42.372,
          42.495999999999995,
          42.620000000000005,
          42.744,
          42.867999999999995,
          42.992000000000004,
          43.116,
          43.24,
          43.364,
          43.488,
          43.612,
          43.736,
          43.86,
          43.984,
          44.108,
          44.232,
          44.356,
          44.48,
          44.604,
          44.728,
          44.852,
          44.976,
          45.1,
          45.224,
          45.348,
          45.472,
          45.596,
          45.72,
          45.844,
          45.968,
          46.092,
          46.216,
          46.34,
          46.464,
          46.588,
          46.712,
          46.836,
          46.96,
          47.084,
          47.208,
          47.332,
          47.456,
          47.58,
          47.704,
          47.828,
          47.952,
          48.076,
          48.2,
          48.324,
          48.448,
          48.572,
          48.696,
          48.82,
          48.944,
          49.068,
          49.192,
          49.316,
          49.44,
          49.564,
          49.688,
          49.812,
          49.936,
          50.06,
          50.184,
          50.308,
          50.432,
          50.556,
          50.68,
          50.804,
          50.928,
          51.052,
          51.176,
          51.3,
          51.424,
          51.548,
          51.672,
          51.796,
          51.92,
          52.044,
          52.168,
          52.292,
          52.416,
          52.54,
          52.664,
          52.788,
          52.912,
          53.036,
          53.16,
          53.284,
          53.408,
          53.532,
          53.656,
          53.78,
          53.904,
          54.028,
          54.152,
          54.276,
          54.4,
          54.524,
          54.648,
          54.772,
          54.896,
          55.02,
          55.144,
          55.268,
          55.392,
          55.516,
          55.64,
          55.764,
          55.888,
          56.012,
          56.136,
          56.26,
          56.384,
          56.508,
          56.632,
          56.756,
          56.88,
          57.004,
          57.128,
          57.252,
          57.376,
          57.5,
          57.624,
          57.748,
          57.872,
          57.996,
          58.12,
          58.244,
          58.368,
          58.492,
          58.616,
          58.74,
          58.864,
          58.988,
          59.112,
          59.236,
          59.36,
          59.484,
          59.608,
          59.732,
          59.856,
          59.98,
          60.104,
          60.228,
          60.352,
          60.476,
          60.6,
          60.724,
          60.848,
          60.972,
          61.096,
          61.22,
          61.344,
          61.468,
          61.592,
          61.716,
          61.84,
          61.964,
          62.088,
          62.212,
          62.336,
          62.46,
          62.584,
          62.708,
          62.832,
          62.956,
          63.08,
          63.204,
          63.328,
          63.452,
          63.576,
          63.7,
          63.824,
          63.948,
          64.072,
          64.196,
          64.32,
          64.444,
          64.568,
          64.69200000000001,
          64.816,
          64.94,
          65.064,
          65.188,
          65.312,
          65.436,
          65.56,
          65.684,
          65.80799999999999,
          65.932,
          66.056,
          66.18,
          66.304,
          66.428,
          66.55199999999999,
          66.676,
          66.8,
          66.924,
          67.048,
          67.172,
          67.29599999999999,
          67.42,
          67.544,
          67.668,
          67.792,
          67.916,
          68.03999999999999,
          68.164,
          68.288,
          68.412,
          68.536,
          68.66,
          68.78399999999999,
          68.908,
          69.032,
          69.156,
          69.28,
          69.404,
          69.52799999999999,
          69.652,
          69.77600000000001,
          69.9,
          70.024,
          70.148,
          70.27199999999999,
          70.396,
          70.52000000000001,
          70.644,
          70.768,
          70.892,
          71.01599999999999,
          71.14,
          71.26400000000001,
          71.388,
          71.512,
          71.636,
          71.75999999999999,
          71.884,
          72.00800000000001,
          72.132,
          72.256,
          72.38,
          72.50399999999999,
          72.628,
          72.75200000000001,
          72.876
         ],
         "xaxis": "x",
         "y": [
          0.0002557449790943491,
          0.0002884889838990061,
          0.00032363334533842304,
          0.0003613728971586497,
          0.0004020058643697259,
          0.0004459543251598638,
          0.0004937787309785565,
          0.0005461833970702595,
          0.0006040102710218997,
          0.0006682192250543424,
          0.0007398545873148696,
          0.0008199995114303397,
          0.000909721856628519,
          0.001010017197102117,
          0.0011217560335111737,
          0.0012456428857292496,
          0.0013821944278545736,
          0.001531742055977261,
          0.001694461329081921,
          0.0018704268912165972,
          0.002059687275119336,
          0.002262350061543032,
          0.0024786649388639894,
          0.00270909092725249,
          0.0029543348707052747,
          0.0032153514410234786,
          0.003493300167206373,
          0.0037894618547869947,
          0.004105124309572091,
          0.004441454403407099,
          0.004799378988212865,
          0.00517949982440865,
          0.005582066652554925,
          0.0060070273646929085,
          0.006454165084312091,
          0.006923319676009506,
          0.007414677264720374,
          0.007929097747430247,
          0.00846843927625909,
          0.009035832430913625,
          0.009635856943549318,
          0.010274581208757618,
          0.010959439128396389,
          0.011698938647774899,
          0.012502219116179672,
          0.013378497086915596,
          0.014336458833025114,
          0.015383669476370028,
          0.016526070869121536,
          0.017767632230347805,
          0.019110199640721335,
          0.020553565067936052,
          0.02209574620224829,
          0.02373343938678782,
          0.02546258376765706,
          0.027278959214318242,
          0.029178735977956484,
          0.031158901113750335,
          0.03321750419736141,
          0.03535369002928218,
          0.037567514988361285,
          0.03985957221923349,
          0.042230474957914786,
          0.04468026391319402,
          0.04720781186548588,
          0.049810296065908664,
          0.05248279754770561,
          0.05521806822063145,
          0.058006484580843266,
          0.060836184402636335,
          0.06369336310908638,
          0.06656269217778256,
          0.06942781431557758,
          0.07227186925234463,
          0.07507800859751597,
          0.07782986614286472,
          0.08051195892120569,
          0.0831100023345432,
          0.08561112878998979,
          0.08800400367579829,
          0.09027883618443035,
          0.09242728678527898,
          0.09444227911324424,
          0.09631773194864082,
          0.09804823615554883,
          0.09962871048213326,
          0.10105407719692097,
          0.10231900192030616,
          0.1034177404522249,
          0.1043441282911361,
          0.10509173598163772,
          0.10565419619194326,
          0.1060256879485631,
          0.10620154185697658,
          0.10617891014487689,
          0.10595743010142945,
          0.10553980199063555,
          0.10493220507391268,
          0.1041444888045993,
          0.10319009942688019,
          0.10208573200845668,
          0.100850729765257,
          0.09950628127938091,
          0.09807448736889122,
          0.09657738004631093,
          0.0950359754603696,
          0.0934694323300589,
          0.09189437009834593,
          0.0903243805150345,
          0.08876974609629922,
          0.08723736154674673,
          0.08573084122300512,
          0.08425078732543662,
          0.08279518903856711,
          0.0813599210577622,
          0.07993930946376815,
          0.07852673261628597,
          0.0771152240591845,
          0.0756980434912411,
          0.07426918146305579,
          0.07282376487302646,
          0.0713583348730484,
          0.06987097736382601,
          0.0683612989254363,
          0.06683025679367953,
          0.06527986835432589,
          0.06371284094131419,
          0.06213217375839829,
          0.060540788281664204,
          0.058941240321307216,
          0.057335556047978874,
          0.05572521697075535,
          0.05411129733874275,
          0.052494734620622485,
          0.05087669274153863,
          0.049258961635498776,
          0.047644327914300774,
          0.0460368517239098,
          0.04444199467048455,
          0.04286656220209567,
          0.041318448785098404,
          0.03980620218087016,
          0.038338449955270505,
          0.03692325283910569,
          0.035567462208638406,
          0.03427616063994203,
          0.03305225485472492,
          0.031896270908304776,
          0.030806375225486307,
          0.02977861611945415,
          0.02880735307008876,
          0.027885819189355582,
          0.027006748818608792,
          0.026162998506158965,
          0.025348095554134725,
          0.02455666230937555,
          0.023784683723224596,
          0.023029607165044708,
          0.022290283796281556,
          0.021566777296398932,
          0.020860076628620182,
          0.020171754229591228,
          0.019503609978820027,
          0.018857335859726918,
          0.018234228118463106,
          0.017634964742164933,
          0.017059457677128943,
          0.016506782315009932,
          0.01597518172420717,
          0.015462139718650033,
          0.014964514635749963,
          0.01447872403187913,
          0.014000968890025226,
          0.01352748411244711,
          0.01305480010102933,
          0.01257999846491824,
          0.012100943884155078,
          0.011616474470614483,
          0.01112653501649878,
          0.010632241405281032,
          0.010135869886064039,
          0.009640771217552276,
          0.00915121597522751,
          0.008672182662448022,
          0.008209103952042968,
          0.0077675880668009335,
          0.007353132091527322,
          0.006970842393686248,
          0.006625175032511426,
          0.00631970676788658,
          0.006056945525055042,
          0.005838188051702573,
          0.005663431763896902,
          0.005531346889410293,
          0.005439313379595205,
          0.005383524223536846,
          0.005359152645853445,
          0.005360575512874036,
          0.005381639813866606,
          0.005415954271372782,
          0.005457184934460558,
          0.00549933276827523,
          0.005536973108979794,
          0.005565441236522292,
          0.005580954582550117,
          0.005580669251989805,
          0.005562675480939756,
          0.0055259423664674266,
          0.005470225958185088,
          0.005395956262494662,
          0.005304117946614137,
          0.0051961369394002265,
          0.005073781314881228,
          0.00493908049155325,
          0.004794262529793616,
          0.004641705701127514,
          0.0044838979426427865,
          0.004323396563827949,
          0.004162780767214935,
          0.004004591156112274,
          0.0038512532475749243,
          0.003704985728977745,
          0.003567698272437172,
          0.003440887516317645,
          0.0033255426670901695,
          0.0032220734756407987,
          0.003130272703171606,
          0.0030493225090757513,
          0.0029778497058293597,
          0.0029140291045304913,
          0.0028557280434383077,
          0.002800679596749881,
          0.002746667807020117,
          0.002691706273524299,
          0.002634191927441139,
          0.002573018793365159,
          0.0025076415314394416,
          0.002438084804823516,
          0.002364901064460248,
          0.002289085211330492,
          0.002211958962233364,
          0.002135040071683744,
          0.0020599116725438576,
          0.001988105075793713,
          0.0019210058971516801,
          0.001859789023550862,
          0.0018053834205635686,
          0.0017584637714944005,
          0.0017194629299678444,
          0.001688597450018466,
          0.0016658981008827985,
          0.0016512381533340032,
          0.0016443540688056274,
          0.0016448556695127742,
          0.0016522255200997324,
          0.0016658097250656985,
          0.0016848043093829967,
          0.001708242552120259,
          0.0017349889381061867,
          0.0017637447527506294,
          0.0017930688662702113,
          0.001821415149677826,
          0.0018471855456445381,
          0.0018687954488576994,
          0.0018847461012492645,
          0.0018936974866270427,
          0.001894534909393526,
          0.0018864230998579838,
          0.0018688431750534715,
          0.0018416098289450835,
          0.001804868374339695,
          0.0017590733447728612,
          0.0017049519859889046,
          0.0016434569409267776,
          0.0015757127207112268,
          0.0015029602500340905,
          0.0014265030613761843,
          0.0013476578043627597,
          0.0012677108273379597,
          0.001187881810344836,
          0.0011092948397241388,
          0.0010329569070629794,
          0.000959743542122344,
          0.000890391093590601,
          0.0008254950096983907,
          0.0007655133246516547,
          0.0007107744318133775,
          0.0006614881388963023,
          0.0006177589720296706,
          0.0005796007315675303,
          0.0005469513952874568,
          0.0005196875945017175,
          0.0004976380309925989,
          0.00048059533634417425,
          0.0004683259884477343,
          0.0004605779928951071,
          0.00045708612021334714,
          0.000457574580062091,
          0.0004617571278410006,
          0.0004693347503775689,
          0.00047999126986285405,
          0.0004933874325639534,
          0.0005091542927462883,
          0.0005268869325669033,
          0.0005461397351813371,
          0.0005664245043604744,
          0.0005872126533553522,
          0.000607942432434681,
          0.0006280317138682138,
          0.0006468962230592011,
          0.0006639723523832144,
          0.0006787429162048531,
          0.0006907635259912342,
          0.0006996868160898511,
          0.0007052816477830338,
          0.0007074447299634867,
          0.0007062028203913937,
          0.0007017047373590638,
          0.0006942036744359661,
          0.0006840315815135096,
          0.0006715684518389354,
          0.0006572100599331104,
          0.0006413379091701578,
          0.0006242948287294248,
          0.000606368850767147,
          0.0005877868191999525,
          0.0005687178057988721,
          0.0005492850385586779,
          0.0005295838790594292,
          0.0005097025854495037,
          0.0004897422771038394,
          0.0004698327184159225,
          0.0004501412307706858,
          0.00043087312178505244,
          0.00041226333151768397,
          0.0003945603445170962,
          0.0003780046058131219,
          0.0003628045329405977,
          0.00034911360965887706,
          0.00033701192497989863,
          0.00032649490707207504,
          0.0003174709942258213,
          0.0003097687419171592,
          0.0003031525768358011,
          0.0002973452685746268,
          0.00029205436205241857,
          0.0002869994093592798,
          0.00028193689962308506,
          0.00027668027727464683,
          0.0002711132652684562,
          0.0002651957266220426,
          0.00025896234038082585,
          0.0002525152784777854,
          0.000246012720348926,
          0.00023965535320152667,
          0.0002336729545995745,
          0.00022831277280981456,
          0.00022383078729301548,
          0.00022048615622973186,
          0.00021853836392476074,
          0.00021824589051618913,
          0.00021986474619314214,
          0.00022364502207722093,
          0.00022982375515119677,
          0.00023861288936534003,
          0.0002501818989525078,
          0.0002646356373332866,
          0.0002819890585215585,
          0.00030214146885727865,
          0.00032485373237152275,
          0.00034973221084777875,
          0.00037622304706113826,
          0.0004036196425858187,
          0.0004310848762431467,
          0.00045768789096975877,
          0.00048245336993096784,
          0.000504419410706128,
          0.0005226986860015774,
          0.000536536805622747,
          0.0005453618289447176,
          0.0005488197511726854,
          0.0005467923889804412,
          0.0005393961841599493,
          0.0005269627066581093,
          0.0005100037260962032,
          0.000489165329033095,
          0.0004651764772498364,
          0.00043879754588845097,
          0.00041077379662934254,
          0.00038179758836246776,
          0.00035248163526922983,
          0.0003233440421318457,
          0.00029480440866358704,
          0.0002671891715060588,
          0.00024074364207085676,
          0.00021564792167646263,
          0.00019203398827644262,
          0.00017000166176336202,
          0.00014963175461574067,
          0.00013099538684003696,
          0.00011415908893386917,
          9.91858602839288e-05,
          8.613275089055477e-05,
          7.504578095421828e-05,
          6.595312171303417e-05,
          5.885746616605599e-05,
          5.3728461488690494e-05,
          5.049599381902229e-05,
          4.904503543139453e-05,
          4.921269053365639e-05,
          5.0787997058355285e-05,
          5.3514932979870494e-05,
          5.70989088577291e-05,
          6.121678396279475e-05,
          6.553012079026476e-05,
          6.970101604290338e-05,
          7.340946346344379e-05,
          7.637087993641794e-05,
          7.835222913989419e-05,
          7.918516232327516e-05,
          7.877479217611925e-05,
          7.710311550261363e-05,
          7.422665768409682e-05,
          7.026854950926631e-05,
          6.540587026435234e-05,
          5.985360593125173e-05,
          5.384690233563597e-05,
          4.762339684649995e-05,
          4.140728466864994e-05,
          3.5396450652898724e-05,
          2.9753537718180632e-05,
          2.460130657412532e-05,
          2.0022146429101408e-05,
          1.6061186852846903e-05,
          1.2732177778827928e-05,
          1.0025161797424904e-05,
          7.914949741433856e-06,
          6.369498368559681e-06,
          5.357439988293496e-06,
          4.854190797996588e-06,
          4.846238108640236e-06,
          5.333359795983291e-06,
          6.3286591313152624e-06,
          7.856412910824746e-06,
          9.947845232134119e-06,
          1.2635068170965877e-05,
          1.5943582528167382e-05,
          1.988390402161516e-05,
          2.4443056381738206e-05,
          2.957682364103099e-05,
          3.5203742164908266e-05,
          4.1201800730602484e-05,
          4.7408675047553647e-05,
          5.362604028912099e-05,
          5.962809497805544e-05,
          6.517393257841957e-05,
          7.00228778382546e-05,
          7.395144238087569e-05,
          7.6770228276656e-05,
          7.833898464978562e-05,
          7.857813714919869e-05,
          7.747546130413153e-05,
          7.508711578703089e-05,
          7.1532913294088e-05,
          6.698638678598938e-05,
          6.166080550651224e-05,
          5.57927220303912e-05,
          4.9624832622484805e-05,
          4.338989181122509e-05,
          3.729716177435782e-05,
          3.15224543905034e-05,
          2.6202315218125013e-05,
          2.1432385372029163e-05,
          1.7269530239235654e-05,
          1.3736992992746928e-05,
          1.0831639063053864e-05,
          8.532302066115031e-06,
          6.808298375758982e-06,
          5.627310640406751e-06,
          4.962011546933914e-06,
          4.794975290075931e-06,
          5.121584288164147e-06,
          5.950775218375344e-06,
          7.3035864120400885e-06,
          9.209581297744575e-06,
          1.1701345376750593e-05,
          1.4807398338711788e-05,
          1.8544029677791312e-05,
          2.2906743615853556e-05,
          2.7862161920958e-05,
          3.334134594126204e-05,
          3.92355231549603e-05,
          4.5395105712421965e-05,
          5.16326508884066e-05,
          5.77300410840491e-05,
          6.344968597975078e-05,
          6.854902913657356e-05,
          7.279715144822485e-05,
          7.59918857437911e-05,
          7.797566226587189e-05
         ],
         "yaxis": "y"
        },
        {
         "legendgroup": "Bronze Medalist",
         "marker": {
          "color": "rgb(214, 39, 40)"
         },
         "mode": "lines",
         "name": "Bronze Medalist",
         "showlegend": true,
         "type": "scatter",
         "x": [
          10,
          10.124,
          10.248,
          10.372,
          10.496,
          10.62,
          10.744,
          10.868,
          10.992,
          11.116,
          11.24,
          11.364,
          11.488,
          11.612,
          11.736,
          11.86,
          11.984,
          12.108,
          12.232,
          12.356,
          12.48,
          12.604,
          12.728,
          12.852,
          12.975999999999999,
          13.1,
          13.224,
          13.347999999999999,
          13.472,
          13.596,
          13.72,
          13.844,
          13.968,
          14.091999999999999,
          14.216000000000001,
          14.34,
          14.464,
          14.588000000000001,
          14.712,
          14.836,
          14.96,
          15.084,
          15.208,
          15.332,
          15.456,
          15.58,
          15.704,
          15.828,
          15.952,
          16.076,
          16.2,
          16.323999999999998,
          16.448,
          16.572,
          16.695999999999998,
          16.82,
          16.944,
          17.067999999999998,
          17.192,
          17.316,
          17.44,
          17.564,
          17.688,
          17.812,
          17.936,
          18.060000000000002,
          18.183999999999997,
          18.308,
          18.432000000000002,
          18.555999999999997,
          18.68,
          18.804000000000002,
          18.928,
          19.052,
          19.176000000000002,
          19.3,
          19.424,
          19.548000000000002,
          19.672,
          19.796,
          19.92,
          20.044,
          20.168,
          20.292,
          20.416,
          20.54,
          20.664,
          20.788,
          20.912,
          21.036,
          21.16,
          21.284,
          21.408,
          21.532,
          21.656,
          21.78,
          21.904,
          22.028,
          22.152,
          22.276,
          22.4,
          22.524,
          22.648,
          22.772,
          22.896,
          23.02,
          23.144,
          23.268,
          23.392,
          23.516,
          23.64,
          23.764,
          23.887999999999998,
          24.012,
          24.136,
          24.259999999999998,
          24.384,
          24.508,
          24.631999999999998,
          24.756,
          24.880000000000003,
          25.003999999999998,
          25.128,
          25.252000000000002,
          25.375999999999998,
          25.5,
          25.624000000000002,
          25.747999999999998,
          25.872,
          25.996000000000002,
          26.12,
          26.244,
          26.368,
          26.492,
          26.616,
          26.74,
          26.864,
          26.988,
          27.112,
          27.236,
          27.36,
          27.484,
          27.608,
          27.732,
          27.856,
          27.98,
          28.104,
          28.228,
          28.352,
          28.476,
          28.6,
          28.724,
          28.848,
          28.972,
          29.096,
          29.22,
          29.344,
          29.468,
          29.592,
          29.716,
          29.84,
          29.964,
          30.088,
          30.212,
          30.336,
          30.46,
          30.584,
          30.708,
          30.832,
          30.956,
          31.08,
          31.204,
          31.328,
          31.452,
          31.576,
          31.7,
          31.824,
          31.948,
          32.072,
          32.196,
          32.32,
          32.444,
          32.568,
          32.692,
          32.816,
          32.94,
          33.064,
          33.188,
          33.312,
          33.436,
          33.56,
          33.684,
          33.808,
          33.932,
          34.056,
          34.18,
          34.304,
          34.428,
          34.552,
          34.676,
          34.8,
          34.924,
          35.048,
          35.172,
          35.296,
          35.42,
          35.544,
          35.668,
          35.792,
          35.916,
          36.04,
          36.164,
          36.288,
          36.412,
          36.536,
          36.66,
          36.784,
          36.908,
          37.032,
          37.156,
          37.28,
          37.403999999999996,
          37.528,
          37.652,
          37.775999999999996,
          37.9,
          38.024,
          38.147999999999996,
          38.272,
          38.396,
          38.519999999999996,
          38.644,
          38.768,
          38.891999999999996,
          39.016,
          39.14,
          39.263999999999996,
          39.388000000000005,
          39.512,
          39.635999999999996,
          39.760000000000005,
          39.884,
          40.007999999999996,
          40.132000000000005,
          40.256,
          40.379999999999995,
          40.504000000000005,
          40.628,
          40.751999999999995,
          40.876000000000005,
          41,
          41.123999999999995,
          41.248000000000005,
          41.372,
          41.495999999999995,
          41.620000000000005,
          41.744,
          41.867999999999995,
          41.992000000000004,
          42.116,
          42.24,
          42.364,
          42.488,
          42.612,
          42.736,
          42.86,
          42.984,
          43.108,
          43.232,
          43.356,
          43.48,
          43.604,
          43.728,
          43.852,
          43.976,
          44.1,
          44.224,
          44.348,
          44.472,
          44.596,
          44.72,
          44.844,
          44.968,
          45.092,
          45.216,
          45.34,
          45.464,
          45.588,
          45.712,
          45.836,
          45.96,
          46.084,
          46.208,
          46.332,
          46.456,
          46.58,
          46.704,
          46.828,
          46.952,
          47.076,
          47.2,
          47.324,
          47.448,
          47.572,
          47.696,
          47.82,
          47.944,
          48.068,
          48.192,
          48.316,
          48.44,
          48.564,
          48.688,
          48.812,
          48.936,
          49.06,
          49.184,
          49.308,
          49.432,
          49.556,
          49.68,
          49.804,
          49.928,
          50.052,
          50.176,
          50.3,
          50.424,
          50.548,
          50.672,
          50.796,
          50.92,
          51.044,
          51.168,
          51.292,
          51.416,
          51.54,
          51.664,
          51.788,
          51.912,
          52.036,
          52.16,
          52.284,
          52.408,
          52.532,
          52.656,
          52.78,
          52.904,
          53.028,
          53.152,
          53.276,
          53.4,
          53.524,
          53.648,
          53.772,
          53.896,
          54.02,
          54.144,
          54.268,
          54.392,
          54.516,
          54.64,
          54.764,
          54.888,
          55.012,
          55.136,
          55.26,
          55.384,
          55.508,
          55.632,
          55.756,
          55.88,
          56.004,
          56.128,
          56.252,
          56.376,
          56.5,
          56.624,
          56.748,
          56.872,
          56.996,
          57.12,
          57.244,
          57.368,
          57.492,
          57.616,
          57.74,
          57.864,
          57.988,
          58.112,
          58.236,
          58.36,
          58.484,
          58.608,
          58.732,
          58.856,
          58.98,
          59.104,
          59.228,
          59.352,
          59.476,
          59.6,
          59.724,
          59.848,
          59.972,
          60.096,
          60.22,
          60.344,
          60.468,
          60.592,
          60.716,
          60.84,
          60.964,
          61.088,
          61.212,
          61.336,
          61.46,
          61.584,
          61.708,
          61.832,
          61.956,
          62.08,
          62.204,
          62.328,
          62.452,
          62.576,
          62.7,
          62.824,
          62.948,
          63.072,
          63.196,
          63.32,
          63.444,
          63.568,
          63.692,
          63.816,
          63.94,
          64.064,
          64.188,
          64.312,
          64.436,
          64.56,
          64.684,
          64.80799999999999,
          64.932,
          65.056,
          65.18,
          65.304,
          65.428,
          65.55199999999999,
          65.676,
          65.8,
          65.924,
          66.048,
          66.172,
          66.29599999999999,
          66.42,
          66.544,
          66.668,
          66.792,
          66.916,
          67.03999999999999,
          67.164,
          67.288,
          67.412,
          67.536,
          67.66,
          67.78399999999999,
          67.908,
          68.032,
          68.156,
          68.28,
          68.404,
          68.52799999999999,
          68.652,
          68.77600000000001,
          68.9,
          69.024,
          69.148,
          69.27199999999999,
          69.396,
          69.52000000000001,
          69.644,
          69.768,
          69.892,
          70.01599999999999,
          70.14,
          70.26400000000001,
          70.388,
          70.512,
          70.636,
          70.75999999999999,
          70.884,
          71.00800000000001,
          71.132,
          71.256,
          71.38,
          71.50399999999999,
          71.628,
          71.75200000000001,
          71.876
         ],
         "xaxis": "x",
         "y": [
          9.19402068397645e-05,
          9.615433823926146e-05,
          0.00010021010042990183,
          0.00010436763291273973,
          0.00010892138271629958,
          0.00011417122636561647,
          0.00012039240106003298,
          0.00012780873450074655,
          0.0001365736144452081,
          0.000146762401375755,
          0.0001583786152355117,
          0.00017137438129875273,
          0.00018568355086843826,
          0.00020126392436928408,
          0.00021814341173601775,
          0.0002364640413536903,
          0.0002565176601592264,
          0.000278768016429478,
          0.00030385560457518046,
          0.0003325839623581781,
          0.0003658887203094295,
          0.00040479322370603967,
          0.00045035659106134804,
          0.00050362131495131,
          0.0005655677471091574,
          0.000637081995603867,
          0.0007189420244133452,
          0.000811824363207396,
          0.0009163311881546426,
          0.0010330350349185837,
          0.001162536418160612,
          0.0013055284091081237,
          0.0014628618591216956,
          0.0016356053850198919,
          0.0018250952506444322,
          0.002032971613059913,
          0.0022611989699273362,
          0.002512069825305815,
          0.002788191466720798,
          0.0030924563199015284,
          0.003427996731546224,
          0.00379812541118649,
          0.00420626334852043,
          0.0046558579793814295,
          0.005150295763476942,
          0.005692815062067939,
          0.0062864269773173645,
          0.00693385317833701,
          0.007637490136104674,
          0.008399408100261177,
          0.009221390258226709,
          0.010105012861837686,
          0.01105176117351492,
          0.012063169772507449,
          0.013140970229131271,
          0.014287225562127753,
          0.015504430126504572,
          0.016795556026882163,
          0.01816403261751118,
          0.019613653404872162,
          0.021148413616978244,
          0.02277229059692294,
          0.024488986802229357,
          0.02630166049213928,
          0.028212671346660778,
          0.030223366779987503,
          0.03233392949856878,
          0.034543298366332444,
          0.03684916396448085,
          0.03924802904579562,
          0.04173531439831552,
          0.044305484366603747,
          0.046952164739038606,
          0.049668229197810124,
          0.05244583823043024,
          0.05527642463649161,
          0.05815063051165087,
          0.06105821008467174,
          0.06398791990839059,
          0.0669274222517712,
          0.06986322911608177,
          0.07278071311409647,
          0.07566420724244587,
          0.07849720789458609,
          0.08126268412288595,
          0.08394348184894472,
          0.08652279637572065,
          0.08898467320799686,
          0.09131448921124982,
          0.0934993660993288,
          0.09552847684280419,
          0.09739322119293468,
          0.09908726552085184,
          0.10060646015215463,
          0.10194866054592248,
          0.1031134850451525,
          0.1041020417600033,
          0.10491665243127796,
          0.10556059451252796,
          0.1060378763495016,
          0.1063530551526341,
          0.10651110318415691,
          0.10651732338547089,
          0.10637731099106275,
          0.1060969527649471,
          0.10568245137653408,
          0.1051403603286479,
          0.10447761542425957,
          0.10370155162916317,
          0.10281989800759274,
          0.1018407465054305,
          0.10077249159626357,
          0.09962373722993799,
          0.09840316640168231,
          0.09711936891837,
          0.09578062622806494,
          0.09439465902824333,
          0.09296835282642786,
          0.09150748653172211,
          0.09001649688343773,
          0.08849831484619758,
          0.08695430780360275,
          0.08538435342379222,
          0.08378705836876935,
          0.08216011907071401,
          0.08050080438211593,
          0.07880652298915168,
          0.07707542422924238,
          0.07530697168195273,
          0.07350242673366383,
          0.07166518560993747,
          0.06980092807771025,
          0.06791755729933485,
          0.06602493468505899,
          0.06413443665820473,
          0.06225837789635945,
          0.0604093551355792,
          0.058599566460387546,
          0.05684015476103846,
          0.05514061383910871,
          0.05350828501106674,
          0.051947963807593686,
          0.05046163181124667,
          0.04904832741155578,
          0.04770416947637096,
          0.04642254711193365,
          0.04519448436985997,
          0.04400917932127985,
          0.042854702030956975,
          0.041718816839130285,
          0.04058987368098749,
          0.03945769473698579,
          0.03831437075740779,
          0.03715487975654876,
          0.035977451846939124,
          0.03478362799979389,
          0.03357799508585561,
          0.032367619869229536,
          0.031161244295165372,
          0.029968336708260004,
          0.028798112928772795,
          0.027658644044670517,
          0.026556153912195773,
          0.025494581173933398,
          0.02447544286826833,
          0.023497995470209056,
          0.022559650685029634,
          0.021656572887108493,
          0.02078436656273033,
          0.019938757311296965,
          0.019116178650626384,
          0.018314196930545673,
          0.017531734460864094,
          0.016769081970453265,
          0.016027720999076407,
          0.015310000591807007,
          0.014618727719204038,
          0.013956735806077081,
          0.013326490970092787,
          0.012729782912069078,
          0.01216752975025645,
          0.011639706740262101,
          0.011145390851289745,
          0.01068289897861192,
          0.010249988615764826,
          0.009844086538192241,
          0.009462513021286499,
          0.009102675214230685,
          0.008762211995396313,
          0.008439082293078586,
          0.008131597935637188,
          0.007838409391193095,
          0.0075584575220603075,
          0.0072909064737028285,
          0.007035072266936259,
          0.006790359134501986,
          0.00655621189013759,
          0.0063320884105611906,
          0.0061174523138209525,
          0.00591178262296096,
          0.005714594914996429,
          0.005525467304657777,
          0.005344064591300093,
          0.005170154877788489,
          0.005003614720914413,
          0.004844421078716366,
          0.004692630615236536,
          0.0045483489438819195,
          0.004411693837234666,
          0.00428275712411734,
          0.004161569903464087,
          0.004048074941547541,
          0.00394210890052323,
          0.003843395633625788,
          0.003751550423744316,
          0.0036660939277914284,
          0.0035864738287725594,
          0.0035120918166124566,
          0.0034423334710733844,
          0.003376598806487574,
          0.0033143315324762734,
          0.003255045364013097,
          0.003198345889185836,
          0.0031439465469075005,
          0.003091677229383117,
          0.003041484024917448,
          0.0029934188136231457,
          0.0029476179678430236,
          0.002904270369525684,
          0.002863576307425969,
          0.0028257004016457843,
          0.0027907232585336105,
          0.0027585977629673696,
          0.0027291164511561434,
          0.002701896032117046,
          0.0026763837259176234,
          0.0026518877127639927,
          0.0026276308668301933,
          0.00260282347191483,
          0.002576747291919886,
          0.0025488407585333808,
          0.0025187736635875232,
          0.002486499987994997,
          0.0024522795164034395,
          0.0024166625394552903,
          0.0023804367960552617,
          0.00234454116943002,
          0.002309955694395615,
          0.002277581332527744,
          0.0022481250524224957,
          0.0022220056165569812,
          0.0021992930787120054,
          0.0021796906539999846,
          0.002162561966910486,
          0.002147000551253854,
          0.0021319327848525194,
          0.0021162410366160514,
          0.002098891324569804,
          0.0020790495624499797,
          0.002056172479152236,
          0.0020300631438837616,
          0.0020008860500966346,
          0.001969142072698209,
          0.0019356084796482396,
          0.0019012528627198634,
          0.0018671319313208951,
          0.001834286490994744,
          0.0018036428191864045,
          0.0017759285032085941,
          0.001751608180056403,
          0.0017308420559036019,
          0.001713467991927664,
          0.0016990065237572063,
          0.001686687411533132,
          0.0016754959851037103,
          0.0016642373327635466,
          0.0016516159529012498,
          0.0016363276128205687,
          0.0016171587829952197,
          0.0015930873011629873,
          0.001563376233850723,
          0.0015276517364234098,
          0.0014859555698793414,
          0.0014387641893961374,
          0.0013869691027959426,
          0.0013318173113539224,
          0.0012748155737568733,
          0.001217607217028359,
          0.0011618343967130524,
          0.0011090012980127814,
          0.0010603542248291324,
          0.0010167926565817372,
          0.000978821376250531,
          0.0009465482657108311,
          0.0009197261648523796,
          0.0008978312490960973,
          0.0008801655944952947,
          0.0008659686730611189,
          0.0008545218547001427,
          0.0008452316359346563,
          0.0008376809740333468,
          0.00083164319580939,
          0.0008270587001629434,
          0.0008239802375810851,
          0.0008224971338767902,
          0.0008226517948638817,
          0.0008243627913648246,
          0.0008273676776891567,
          0.0008311956370778773,
          0.0008351755373009696,
          0.0008384796833653987,
          0.0008401982465740774,
          0.0008394348045794215,
          0.000835410306679837,
          0.0008275615278201475,
          0.000815620849757321,
          0.0007996668460762547,
          0.0007801391921665584,
          0.0007578161986967354,
          0.0007337580088453402,
          0.0007092224820481785,
          0.0006855634636996064,
          0.0006641222356342313,
          0.0006461224877392569,
          0.0006325774548737261,
          0.0006242154223303831,
          0.0006214271790159416,
          0.0006242366864828272,
          0.0006322945587779147,
          0.0006448930090591221,
          0.0006610005848090166,
          0.0006793149900361209,
          0.0006983322224407591,
          0.0007164298308945112,
          0.0007319611708901574,
          0.0007433561597128209,
          0.0007492224737172909,
          0.0007484397975526127,
          0.0007402390770378439,
          0.0007242591023726902,
          0.00070057431630536,
          0.0006696904010833225,
          0.0006325075890589164,
          0.0005902552190122753,
          0.0005444042129967494,
          0.0004965663407912769,
          0.0004483900300929935,
          0.00040146199548678473,
          0.00035722229269480386,
          0.00031689795998285196,
          0.000281457691620116,
          0.00025158748602578695,
          0.00022768528829122963,
          0.00020987148336146417,
          0.00019801167915142832,
          0.00019174838140847188,
          0.00019053865518174306,
          0.00019369544026291943,
          0.000200430653024485,
          0.0002098984783923754,
          0.0002212373486955942,
          0.0002336091090361065,
          0.0002462338963801879,
          0.00025841940602950865,
          0.0002695835248123444,
          0.000279269750746085,
          0.00028715531732497363,
          0.0002930523976827073,
          0.00029690309337480957,
          0.0002987690704096731,
          0.0002988167033948243,
          0.0002972984896074587,
          0.0002945313889819618,
          0.00029087272110197047,
          0.00028669436127491145,
          0.00028235622750005785,
          0.00027818038575082353,
          0.00027442742676604714,
          0.0002712769701543794,
          0.0002688141305633943,
          0.0002670234759522165,
          0.00026579141824959574,
          0.0002649171635834084,
          0.0002641314276481152,
          0.00026312123745367305,
          0.0002615584410490034,
          0.0002591291502470459,
          0.0002555613123425939,
          0.0002506479419587557,
          0.00024426417314968605,
          0.00023637709316840427,
          0.00022704814754146048,
          0.00021642862492751713,
          0.00020474924234035682,
          0.0001923051179630082,
          0.00017943746387553654,
          0.0001665132285645967,
          0.0001539037676513998,
          0.0001419635127249212,
          0.0001310095993788014,
          0.00012130351102579168,
          0.00011303594509165452,
          0.00010631622290723861,
          0.00010116754001605638,
          9.752910253540399e-05,
          9.526567529054884e-05,
          9.418429902920537e-05,
          9.405700367157609e-05,
          9.464739319535607e-05,
          9.573817603296435e-05,
          9.715623066271255e-05,
          9.879176082414771e-05,
          0.00010060857494527697,
          0.000102643503617914,
          0.00010499434439893635,
          0.0001077973165419073,
          0.00011119659036402267,
          0.00011530978130308255,
          0.00012019414437535779,
          0.0001258184079718946,
          0.0001320446744529831,
          0.00013862362462902745,
          0.00014520453907267367,
          0.00015135962897285237,
          0.00015662014961673429,
          0.00016052006020635017,
          0.00016264186560971383,
          0.00016265891326308453,
          0.00016036888469202242,
          0.00015571444318626679,
          0.00014878877920666977,
          0.00013982584489992395,
          0.0001291770623298731,
          0.00011727792170379286,
          0.00010460892646741522,
          9.165567528664881e-05,
          7.887250711659001e-05,
          6.66532002309194e-05,
          5.5310916299328416e-05,
          4.506815896905543e-05,
          3.6056203283218575e-05,
          2.8322426361365536e-05,
          2.184333428392907e-05,
          1.6540857123378574e-05,
          1.22996252526703e-05,
          8.98334886858671e-06,
          6.448980968284513e-06,
          4.557937072277191e-06,
          3.1841799718308277e-06,
          2.2193936958425885e-06,
          1.5757400700039246e-06,
          1.1868144058515672e-06,
          1.007414647977437e-06,
          1.0126420876147875e-06,
          1.196695901704748e-06,
          1.5715406454233215e-06,
          2.165443468221064e-06,
          3.021219868954132e-06,
          4.1939133164697876e-06,
          5.747582165767594e-06,
          7.750890663910953e-06,
          1.0271307583271585e-05,
          1.3367905340614433e-05,
          1.7083010921776137e-05,
          2.1433258826990574e-05,
          2.6400891605062406e-05,
          3.192638995268041e-05,
          3.790363306388439e-05,
          4.417874032827003e-05,
          5.05534980391243e-05,
          5.679383218140493e-05,
          6.264319177969796e-05,
          6.784003479547863e-05,
          7.213796482583995e-05,
          7.532656488741968e-05,
          7.725071308666328e-05,
          7.78262063176096e-05,
          7.704987227050238e-05,
          7.500296924804124e-05,
          7.184745954224882e-05,
          6.781556623746256e-05,
          6.319375164903097e-05,
          5.830277811788267e-05,
          5.347576450470121e-05,
          4.9036127801326714e-05,
          4.527704711373519e-05,
          4.2443694772345375e-05,
          4.0719049778317035e-05,
          4.0213734209222285e-05,
          4.096005208146448e-05,
          4.291027528170446e-05,
          4.593918033523051e-05,
          4.985082895958446e-05,
          5.438953058231492e-05,
          5.925476691430326e-05,
          6.411957309477155e-05,
          6.865147884965283e-05,
          7.253468283966699e-05,
          7.549176007514995e-05,
          7.730298835354278e-05
         ],
         "yaxis": "y"
        }
       ],
       "layout": {
        "autosize": true,
        "barmode": "overlay",
        "hovermode": "closest",
        "legend": {
         "traceorder": "reversed"
        },
        "template": {
         "data": {
          "bar": [
           {
            "error_x": {
             "color": "#2a3f5f"
            },
            "error_y": {
             "color": "#2a3f5f"
            },
            "marker": {
             "line": {
              "color": "#E5ECF6",
              "width": 0.5
             },
             "pattern": {
              "fillmode": "overlay",
              "size": 10,
              "solidity": 0.2
             }
            },
            "type": "bar"
           }
          ],
          "barpolar": [
           {
            "marker": {
             "line": {
              "color": "#E5ECF6",
              "width": 0.5
             },
             "pattern": {
              "fillmode": "overlay",
              "size": 10,
              "solidity": 0.2
             }
            },
            "type": "barpolar"
           }
          ],
          "carpet": [
           {
            "aaxis": {
             "endlinecolor": "#2a3f5f",
             "gridcolor": "white",
             "linecolor": "white",
             "minorgridcolor": "white",
             "startlinecolor": "#2a3f5f"
            },
            "baxis": {
             "endlinecolor": "#2a3f5f",
             "gridcolor": "white",
             "linecolor": "white",
             "minorgridcolor": "white",
             "startlinecolor": "#2a3f5f"
            },
            "type": "carpet"
           }
          ],
          "choropleth": [
           {
            "colorbar": {
             "outlinewidth": 0,
             "ticks": ""
            },
            "type": "choropleth"
           }
          ],
          "contour": [
           {
            "colorbar": {
             "outlinewidth": 0,
             "ticks": ""
            },
            "colorscale": [
             [
              0,
              "#0d0887"
             ],
             [
              0.1111111111111111,
              "#46039f"
             ],
             [
              0.2222222222222222,
              "#7201a8"
             ],
             [
              0.3333333333333333,
              "#9c179e"
             ],
             [
              0.4444444444444444,
              "#bd3786"
             ],
             [
              0.5555555555555556,
              "#d8576b"
             ],
             [
              0.6666666666666666,
              "#ed7953"
             ],
             [
              0.7777777777777778,
              "#fb9f3a"
             ],
             [
              0.8888888888888888,
              "#fdca26"
             ],
             [
              1,
              "#f0f921"
             ]
            ],
            "type": "contour"
           }
          ],
          "contourcarpet": [
           {
            "colorbar": {
             "outlinewidth": 0,
             "ticks": ""
            },
            "type": "contourcarpet"
           }
          ],
          "heatmap": [
           {
            "colorbar": {
             "outlinewidth": 0,
             "ticks": ""
            },
            "colorscale": [
             [
              0,
              "#0d0887"
             ],
             [
              0.1111111111111111,
              "#46039f"
             ],
             [
              0.2222222222222222,
              "#7201a8"
             ],
             [
              0.3333333333333333,
              "#9c179e"
             ],
             [
              0.4444444444444444,
              "#bd3786"
             ],
             [
              0.5555555555555556,
              "#d8576b"
             ],
             [
              0.6666666666666666,
              "#ed7953"
             ],
             [
              0.7777777777777778,
              "#fb9f3a"
             ],
             [
              0.8888888888888888,
              "#fdca26"
             ],
             [
              1,
              "#f0f921"
             ]
            ],
            "type": "heatmap"
           }
          ],
          "heatmapgl": [
           {
            "colorbar": {
             "outlinewidth": 0,
             "ticks": ""
            },
            "colorscale": [
             [
              0,
              "#0d0887"
             ],
             [
              0.1111111111111111,
              "#46039f"
             ],
             [
              0.2222222222222222,
              "#7201a8"
             ],
             [
              0.3333333333333333,
              "#9c179e"
             ],
             [
              0.4444444444444444,
              "#bd3786"
             ],
             [
              0.5555555555555556,
              "#d8576b"
             ],
             [
              0.6666666666666666,
              "#ed7953"
             ],
             [
              0.7777777777777778,
              "#fb9f3a"
             ],
             [
              0.8888888888888888,
              "#fdca26"
             ],
             [
              1,
              "#f0f921"
             ]
            ],
            "type": "heatmapgl"
           }
          ],
          "histogram": [
           {
            "marker": {
             "pattern": {
              "fillmode": "overlay",
              "size": 10,
              "solidity": 0.2
             }
            },
            "type": "histogram"
           }
          ],
          "histogram2d": [
           {
            "colorbar": {
             "outlinewidth": 0,
             "ticks": ""
            },
            "colorscale": [
             [
              0,
              "#0d0887"
             ],
             [
              0.1111111111111111,
              "#46039f"
             ],
             [
              0.2222222222222222,
              "#7201a8"
             ],
             [
              0.3333333333333333,
              "#9c179e"
             ],
             [
              0.4444444444444444,
              "#bd3786"
             ],
             [
              0.5555555555555556,
              "#d8576b"
             ],
             [
              0.6666666666666666,
              "#ed7953"
             ],
             [
              0.7777777777777778,
              "#fb9f3a"
             ],
             [
              0.8888888888888888,
              "#fdca26"
             ],
             [
              1,
              "#f0f921"
             ]
            ],
            "type": "histogram2d"
           }
          ],
          "histogram2dcontour": [
           {
            "colorbar": {
             "outlinewidth": 0,
             "ticks": ""
            },
            "colorscale": [
             [
              0,
              "#0d0887"
             ],
             [
              0.1111111111111111,
              "#46039f"
             ],
             [
              0.2222222222222222,
              "#7201a8"
             ],
             [
              0.3333333333333333,
              "#9c179e"
             ],
             [
              0.4444444444444444,
              "#bd3786"
             ],
             [
              0.5555555555555556,
              "#d8576b"
             ],
             [
              0.6666666666666666,
              "#ed7953"
             ],
             [
              0.7777777777777778,
              "#fb9f3a"
             ],
             [
              0.8888888888888888,
              "#fdca26"
             ],
             [
              1,
              "#f0f921"
             ]
            ],
            "type": "histogram2dcontour"
           }
          ],
          "mesh3d": [
           {
            "colorbar": {
             "outlinewidth": 0,
             "ticks": ""
            },
            "type": "mesh3d"
           }
          ],
          "parcoords": [
           {
            "line": {
             "colorbar": {
              "outlinewidth": 0,
              "ticks": ""
             }
            },
            "type": "parcoords"
           }
          ],
          "pie": [
           {
            "automargin": true,
            "type": "pie"
           }
          ],
          "scatter": [
           {
            "fillpattern": {
             "fillmode": "overlay",
             "size": 10,
             "solidity": 0.2
            },
            "type": "scatter"
           }
          ],
          "scatter3d": [
           {
            "line": {
             "colorbar": {
              "outlinewidth": 0,
              "ticks": ""
             }
            },
            "marker": {
             "colorbar": {
              "outlinewidth": 0,
              "ticks": ""
             }
            },
            "type": "scatter3d"
           }
          ],
          "scattercarpet": [
           {
            "marker": {
             "colorbar": {
              "outlinewidth": 0,
              "ticks": ""
             }
            },
            "type": "scattercarpet"
           }
          ],
          "scattergeo": [
           {
            "marker": {
             "colorbar": {
              "outlinewidth": 0,
              "ticks": ""
             }
            },
            "type": "scattergeo"
           }
          ],
          "scattergl": [
           {
            "marker": {
             "colorbar": {
              "outlinewidth": 0,
              "ticks": ""
             }
            },
            "type": "scattergl"
           }
          ],
          "scattermapbox": [
           {
            "marker": {
             "colorbar": {
              "outlinewidth": 0,
              "ticks": ""
             }
            },
            "type": "scattermapbox"
           }
          ],
          "scatterpolar": [
           {
            "marker": {
             "colorbar": {
              "outlinewidth": 0,
              "ticks": ""
             }
            },
            "type": "scatterpolar"
           }
          ],
          "scatterpolargl": [
           {
            "marker": {
             "colorbar": {
              "outlinewidth": 0,
              "ticks": ""
             }
            },
            "type": "scatterpolargl"
           }
          ],
          "scatterternary": [
           {
            "marker": {
             "colorbar": {
              "outlinewidth": 0,
              "ticks": ""
             }
            },
            "type": "scatterternary"
           }
          ],
          "surface": [
           {
            "colorbar": {
             "outlinewidth": 0,
             "ticks": ""
            },
            "colorscale": [
             [
              0,
              "#0d0887"
             ],
             [
              0.1111111111111111,
              "#46039f"
             ],
             [
              0.2222222222222222,
              "#7201a8"
             ],
             [
              0.3333333333333333,
              "#9c179e"
             ],
             [
              0.4444444444444444,
              "#bd3786"
             ],
             [
              0.5555555555555556,
              "#d8576b"
             ],
             [
              0.6666666666666666,
              "#ed7953"
             ],
             [
              0.7777777777777778,
              "#fb9f3a"
             ],
             [
              0.8888888888888888,
              "#fdca26"
             ],
             [
              1,
              "#f0f921"
             ]
            ],
            "type": "surface"
           }
          ],
          "table": [
           {
            "cells": {
             "fill": {
              "color": "#EBF0F8"
             },
             "line": {
              "color": "white"
             }
            },
            "header": {
             "fill": {
              "color": "#C8D4E3"
             },
             "line": {
              "color": "white"
             }
            },
            "type": "table"
           }
          ]
         },
         "layout": {
          "annotationdefaults": {
           "arrowcolor": "#2a3f5f",
           "arrowhead": 0,
           "arrowwidth": 1
          },
          "autotypenumbers": "strict",
          "coloraxis": {
           "colorbar": {
            "outlinewidth": 0,
            "ticks": ""
           }
          },
          "colorscale": {
           "diverging": [
            [
             0,
             "#8e0152"
            ],
            [
             0.1,
             "#c51b7d"
            ],
            [
             0.2,
             "#de77ae"
            ],
            [
             0.3,
             "#f1b6da"
            ],
            [
             0.4,
             "#fde0ef"
            ],
            [
             0.5,
             "#f7f7f7"
            ],
            [
             0.6,
             "#e6f5d0"
            ],
            [
             0.7,
             "#b8e186"
            ],
            [
             0.8,
             "#7fbc41"
            ],
            [
             0.9,
             "#4d9221"
            ],
            [
             1,
             "#276419"
            ]
           ],
           "sequential": [
            [
             0,
             "#0d0887"
            ],
            [
             0.1111111111111111,
             "#46039f"
            ],
            [
             0.2222222222222222,
             "#7201a8"
            ],
            [
             0.3333333333333333,
             "#9c179e"
            ],
            [
             0.4444444444444444,
             "#bd3786"
            ],
            [
             0.5555555555555556,
             "#d8576b"
            ],
            [
             0.6666666666666666,
             "#ed7953"
            ],
            [
             0.7777777777777778,
             "#fb9f3a"
            ],
            [
             0.8888888888888888,
             "#fdca26"
            ],
            [
             1,
             "#f0f921"
            ]
           ],
           "sequentialminus": [
            [
             0,
             "#0d0887"
            ],
            [
             0.1111111111111111,
             "#46039f"
            ],
            [
             0.2222222222222222,
             "#7201a8"
            ],
            [
             0.3333333333333333,
             "#9c179e"
            ],
            [
             0.4444444444444444,
             "#bd3786"
            ],
            [
             0.5555555555555556,
             "#d8576b"
            ],
            [
             0.6666666666666666,
             "#ed7953"
            ],
            [
             0.7777777777777778,
             "#fb9f3a"
            ],
            [
             0.8888888888888888,
             "#fdca26"
            ],
            [
             1,
             "#f0f921"
            ]
           ]
          },
          "colorway": [
           "#636efa",
           "#EF553B",
           "#00cc96",
           "#ab63fa",
           "#FFA15A",
           "#19d3f3",
           "#FF6692",
           "#B6E880",
           "#FF97FF",
           "#FECB52"
          ],
          "font": {
           "color": "#2a3f5f"
          },
          "geo": {
           "bgcolor": "white",
           "lakecolor": "white",
           "landcolor": "#E5ECF6",
           "showlakes": true,
           "showland": true,
           "subunitcolor": "white"
          },
          "hoverlabel": {
           "align": "left"
          },
          "hovermode": "closest",
          "mapbox": {
           "style": "light"
          },
          "paper_bgcolor": "white",
          "plot_bgcolor": "#E5ECF6",
          "polar": {
           "angularaxis": {
            "gridcolor": "white",
            "linecolor": "white",
            "ticks": ""
           },
           "bgcolor": "#E5ECF6",
           "radialaxis": {
            "gridcolor": "white",
            "linecolor": "white",
            "ticks": ""
           }
          },
          "scene": {
           "xaxis": {
            "backgroundcolor": "#E5ECF6",
            "gridcolor": "white",
            "gridwidth": 2,
            "linecolor": "white",
            "showbackground": true,
            "ticks": "",
            "zerolinecolor": "white"
           },
           "yaxis": {
            "backgroundcolor": "#E5ECF6",
            "gridcolor": "white",
            "gridwidth": 2,
            "linecolor": "white",
            "showbackground": true,
            "ticks": "",
            "zerolinecolor": "white"
           },
           "zaxis": {
            "backgroundcolor": "#E5ECF6",
            "gridcolor": "white",
            "gridwidth": 2,
            "linecolor": "white",
            "showbackground": true,
            "ticks": "",
            "zerolinecolor": "white"
           }
          },
          "shapedefaults": {
           "line": {
            "color": "#2a3f5f"
           }
          },
          "ternary": {
           "aaxis": {
            "gridcolor": "white",
            "linecolor": "white",
            "ticks": ""
           },
           "baxis": {
            "gridcolor": "white",
            "linecolor": "white",
            "ticks": ""
           },
           "bgcolor": "#E5ECF6",
           "caxis": {
            "gridcolor": "white",
            "linecolor": "white",
            "ticks": ""
           }
          },
          "title": {
           "x": 0.05
          },
          "xaxis": {
           "automargin": true,
           "gridcolor": "white",
           "linecolor": "white",
           "ticks": "",
           "title": {
            "standoff": 15
           },
           "zerolinecolor": "white",
           "zerolinewidth": 2
          },
          "yaxis": {
           "automargin": true,
           "gridcolor": "white",
           "linecolor": "white",
           "ticks": "",
           "title": {
            "standoff": 15
           },
           "zerolinecolor": "white",
           "zerolinewidth": 2
          }
         }
        },
        "xaxis": {
         "anchor": "y2",
         "autorange": true,
         "domain": [
          0,
          1
         ],
         "range": [
          10,
          96.826
         ],
         "type": "linear",
         "zeroline": false
        },
        "yaxis": {
         "anchor": "free",
         "autorange": true,
         "domain": [
          0,
          1
         ],
         "position": 0,
         "range": [
          -0.006005475751841911,
          0.11410403928500572
         ],
         "type": "linear"
        }
       }
      },
      "image/png": "[encoded data removed]",
      "text/html": [
       "<div>                            <div id=\"2482b7c5-7cbe-4c39-999b-61d918497971\" class=\"plotly-graph-div\" style=\"height:525px; width:100%;\"></div>            <script type=\"text/javascript\">                require([\"plotly\"], function(Plotly) {                    window.PLOTLYENV=window.PLOTLYENV || {};                                    if (document.getElementById(\"2482b7c5-7cbe-4c39-999b-61d918497971\")) {                    Plotly.newPlot(                        \"2482b7c5-7cbe-4c39-999b-61d918497971\",                        [{\"legendgroup\":\"Overall Age\",\"marker\":{\"color\":\"rgb(31, 119, 180)\"},\"mode\":\"lines\",\"name\":\"Overall Age\",\"showlegend\":true,\"x\":[10.0,10.174,10.348,10.522,10.696,10.87,11.044,11.218,11.392,11.566,11.74,11.914,12.088000000000001,12.262,12.436,12.61,12.783999999999999,12.958,13.132,13.306000000000001,13.48,13.654,13.828,14.001999999999999,14.176,14.35,14.524000000000001,14.698,14.872,15.046,15.219999999999999,15.394,15.568,15.742,15.916,16.09,16.264,16.438,16.612000000000002,16.786,16.96,17.134,17.308,17.482,17.656,17.83,18.003999999999998,18.178,18.352,18.526,18.7,18.874000000000002,19.048000000000002,19.222,19.396,19.57,19.744,19.918,20.092,20.266,20.439999999999998,20.614,20.788,20.962,21.136,21.310000000000002,21.484,21.658,21.832,22.006,22.18,22.354,22.528,22.701999999999998,22.875999999999998,23.05,23.224,23.398,23.572,23.746000000000002,23.92,24.094,24.268,24.442,24.616,24.79,24.964,25.137999999999998,25.311999999999998,25.486,25.66,25.834,26.008,26.182,26.356,26.53,26.704,26.878,27.052,27.226,27.4,27.574,27.748,27.922,28.096,28.27,28.444,28.618,28.792,28.966,29.14,29.314,29.488,29.662,29.836,30.01,30.184,30.358,30.532,30.706,30.88,31.054,31.228,31.402,31.576,31.75,31.924,32.098,32.272,32.446,32.620000000000005,32.794,32.968,33.141999999999996,33.316,33.489999999999995,33.664,33.838,34.012,34.186,34.36,34.534,34.708,34.882000000000005,35.056,35.230000000000004,35.403999999999996,35.578,35.751999999999995,35.926,36.1,36.274,36.448,36.622,36.796,36.97,37.144,37.318,37.492000000000004,37.666,37.84,38.013999999999996,38.188,38.361999999999995,38.536,38.71,38.884,39.058,39.232,39.406,39.58,39.754000000000005,39.928,40.102000000000004,40.275999999999996,40.45,40.623999999999995,40.798,40.972,41.146,41.32,41.494,41.668,41.842,42.016,42.19,42.364,42.538,42.712,42.886,43.06,43.234,43.408,43.582,43.756,43.93,44.104,44.278,44.452,44.626,44.8,44.974,45.148,45.322,45.496,45.67,45.844,46.018,46.192,46.366,46.54,46.714,46.888,47.062,47.236,47.41,47.584,47.758,47.932,48.106,48.28,48.454,48.628,48.802,48.976,49.15,49.324,49.498,49.672,49.846,50.02,50.194,50.368,50.542,50.716,50.89,51.064,51.238,51.412,51.586,51.76,51.934,52.108,52.282,52.456,52.63,52.804,52.978,53.152,53.326,53.5,53.674,53.848,54.022,54.196,54.37,54.544,54.718,54.892,55.066,55.24,55.414,55.588,55.762,55.936,56.11,56.284,56.458,56.632,56.806,56.98,57.154,57.328,57.502,57.676,57.85,58.024,58.198,58.372,58.546,58.72,58.894,59.068,59.242,59.416,59.59,59.764,59.938,60.112,60.286,60.46,60.634,60.808,60.982,61.156,61.33,61.504,61.678,61.852,62.026,62.2,62.374,62.548,62.722,62.896,63.07,63.244,63.418,63.592,63.766,63.94,64.114,64.288,64.462,64.636,64.81,64.98400000000001,65.158,65.332,65.506,65.68,65.854,66.02799999999999,66.202,66.376,66.55,66.72399999999999,66.898,67.072,67.24600000000001,67.42,67.594,67.768,67.94200000000001,68.116,68.28999999999999,68.464,68.638,68.812,68.98599999999999,69.16,69.334,69.50800000000001,69.682,69.856,70.03,70.20400000000001,70.378,70.55199999999999,70.726,70.9,71.074,71.24799999999999,71.422,71.596,71.77000000000001,71.944,72.118,72.292,72.46600000000001,72.64,72.814,72.988,73.162,73.336,73.50999999999999,73.684,73.858,74.032,74.206,74.38,74.554,74.728,74.902,75.076,75.25,75.424,75.598,75.772,75.946,76.12,76.294,76.468,76.642,76.816,76.99,77.164,77.338,77.512,77.686,77.86,78.034,78.208,78.382,78.556,78.73,78.904,79.078,79.252,79.426,79.6,79.774,79.948,80.122,80.296,80.47,80.644,80.818,80.992,81.166,81.34,81.514,81.688,81.862,82.036,82.21,82.384,82.558,82.732,82.906,83.08,83.254,83.428,83.602,83.776,83.95,84.124,84.298,84.472,84.646,84.82,84.994,85.168,85.342,85.516,85.69,85.864,86.038,86.212,86.386,86.56,86.734,86.908,87.082,87.256,87.43,87.604,87.778,87.952,88.126,88.3,88.474,88.648,88.822,88.996,89.17,89.344,89.518,89.692,89.866,90.04,90.214,90.388,90.562,90.736,90.91,91.084,91.258,91.432,91.606,91.78,91.954,92.128,92.302,92.476,92.65,92.824,92.998,93.172,93.346,93.52,93.694,93.868,94.042,94.216,94.39,94.564,94.738,94.912,95.086,95.26,95.434,95.608,95.782,95.956,96.13,96.304,96.478,96.652,96.826],\"xaxis\":\"x\",\"y\":[1.0695195716989126e-05,1.3464104361132537e-05,1.7046194382555058e-05,2.189982419088748e-05,2.865922513609096e-05,3.8184278800250504e-05,5.1543676301118593e-05,6.987699964819074e-05,9.423459723133059e-05,0.00012564322913068634,0.00016555176962339128,0.0002164113290210796,0.00028178165218243993,0.0003655785983572815,0.00047098612072901756,0.0006003436908005672,0.0007568090270171765,0.0009466577140528732,0.0011794787204800537,0.0014646272966631394,0.0018061941370278902,0.0022018440467008295,0.002648702503520038,0.003152154259549165,0.003727800566964018,0.004390764794288224,0.005139332593453991,0.005949534915848396,0.00679087910112219,0.007652903614171944,0.008557100035417564,0.009538309980630445,0.01060978275613107,0.011747273701498686,0.012913379761745055,0.014102163207168292,0.015357648072144368,0.016741357034897087,0.018277896946654083,0.019937272617529152,0.021679260972163383,0.023516521130823316,0.02552337259459293,0.027768396541796872,0.030235633254609304,0.032825533478708355,0.03545068759647513,0.03813314561972882,0.0409906339297888,0.04410688822193896,0.04741391873156328,0.050722568646836594,0.0538921142416185,0.056971914055065825,0.060155487604027974,0.06357468368970516,0.06714166924658581,0.07061621013404423,0.07384415422971917,0.07691665671272775,0.0800619750891688,0.08336043762169881,0.08658032567559168,0.08933143552530312,0.0914069824050788,0.09297113190137199,0.09438899873192172,0.09586053611462707,0.0972301050102457,0.0981680515581808,0.09853320183153297,0.09853283085843231,0.09850817339289271,0.09857004232776535,0.09847088856285695,0.09785296856445488,0.0966171786667117,0.09503134404752887,0.09347105536329112,0.09206749576011479,0.09062380463546682,0.08887075479984072,0.08677900337509359,0.08460012309547023,0.08260702881785334,0.08082001420016727,0.07900646987596978,0.07694268706697519,0.07465271359761409,0.0723770040219579,0.07031777599146868,0.06843799309963712,0.06651983368727078,0.06440689243167846,0.06216775583818056,0.060016045106067534,0.05808511496162052,0.056300212174632214,0.05447384185784765,0.05250987208369408,0.05049655385243626,0.04859900152043319,0.04687657915193592,0.04522096584433536,0.04347305032554319,0.04158808423172299,0.03967748895682199,0.03789397603285486,0.03628831306164639,0.03478325534765563,0.03327732036153466,0.03175756916158279,0.03030366678281368,0.028989774763053946,0.02779710898086485,0.0266298049345315,0.02541178685155185,0.024159675659281652,0.02295920326843491,0.021876951025986188,0.020901886020492217,0.01997151590124801,0.019045698797472487,0.01814646596593082,0.017326110907046704,0.016604451211480638,0.01594479849566001,0.015291586006591303,0.014625969278252727,0.013980218485376268,0.013399222954391067,0.012893190557470671,0.012430860836624926,0.011975981361826236,0.011524307333093528,0.011101519811736347,0.010727172863303757,0.010385955883854693,0.010037638342779345,0.00965447294494614,0.0092463505588221,0.008848556683238662,0.00848669521749128,0.008155415996390308,0.007830533923532253,0.007498516640503201,0.007171251701719043,0.006872334079681399,0.006611932474547971,0.006377615707746397,0.006149405667997064,0.005921193817922326,0.005705421203163756,0.00551741221710314,0.005357580497788403,0.0052107039083804365,0.005062016491400462,0.004911937655287959,0.004773766679982233,0.004657724645816495,0.004559131071737907,0.0044631887140342925,0.004360493249451699,0.004256177801808517,0.004163147209742433,0.004087262479235673,0.004020612868062083,0.003949707248334138,0.003869154217850186,0.003785814371313702,0.003709111201224956,0.003638253425929243,0.0035603829206091687,0.0034619881342605927,0.00334203998607697,0.003213779326937394,0.003093965157199833,0.002990768594343871,0.0029016821067698122,0.0028215299933904963,0.002750458123743958,0.002693157952901574,0.0026511441729246605,0.002617704831781862,0.0025819040024693783,0.00253775654231207,0.002488836798597667,0.0024434072200045145,0.0024052408377906297,0.002369730998315883,0.002329044697205701,0.0022804474053208018,0.002228813679170873,0.002180823418949834,0.0021372571521717626,0.0020916543688558596,0.0020366807144833244,0.0019714448879785927,0.0019022402033994695,0.00183624708668398,0.0017749331099166934,0.0017137887338982349,0.0016481729081881224,0.0015788933088418575,0.0015119508816592475,0.0014532674802532133,0.0014041750792635243,0.0013620050897197936,0.001324351246125933,0.0012919003923008998,0.001266836147267356,0.0012490131955336275,0.0012345572047343057,0.0012187291349552048,0.0012000884712735302,0.0011815093216633414,0.0011669842706804002,0.0011576250784726717,0.0011509789146196916,0.001144043031693306,0.0011363183439285615,0.001129295637868916,0.001122829941201981,0.001112501699359703,0.0010913213372081175,0.0010547357808546223,0.0010044349574127565,0.000947493620642174,0.0008917732013556416,0.0008417623361769606,0.0007980757554627737,0.0007600086905661104,0.0007279085539109345,0.000703088757293709,0.0006860681754086719,0.000675613995574273,0.0006697742824908816,0.0006675571977061766,0.0006691072427218084,0.0006740171379128629,0.0006797157732644342,0.0006820360071168231,0.0006778133917462808,0.0006671047210008807,0.0006528163135212803,0.0006380523036977401,0.0006237182719868449,0.0006085495971953019,0.0005912159820667174,0.0005721357209873079,0.0005531466434423352,0.0005355514898109153,0.0005187324843417988,0.0005008274344833843,0.00048075265669410256,0.0004595163407411299,0.0004396031689793064,0.00042319928225010125,0.0004110345215328426,0.00040270978193249847,0.0003976955225726046,0.00039559893670118395,0.000395359963018476,0.0003944798353396932,0.0003895663102888458,0.00037816845156324666,0.0003604662628884187,0.0003393676521357115,0.00031895736284160114,0.00030261211579767376,0.0002921223618541319,0.00028797723121065557,0.00028991310239301387,0.00029695039585909933,0.0003071302870067642,0.0003177699178982709,0.0003265364427970123,0.00033258096869671417,0.000336629925039013,0.000339815378300267,0.00034228174662751204,0.0003428916309577472,0.00034029475819359427,0.0003342684620923484,0.00032597877078667644,0.00031691802496189357,0.0003076054466972663,0.00029733706717169627,0.00028517999881385843,0.0002711804062739699,0.000256624898377994,0.00024320601274091197,0.0002319888683675666,0.000223117017209213,0.00021630966213754537,0.0002114048998840513,0.00020831090107878127,0.00020652304267319605,0.00020491560819439566,0.00020221766259029744,0.00019779085480085934,0.00019193110582083834,0.0001853598839958777,0.00017838846512452887,0.00017057400885279133,0.00016120249535741505,0.0001501402733385489,0.00013828402547031346,0.00012726355024642413,0.00011872448479782203,0.00011377155746420856,0.00011282900252221939,0.00011571756463958055,0.00012166416419998955,0.0001292714119488369,0.0001367364785525035,0.00014244878397442562,0.00014565136081549134,0.00014663261179613608,0.0001462366436741349,0.00014507755299703664,0.00014311963713478271,0.0001399389201648647,0.00013533980341087182,0.00012969661498081662,0.0001237091330795093,0.00011785722235055747,0.00011210802997420125,0.00010613125231264977,9.975759735239018e-05,9.320837302746698e-05,8.690317929959609e-05,8.10894102706167e-05,7.56821390326502e-05,7.044832964015892e-05,6.531701189234878e-05,6.050652607723099e-05,5.6382033478741226e-05,5.322451067902174e-05,5.113462885030348e-05,5.0109984429621605e-05,5.0153328611610334e-05,5.12823664976103e-05,5.3468687216641825e-05,5.6626223652123144e-05,6.068237277558594e-05,6.561017168956845e-05,7.12890639976517e-05,7.72510595412788e-05,8.256787374694063e-05,8.609606213387293e-05,8.700055413738321e-05,8.518877967895647e-05,8.130721247716837e-05,7.629491182981516e-05,7.084798964987208e-05,6.519412974350525e-05,5.92795377979212e-05,5.312374301840525e-05,4.701128257662901e-05,4.1398166109491924e-05,3.667709421058314e-05,3.302237340006571e-05,3.0400283521363085e-05,2.866169309531306e-05,2.75991753581846e-05,2.6947450296204636e-05,2.6397580315422884e-05,2.5678188810715222e-05,2.4663736970097315e-05,2.3416101877280105e-05,2.2115186957517407e-05,2.093375113496357e-05,1.995573507182026e-05,1.9184069510183906e-05,1.8594638194459737e-05,1.8161169757963706e-05,1.7827292422214245e-05,1.747354748587487e-05,1.6939302105332797e-05,1.6101065343982714e-05,1.4944329595834493e-05,1.356430834666748e-05,1.2093344128607923e-05,1.0616506914271462e-05,9.142075989615918e-06,7.640864348769512e-06,6.111061146684261e-06,4.612733381196637e-06,3.2501966036419386e-06,2.1237486682601726e-06,1.2891798910037736e-06,7.489916508997516e-07,4.7336333851173293e-07,4.323844715261898e-07,6.197568864898569e-07,1.0558740914566586e-06,1.7680014947309356e-06,2.7553360250594827e-06,3.956507956590812e-06,5.2416654367436735e-06,6.4426699297238056e-06,7.4118653927419e-06,8.075784092014081e-06,8.446638068716399e-06,8.581211361086219e-06,8.51685278862237e-06,8.23419577834922e-06,7.676256007556475e-06,6.808657415065507e-06,5.6737108947437215e-06,4.397839131982364e-06,3.1486798094426653e-06,2.072666930366701e-06,1.2507732368158772e-06,6.907156553261051e-07,3.486759706361722e-07,1.6079229197288497e-07,6.77112926355252e-08,2.6032144079417224e-08,9.135926400509791e-09,2.9265370844497275e-09,8.556448087487777e-10,2.283277972263796e-10,5.5608689976481564e-11,1.2360739759205336e-11,2.508442308439316e-12,4.707708219912342e-13,1.218661176763397e-13,2.766944720448462e-13,1.473454055497478e-12,7.471478216827518e-12,3.461477984233391e-11,1.463648182377094e-10,5.648330914583239e-10,1.9893517485824495e-09,6.394565389650935e-09,1.875938042141976e-08,5.02266200115081e-08,1.2273188975849816e-07,2.737088842170605e-07,5.570938604140778e-07,1.0348463096677728e-06,1.7544110068867882e-06,2.714531192729786e-06,3.8332428536640115e-06,4.940214862678193e-06,5.810765457860639e-06,6.237762849815756e-06,6.11128275366753e-06,5.464417849873821e-06,4.4592665188363295e-06,3.3211689064019105e-06,2.25749346536601e-06,1.4004578603342085e-06,7.929057990086567e-07,4.0971432425069184e-07,1.932185001436798e-07,8.316187458579363e-08,3.2666893693658964e-08,1.1711146481713293e-08,3.831766110561522e-09,1.1442122052366377e-09,3.1183306620279775e-10,7.756142135518822e-11,1.7606675429233983e-11,3.647681936806015e-12,6.897069128048961e-13,1.1902019712692854e-13,1.874631151522362e-14,2.707635391898064e-15,4.698376994282086e-16,9.734103624157584e-16,6.803050078567983e-15,4.530401512139495e-14,2.7552745969375437e-13,1.5293485518148839e-12,7.74743590880119e-12,3.581959383955664e-11,1.5114599396209162e-10,5.820892979930043e-10,2.046000728203296e-09,6.563804528091273e-09,1.9220156050409733e-08,5.137354651099583e-08,1.2535859904758878e-07,2.7930966939275885e-07,5.684322998831291e-07,1.057240417098018e-06,1.7987646663054235e-06,2.803815717709255e-06,4.014153661008229e-06,5.299817142615368e-06,6.493159717647271e-06,7.4492738448854454e-06,8.098895809425102e-06,8.457555712723588e-06,8.582535341631603e-06,8.509013693506833e-06,8.215032832341917e-06],\"yaxis\":\"y\",\"type\":\"scatter\"},{\"legendgroup\":\"Gold Medalist\",\"marker\":{\"color\":\"rgb(255, 127, 14)\"},\"mode\":\"lines\",\"name\":\"Gold Medalist\",\"showlegend\":true,\"x\":[13.0,13.102,13.204,13.306,13.408,13.51,13.612,13.714,13.816,13.918,14.02,14.122,14.224,14.326,14.428,14.53,14.632,14.734,14.836,14.938,15.04,15.142,15.244,15.346,15.448,15.55,15.652000000000001,15.754,15.856,15.958,16.06,16.162,16.264,16.366,16.468,16.57,16.672,16.774,16.876,16.978,17.08,17.182000000000002,17.284,17.386,17.488,17.59,17.692,17.794,17.896,17.998,18.1,18.201999999999998,18.304000000000002,18.406,18.508,18.61,18.712,18.814,18.916,19.018,19.12,19.222,19.323999999999998,19.426000000000002,19.528,19.63,19.732,19.834,19.936,20.038,20.14,20.242,20.344,20.445999999999998,20.548000000000002,20.65,20.752,20.854,20.956,21.058,21.16,21.262,21.364,21.466,21.567999999999998,21.67,21.772,21.874000000000002,21.976,22.078,22.18,22.282,22.384,22.486,22.588,22.689999999999998,22.792,22.894,22.996000000000002,23.098,23.2,23.302,23.404,23.506,23.608,23.71,23.811999999999998,23.914,24.016,24.118000000000002,24.22,24.322,24.424,24.526,24.628,24.73,24.832,24.933999999999997,25.036,25.137999999999998,25.240000000000002,25.342,25.444000000000003,25.546,25.648,25.75,25.852,25.954,26.055999999999997,26.158,26.259999999999998,26.362000000000002,26.464,26.566000000000003,26.668,26.77,26.872,26.974,27.076,27.178,27.28,27.381999999999998,27.484,27.586,27.688000000000002,27.79,27.892,27.994,28.096,28.198,28.3,28.402,28.503999999999998,28.606,28.708,28.810000000000002,28.912,29.014,29.116,29.218,29.32,29.422,29.524,29.626,29.728,29.83,29.932,30.034,30.136,30.238,30.34,30.442,30.544,30.646,30.748,30.85,30.952,31.054,31.156,31.258,31.36,31.462,31.564,31.666,31.768,31.87,31.972,32.074,32.176,32.278,32.379999999999995,32.482,32.584,32.686,32.788,32.89,32.992000000000004,33.094,33.196,33.298,33.4,33.501999999999995,33.604,33.706,33.808,33.91,34.012,34.114000000000004,34.216,34.318,34.42,34.522,34.623999999999995,34.726,34.828,34.93,35.032,35.134,35.236000000000004,35.338,35.44,35.542,35.644,35.745999999999995,35.848,35.95,36.052,36.153999999999996,36.256,36.358000000000004,36.46,36.562,36.664,36.766,36.867999999999995,36.97,37.072,37.174,37.275999999999996,37.378,37.480000000000004,37.582,37.684,37.786,37.888000000000005,37.989999999999995,38.092,38.194,38.296,38.397999999999996,38.5,38.602000000000004,38.704,38.806,38.908,39.010000000000005,39.111999999999995,39.214,39.316,39.418,39.519999999999996,39.622,39.724000000000004,39.826,39.928,40.03,40.132000000000005,40.234,40.336,40.438,40.54,40.641999999999996,40.744,40.846000000000004,40.948,41.05,41.152,41.254000000000005,41.356,41.458,41.56,41.662,41.763999999999996,41.866,41.968,42.07,42.172,42.274,42.376000000000005,42.478,42.58,42.682,42.784,42.885999999999996,42.988,43.09,43.192,43.294,43.396,43.498000000000005,43.6,43.702,43.804,43.906,44.007999999999996,44.11,44.212,44.314,44.416,44.518,44.620000000000005,44.722,44.824,44.926,45.028,45.13,45.232,45.334,45.436,45.538,45.64,45.742,45.844,45.946,46.048,46.15,46.252,46.354,46.456,46.558,46.66,46.762,46.864,46.966,47.068,47.17,47.272,47.374,47.476,47.578,47.68,47.782,47.884,47.986,48.088,48.19,48.292,48.394,48.496,48.598,48.7,48.802,48.904,49.006,49.108,49.21,49.312,49.414,49.516,49.618,49.72,49.822,49.924,50.026,50.128,50.23,50.332,50.434,50.536,50.638,50.74,50.842,50.944,51.046,51.148,51.25,51.352,51.454,51.556,51.658,51.76,51.862,51.964,52.066,52.168,52.27,52.372,52.474,52.576,52.678,52.78,52.882,52.984,53.086,53.188,53.29,53.392,53.494,53.596,53.698,53.8,53.902,54.004,54.106,54.208,54.31,54.412,54.514,54.616,54.718,54.82,54.922,55.024,55.126,55.228,55.33,55.432,55.534,55.636,55.738,55.84,55.942,56.044,56.146,56.248,56.35,56.452,56.554,56.656,56.758,56.86,56.962,57.064,57.166,57.268,57.37,57.472,57.574,57.676,57.778,57.88,57.982,58.084,58.186,58.288,58.39,58.492,58.594,58.696,58.798,58.9,59.002,59.104,59.206,59.308,59.41,59.512,59.614,59.716,59.818,59.92,60.022,60.124,60.226,60.328,60.43,60.532,60.634,60.736,60.838,60.94,61.042,61.144,61.246,61.348,61.45,61.552,61.654,61.756,61.858,61.96,62.062,62.164,62.266,62.368,62.47,62.572,62.674,62.776,62.878,62.98,63.082,63.184,63.286,63.388,63.49,63.592,63.694,63.796,63.898],\"xaxis\":\"x\",\"y\":[0.0009899569307249038,0.0010840058412850634,0.0011849939136809964,0.0012938342742882607,0.0014115053877012393,0.0015390086130240151,0.0016773217228948727,0.001827352384564564,0.0019898959068589232,0.002165601446944245,0.002354950327582804,0.0025582491668248207,0.002775639242890051,0.0030071220243901606,0.003252599238240301,0.0035119243884128163,0.0037849614389396063,0.004071645573024767,0.004372040636233515,0.0046863881128546515,0.005015143259463705,0.005358995259121727,0.005718869843449952,0.006095914600222965,0.0064914689621719274,0.006907022476683593,0.007344166219206516,0.007804542999465205,0.008289802226607787,0.008801564907382346,0.009341403268434691,0.009910837996276779,0.010511354207143005,0.011144435169527405,0.011811610710539499,0.01251451536037982,0.013254949832961438,0.014034938576563407,0.014856775973169369,0.01572305436533093,0.016636668413688712,0.01760079222843922,0.01861882809888118,0.019694328241168485,0.020830893541822822,0.022032055535421056,0.02330114958177892,0.024641188207459648,0.026054743719599403,0.02754384843942184,0.029109919283757776,0.030753711085784514,0.03247530022025379,0.03427409708037327,0.036148883077113676,0.038097865425580885,0.04011874132721194,0.04220876244102882,0.04436479083570095,0.04658333887439134,0.04886058754057748,0.051192380317001594,0.05357419259175637,0.056001079396952515,0.05846760683369776,0.060967774602648656,0.06349493850094684,0.06604174247033866,0.06860006973250478,0.07116102170327292,0.0737149317532252,0.07625141854958364,0.07875948082027484,0.08122763216140523,0.08364407128100634,0.08599688020019179,0.08827424077467898,0.09046465873043641,0.09255718435878844,0.09454162003247786,0.09640870654525188,0.09815028256419822,0.09975941378264644,0.10123049028439844,0.10255929192665537,0.10374302216020355,0.10478031076836121,0.1056711858041378,0.10641701487913491,0.10702041620614584,0.10748514059014352,0.10781592689182957,0.10801833517858146,0.10809856353316334,0.10806325597587006,0.10791930988339392,0.10767369148007097,0.10733326739750353,0.10690465904067734,0.10639412474557496,0.10580747268477812,0.10515000538258991,0.10442649470771949,0.10364118444189384,0.10279781606405596,0.1018996723137596,0.10094963247068102,0.09995023316940445,0.09890372899699242,0.09781214808284454,0.09667733930628122,0.0955010094625039,0.09428475053056251,0.09303005884013726,0.0917383492216188,0.09041096798959676,0.08904920878329377,0.08765433488617527,0.08622761075963598,0.0847703442794144,0.08328393969443475,0.08176995975879668,0.08023019392550967,0.07866672803570339,0.07708200970209975,0.07547890270770263,0.07386072337966622,0.0722312522135899,0.07059471513619377,0.06895573074158672,0.06731922253509613,0.06569029845028423,0.06407410332976995,0.06247565326211504,0.060899663216394874,0.05935038094273288,0.05783144036134605,0.05634574655523035,0.054895402095408365,0.053481681000453626,0.05210505251991259,0.05076525255800627,0.049461396361264016,0.0481921224940721,0.04695575546642735,0.04575047291223587,0.044574463084602445,0.04342605965213143,0.042303843233592785,0.04120670256062122,0.04013385226752238,0.039084808659028185,0.03805932895561773,0.03705732303659705,0.036078749237485795,0.03512350706525338,0.03419133966439507,0.033281757535146554,0.03239399254246247,0.03152698793835191,0.030679426301078613,0.02984979335618187,0.02903647196719884,0.02823785751286643,0.027452483684347734,0.026679146637273995,0.025917015514022815,0.025165718594942016,0.02442539661155297,0.023696717823922773,0.022980853007010704,0.02227941213524538,0.021594347920882283,0.020927834108378948,0.020282128294137412,0.01965942988135909,0.019061743574832982,0.018490757675500905,0.017947744556530705,0.017433488364283836,0.01694824248528805,0.016491716931952095,0.01606309375052758,0.01566106699426891,0.015283902798017439,0.014929514622233186,0.014595548723766274,0.014279475233235634,0.013978680732420538,0.01369055879484751,0.01341259547276486,0.013142447121574417,0.01287800823647811,0.01261746717076959,0.012359347781795848,0.012102535297394728,0.011846285096207077,0.011590213707305895,0.011334272173369303,0.011078702951610819,0.010823982663613375,0.010570754127453813,0.010319752073283017,0.010071727621766323,0.009827376885178894,0.009587278869587048,0.009351847203925429,0.009121299144458845,0.008895643897243672,0.008674690700014599,0.008458075462418831,0.008245303236924257,0.008035802525711587,0.007828986537101942,0.007624316065006663,0.0074213587065486,0.007219839637321984,0.007019680064853115,0.0068210206734832446,0.00662422872580976,0.0064298888536149,0.006238778818241216,0.0060518325339518385,0.005870093352872198,0.0056946609772241235,0.00552663541058228,0.005367061141196653,0.005216874350108987,0.005076855447949128,0.004947588752808975,0.0048294306914237525,0.004722487569362858,0.00462660371066159,0.004541360579961303,0.004466087316029602,0.004399882862055372,0.004341649520274753,0.004290137252679577,0.004243997394220075,0.004201843675809742,0.00416231764361289,0.004124154809273831,0.004086247289131432,0.004047698403547622,0.00400786480439966,0.003966382236064339,0.00392317201867013,0.0038784267206050447,0.0038325751530539536,0.003786228619366503,0.003740112103593744,0.0036949855951089136,0.003651561845189565,0.003610427400163068,0.003571973673422666,0.0035363440914911505,0.003503402033531162,0.0034727225001954533,0.0034436083692885168,0.0034151299282494767,0.003386184333318111,0.003355569935392647,0.003322069200209783,0.003284533348475928,0.003241961896208952,0.0031935709618053486,0.003138845431766506,0.0030775716937194828,0.0030098494688353405,0.0029360831080059314,0.0028569543701346795,0.002773380022656188,0.0026864584898628457,0.0025974101787990572,0.0025075160500037433,0.0024180585377115635,0.0023302681653558635,0.002245278271032293,0.00216408927857711,0.002087543032226212,0.002016306938329095,0.001950867074896139,0.0018915290540404668,0.001838425240211724,0.0017915269046399548,0.001750659988891092,0.0017155233114973056,0.0016857082405706968,0.0016607190417771704,0.0016399932767107565,0.0016229217643445972,0.0016088677289060084,0.0015971848468234865,0.0015872339797441057,0.001578398444431578,0.0015700977246028089,0.0015617995721097322,0.001553030471151326,0.0015433844456699932,0.0015325301758001078,0.0015202163577557202,0.0015062752014494197,0.0014906239240879853,0.0014732640804773075,0.0014542785849996627,0.0014338263349350895,0.0014121344417121027,0.0013894882093134506,0.0013662191532183227,0.001342691509095447,0.0013192878158316914,0.0012963942517993507,0.0012743864410876954,0.0012536164200819809,0.001234401365565707,0.0012170145433329771,0.0012016787577981934,0.0011885623889695185,0.001177777914937041,0.00116938265506055,0.0011633813461025388,0.001159730089389405,0.0011583411839945186,0.0011590883852807985,0.001161812191595081,0.001166324853150596,0.001172414903645623,0.0011798511248385663,0.001188385956648348,0.0011977584521943381,0.0012076969428120175,0.001217921618959176,0.0012281472472771009,0.0012380862314015054,0.0012474521850307106,0.001255964122086992,0.0012633512840638712,0.0012693585246058557,0.0012737520644625128,0.0012763253272756805,0.001276904481184923,0.0012753532564001454,0.0012715765965147837,0.0012655227393798115,0.0012571834139497103,0.001246591977720832,0.0012338194931584509,0.0012189689328497891,0.0012021678903506433,0.0011835603344406264,0.0011632980588267652,0.0011415325324548604,0.0011184078397484224,0.001094055315360706,0.0010685903319812345,0.0010421115063100673,0.001014702366008365,0.0009864352903308092,0.0009573773208826108,0.0009275972568535033,0.0008971733185265433,0.0008662005967720218,0.0008347975118849757,0.0008031105831888944,0.0007713169549394593,0.0007396243209871893,0.0007082681212867002,0.0006775061245182149,0.0006476107381756564,0.0006188595773395044,0.0005915249573361928,0.0005658630418810738,0.0005421033738587746,0.0005204394460800917,0.0005010208472838502,0.00048394736287515303,0.00046926524140912345,0.00045696567687812813,0.0004469854200053238,0.00043920932977402875,0.0004334746133371952,0.000429576475697921,0.00042727490232544147,0.0004263023172203746,0.00042637188423346275,0.00042718624069901457,0.0004284464631511015,0.00042986106293023115,0.00043115479709584907,0.0004320770628508858,0.0004324096290044679,0.00043197345297972024,0.00043063434163237066,0.00042830724053315373,0.00042495897754832513,0.00042060933752146565,0.00041533039876798174,0.0004092441120918791,0.00040251814418484265,0.0003953600380594458,0.00038800976623173684,0.0003807307741563248,0.0003737996408390533,0.0003674945297895017,0.00036208267339685765,0.00035780722953011965,0.0003548739662752668,0.0003534383576855019,0.00035359379231353,0.00035536168496396814,0.00035868431745041937,0.00036342119605801694,0.00036934958873824467,0.00037616969087348736,0.000383514574046813,0.000390964719409543,0.000398066558482919,0.0004043540792851295,0.00040937224647697584,0.0004127007691932377,0.00041397665868730396,0.00041291406549484285,0.00040932007170157785,0.0004031054203906379,0.0003942895589558905,0.00038299981272206583,0.00036946494265717905,0.0003540037303402623,0.00033700953736897943,0.00031893198061200376,0.000300256940255638,0.00028148608126734535,0.00026311694085748386,0.00024562444401321623,0.00022944448918248145,0.00021496002792169806,0.0002024898706015884,0.00019228030042669488,0.00018449947484584556,0.00017923453207481944,0.00017649128905668747,0.00017619640048283262,0.0001782018316740132,0.00018229147014098653,0.00018818965643545773,0.00019557135604626356,0.0002040736280013998,0.0002133079836676337,0.0002228731831128765,0.00023236799648416418,0.00024140347001666562,0.0002496142807313936,0.00025666883508479747,0.0002622778547581205,0.0002662012850063066,0.0002682534453817795,0.00026830640985548094,0.0002662916486758752,0.0002621999884826952,0.00025607995598849386,0.00024803457318703105,0.00023821667892485917,0.00022682287174907644,0.00021408620752132502,0.0002002678425459702,0.00018564788361298136,0.0001705157804767616,0.00015516066113190145,0.00013986205265498038,0.0001248814393396839,0.00011045507861722011,9.678842271346431e-05,8.405238501624739e-05,7.238155487972281e-05,6.18743170275908e-05,5.2594687516070155e-05,4.457555260939683e-05,3.78229027170348e-05,3.232059967844517e-05,2.8035206419413102e-05,2.4920442805331948e-05,2.292090550036225e-05,2.1974794447519902e-05,2.2015513457471756e-05,2.297214530684183e-05,2.476893045381462e-05,2.732399142977185e-05,3.054763208258671e-05,3.434059418362607e-05,3.8592668219734895e-05,4.318202840500501e-05,4.797559552698207e-05,5.283063033590718e-05,5.7597633493476376e-05,6.2124487368303e-05,6.626163408275801e-05,6.986795790014428e-05,7.281694227173467e-05,7.500261420516637e-05,7.634477868446482e-05],\"yaxis\":\"y\",\"type\":\"scatter\"},{\"legendgroup\":\"Silver Medalist\",\"marker\":{\"color\":\"rgb(44, 160, 44)\"},\"mode\":\"lines\",\"name\":\"Silver Medalist\",\"showlegend\":true,\"x\":[11.0,11.124,11.248,11.372,11.496,11.62,11.744,11.868,11.992,12.116,12.24,12.364,12.488,12.612,12.736,12.86,12.984,13.108,13.232,13.356,13.48,13.604,13.728,13.852,13.975999999999999,14.1,14.224,14.347999999999999,14.472,14.596,14.72,14.844,14.968,15.091999999999999,15.216000000000001,15.34,15.464,15.588000000000001,15.712,15.836,15.96,16.084,16.208,16.332,16.456,16.58,16.704,16.828,16.951999999999998,17.076,17.2,17.323999999999998,17.448,17.572,17.695999999999998,17.82,17.944,18.067999999999998,18.192,18.316,18.44,18.564,18.688,18.812,18.936,19.060000000000002,19.183999999999997,19.308,19.432000000000002,19.555999999999997,19.68,19.804000000000002,19.928,20.052,20.176000000000002,20.3,20.424,20.548000000000002,20.672,20.796,20.92,21.044,21.168,21.292,21.416,21.54,21.664,21.788,21.912,22.036,22.16,22.284,22.408,22.532,22.656,22.78,22.904,23.028,23.152,23.276,23.4,23.524,23.648,23.772,23.896,24.02,24.144,24.268,24.392,24.516,24.64,24.764,24.887999999999998,25.012,25.136,25.259999999999998,25.384,25.508,25.631999999999998,25.756,25.880000000000003,26.003999999999998,26.128,26.252000000000002,26.375999999999998,26.5,26.624000000000002,26.747999999999998,26.872,26.996000000000002,27.12,27.244,27.368,27.492,27.616,27.74,27.864,27.988,28.112,28.236,28.36,28.484,28.608,28.732,28.856,28.98,29.104,29.228,29.352,29.476,29.6,29.724,29.848,29.972,30.096,30.22,30.344,30.468,30.592,30.716,30.84,30.964,31.088,31.212,31.336,31.46,31.584,31.708,31.832,31.956,32.08,32.204,32.328,32.452,32.576,32.7,32.824,32.948,33.072,33.196,33.32,33.444,33.568,33.692,33.816,33.94,34.064,34.188,34.312,34.436,34.56,34.684,34.808,34.932,35.056,35.18,35.304,35.428,35.552,35.676,35.8,35.924,36.048,36.172,36.296,36.42,36.544,36.668,36.792,36.916,37.04,37.164,37.288,37.412,37.536,37.66,37.784,37.908,38.032,38.156,38.28,38.403999999999996,38.528,38.652,38.775999999999996,38.9,39.024,39.147999999999996,39.272,39.396,39.519999999999996,39.644,39.768,39.891999999999996,40.016,40.14,40.263999999999996,40.388000000000005,40.512,40.635999999999996,40.760000000000005,40.884,41.007999999999996,41.132000000000005,41.256,41.379999999999995,41.504000000000005,41.628,41.751999999999995,41.876000000000005,42.0,42.123999999999995,42.248000000000005,42.372,42.495999999999995,42.620000000000005,42.744,42.867999999999995,42.992000000000004,43.116,43.24,43.364,43.488,43.612,43.736,43.86,43.984,44.108,44.232,44.356,44.48,44.604,44.728,44.852,44.976,45.1,45.224,45.348,45.472,45.596,45.72,45.844,45.968,46.092,46.216,46.34,46.464,46.588,46.712,46.836,46.96,47.084,47.208,47.332,47.456,47.58,47.704,47.828,47.952,48.076,48.2,48.324,48.448,48.572,48.696,48.82,48.944,49.068,49.192,49.316,49.44,49.564,49.688,49.812,49.936,50.06,50.184,50.308,50.432,50.556,50.68,50.804,50.928,51.052,51.176,51.3,51.424,51.548,51.672,51.796,51.92,52.044,52.168,52.292,52.416,52.54,52.664,52.788,52.912,53.036,53.16,53.284,53.408,53.532,53.656,53.78,53.904,54.028,54.152,54.276,54.4,54.524,54.648,54.772,54.896,55.02,55.144,55.268,55.392,55.516,55.64,55.764,55.888,56.012,56.136,56.26,56.384,56.508,56.632,56.756,56.88,57.004,57.128,57.252,57.376,57.5,57.624,57.748,57.872,57.996,58.12,58.244,58.368,58.492,58.616,58.74,58.864,58.988,59.112,59.236,59.36,59.484,59.608,59.732,59.856,59.98,60.104,60.228,60.352,60.476,60.6,60.724,60.848,60.972,61.096,61.22,61.344,61.468,61.592,61.716,61.84,61.964,62.088,62.212,62.336,62.46,62.584,62.708,62.832,62.956,63.08,63.204,63.328,63.452,63.576,63.7,63.824,63.948,64.072,64.196,64.32,64.444,64.568,64.69200000000001,64.816,64.94,65.064,65.188,65.312,65.436,65.56,65.684,65.80799999999999,65.932,66.056,66.18,66.304,66.428,66.55199999999999,66.676,66.8,66.924,67.048,67.172,67.29599999999999,67.42,67.544,67.668,67.792,67.916,68.03999999999999,68.164,68.288,68.412,68.536,68.66,68.78399999999999,68.908,69.032,69.156,69.28,69.404,69.52799999999999,69.652,69.77600000000001,69.9,70.024,70.148,70.27199999999999,70.396,70.52000000000001,70.644,70.768,70.892,71.01599999999999,71.14,71.26400000000001,71.388,71.512,71.636,71.75999999999999,71.884,72.00800000000001,72.132,72.256,72.38,72.50399999999999,72.628,72.75200000000001,72.876],\"xaxis\":\"x\",\"y\":[0.0002557449790943491,0.0002884889838990061,0.00032363334533842304,0.0003613728971586497,0.0004020058643697259,0.0004459543251598638,0.0004937787309785565,0.0005461833970702595,0.0006040102710218997,0.0006682192250543424,0.0007398545873148696,0.0008199995114303397,0.000909721856628519,0.001010017197102117,0.0011217560335111737,0.0012456428857292496,0.0013821944278545736,0.001531742055977261,0.001694461329081921,0.0018704268912165972,0.002059687275119336,0.002262350061543032,0.0024786649388639894,0.00270909092725249,0.0029543348707052747,0.0032153514410234786,0.003493300167206373,0.0037894618547869947,0.004105124309572091,0.004441454403407099,0.004799378988212865,0.00517949982440865,0.005582066652554925,0.0060070273646929085,0.006454165084312091,0.006923319676009506,0.007414677264720374,0.007929097747430247,0.00846843927625909,0.009035832430913625,0.009635856943549318,0.010274581208757618,0.010959439128396389,0.011698938647774899,0.012502219116179672,0.013378497086915596,0.014336458833025114,0.015383669476370028,0.016526070869121536,0.017767632230347805,0.019110199640721335,0.020553565067936052,0.02209574620224829,0.02373343938678782,0.02546258376765706,0.027278959214318242,0.029178735977956484,0.031158901113750335,0.03321750419736141,0.03535369002928218,0.037567514988361285,0.03985957221923349,0.042230474957914786,0.04468026391319402,0.04720781186548588,0.049810296065908664,0.05248279754770561,0.05521806822063145,0.058006484580843266,0.060836184402636335,0.06369336310908638,0.06656269217778256,0.06942781431557758,0.07227186925234463,0.07507800859751597,0.07782986614286472,0.08051195892120569,0.0831100023345432,0.08561112878998979,0.08800400367579829,0.09027883618443035,0.09242728678527898,0.09444227911324424,0.09631773194864082,0.09804823615554883,0.09962871048213326,0.10105407719692097,0.10231900192030616,0.1034177404522249,0.1043441282911361,0.10509173598163772,0.10565419619194326,0.1060256879485631,0.10620154185697658,0.10617891014487689,0.10595743010142945,0.10553980199063555,0.10493220507391268,0.1041444888045993,0.10319009942688019,0.10208573200845668,0.100850729765257,0.09950628127938091,0.09807448736889122,0.09657738004631093,0.0950359754603696,0.0934694323300589,0.09189437009834593,0.0903243805150345,0.08876974609629922,0.08723736154674673,0.08573084122300512,0.08425078732543662,0.08279518903856711,0.0813599210577622,0.07993930946376815,0.07852673261628597,0.0771152240591845,0.0756980434912411,0.07426918146305579,0.07282376487302646,0.0713583348730484,0.06987097736382601,0.0683612989254363,0.06683025679367953,0.06527986835432589,0.06371284094131419,0.06213217375839829,0.060540788281664204,0.058941240321307216,0.057335556047978874,0.05572521697075535,0.05411129733874275,0.052494734620622485,0.05087669274153863,0.049258961635498776,0.047644327914300774,0.0460368517239098,0.04444199467048455,0.04286656220209567,0.041318448785098404,0.03980620218087016,0.038338449955270505,0.03692325283910569,0.035567462208638406,0.03427616063994203,0.03305225485472492,0.031896270908304776,0.030806375225486307,0.02977861611945415,0.02880735307008876,0.027885819189355582,0.027006748818608792,0.026162998506158965,0.025348095554134725,0.02455666230937555,0.023784683723224596,0.023029607165044708,0.022290283796281556,0.021566777296398932,0.020860076628620182,0.020171754229591228,0.019503609978820027,0.018857335859726918,0.018234228118463106,0.017634964742164933,0.017059457677128943,0.016506782315009932,0.01597518172420717,0.015462139718650033,0.014964514635749963,0.01447872403187913,0.014000968890025226,0.01352748411244711,0.01305480010102933,0.01257999846491824,0.012100943884155078,0.011616474470614483,0.01112653501649878,0.010632241405281032,0.010135869886064039,0.009640771217552276,0.00915121597522751,0.008672182662448022,0.008209103952042968,0.0077675880668009335,0.007353132091527322,0.006970842393686248,0.006625175032511426,0.00631970676788658,0.006056945525055042,0.005838188051702573,0.005663431763896902,0.005531346889410293,0.005439313379595205,0.005383524223536846,0.005359152645853445,0.005360575512874036,0.005381639813866606,0.005415954271372782,0.005457184934460558,0.00549933276827523,0.005536973108979794,0.005565441236522292,0.005580954582550117,0.005580669251989805,0.005562675480939756,0.0055259423664674266,0.005470225958185088,0.005395956262494662,0.005304117946614137,0.0051961369394002265,0.005073781314881228,0.00493908049155325,0.004794262529793616,0.004641705701127514,0.0044838979426427865,0.004323396563827949,0.004162780767214935,0.004004591156112274,0.0038512532475749243,0.003704985728977745,0.003567698272437172,0.003440887516317645,0.0033255426670901695,0.0032220734756407987,0.003130272703171606,0.0030493225090757513,0.0029778497058293597,0.0029140291045304913,0.0028557280434383077,0.002800679596749881,0.002746667807020117,0.002691706273524299,0.002634191927441139,0.002573018793365159,0.0025076415314394416,0.002438084804823516,0.002364901064460248,0.002289085211330492,0.002211958962233364,0.002135040071683744,0.0020599116725438576,0.001988105075793713,0.0019210058971516801,0.001859789023550862,0.0018053834205635686,0.0017584637714944005,0.0017194629299678444,0.001688597450018466,0.0016658981008827985,0.0016512381533340032,0.0016443540688056274,0.0016448556695127742,0.0016522255200997324,0.0016658097250656985,0.0016848043093829967,0.001708242552120259,0.0017349889381061867,0.0017637447527506294,0.0017930688662702113,0.001821415149677826,0.0018471855456445381,0.0018687954488576994,0.0018847461012492645,0.0018936974866270427,0.001894534909393526,0.0018864230998579838,0.0018688431750534715,0.0018416098289450835,0.001804868374339695,0.0017590733447728612,0.0017049519859889046,0.0016434569409267776,0.0015757127207112268,0.0015029602500340905,0.0014265030613761843,0.0013476578043627597,0.0012677108273379597,0.001187881810344836,0.0011092948397241388,0.0010329569070629794,0.000959743542122344,0.000890391093590601,0.0008254950096983907,0.0007655133246516547,0.0007107744318133775,0.0006614881388963023,0.0006177589720296706,0.0005796007315675303,0.0005469513952874568,0.0005196875945017175,0.0004976380309925989,0.00048059533634417425,0.0004683259884477343,0.0004605779928951071,0.00045708612021334714,0.000457574580062091,0.0004617571278410006,0.0004693347503775689,0.00047999126986285405,0.0004933874325639534,0.0005091542927462883,0.0005268869325669033,0.0005461397351813371,0.0005664245043604744,0.0005872126533553522,0.000607942432434681,0.0006280317138682138,0.0006468962230592011,0.0006639723523832144,0.0006787429162048531,0.0006907635259912342,0.0006996868160898511,0.0007052816477830338,0.0007074447299634867,0.0007062028203913937,0.0007017047373590638,0.0006942036744359661,0.0006840315815135096,0.0006715684518389354,0.0006572100599331104,0.0006413379091701578,0.0006242948287294248,0.000606368850767147,0.0005877868191999525,0.0005687178057988721,0.0005492850385586779,0.0005295838790594292,0.0005097025854495037,0.0004897422771038394,0.0004698327184159225,0.0004501412307706858,0.00043087312178505244,0.00041226333151768397,0.0003945603445170962,0.0003780046058131219,0.0003628045329405977,0.00034911360965887706,0.00033701192497989863,0.00032649490707207504,0.0003174709942258213,0.0003097687419171592,0.0003031525768358011,0.0002973452685746268,0.00029205436205241857,0.0002869994093592798,0.00028193689962308506,0.00027668027727464683,0.0002711132652684562,0.0002651957266220426,0.00025896234038082585,0.0002525152784777854,0.000246012720348926,0.00023965535320152667,0.0002336729545995745,0.00022831277280981456,0.00022383078729301548,0.00022048615622973186,0.00021853836392476074,0.00021824589051618913,0.00021986474619314214,0.00022364502207722093,0.00022982375515119677,0.00023861288936534003,0.0002501818989525078,0.0002646356373332866,0.0002819890585215585,0.00030214146885727865,0.00032485373237152275,0.00034973221084777875,0.00037622304706113826,0.0004036196425858187,0.0004310848762431467,0.00045768789096975877,0.00048245336993096784,0.000504419410706128,0.0005226986860015774,0.000536536805622747,0.0005453618289447176,0.0005488197511726854,0.0005467923889804412,0.0005393961841599493,0.0005269627066581093,0.0005100037260962032,0.000489165329033095,0.0004651764772498364,0.00043879754588845097,0.00041077379662934254,0.00038179758836246776,0.00035248163526922983,0.0003233440421318457,0.00029480440866358704,0.0002671891715060588,0.00024074364207085676,0.00021564792167646263,0.00019203398827644262,0.00017000166176336202,0.00014963175461574067,0.00013099538684003696,0.00011415908893386917,9.91858602839288e-05,8.613275089055477e-05,7.504578095421828e-05,6.595312171303417e-05,5.885746616605599e-05,5.3728461488690494e-05,5.049599381902229e-05,4.904503543139453e-05,4.921269053365639e-05,5.0787997058355285e-05,5.3514932979870494e-05,5.70989088577291e-05,6.121678396279475e-05,6.553012079026476e-05,6.970101604290338e-05,7.340946346344379e-05,7.637087993641794e-05,7.835222913989419e-05,7.918516232327516e-05,7.877479217611925e-05,7.710311550261363e-05,7.422665768409682e-05,7.026854950926631e-05,6.540587026435234e-05,5.985360593125173e-05,5.384690233563597e-05,4.762339684649995e-05,4.140728466864994e-05,3.5396450652898724e-05,2.9753537718180632e-05,2.460130657412532e-05,2.0022146429101408e-05,1.6061186852846903e-05,1.2732177778827928e-05,1.0025161797424904e-05,7.914949741433856e-06,6.369498368559681e-06,5.357439988293496e-06,4.854190797996588e-06,4.846238108640236e-06,5.333359795983291e-06,6.3286591313152624e-06,7.856412910824746e-06,9.947845232134119e-06,1.2635068170965877e-05,1.5943582528167382e-05,1.988390402161516e-05,2.4443056381738206e-05,2.957682364103099e-05,3.5203742164908266e-05,4.1201800730602484e-05,4.7408675047553647e-05,5.362604028912099e-05,5.962809497805544e-05,6.517393257841957e-05,7.00228778382546e-05,7.395144238087569e-05,7.6770228276656e-05,7.833898464978562e-05,7.857813714919869e-05,7.747546130413153e-05,7.508711578703089e-05,7.1532913294088e-05,6.698638678598938e-05,6.166080550651224e-05,5.57927220303912e-05,4.9624832622484805e-05,4.338989181122509e-05,3.729716177435782e-05,3.15224543905034e-05,2.6202315218125013e-05,2.1432385372029163e-05,1.7269530239235654e-05,1.3736992992746928e-05,1.0831639063053864e-05,8.532302066115031e-06,6.808298375758982e-06,5.627310640406751e-06,4.962011546933914e-06,4.794975290075931e-06,5.121584288164147e-06,5.950775218375344e-06,7.3035864120400885e-06,9.209581297744575e-06,1.1701345376750593e-05,1.4807398338711788e-05,1.8544029677791312e-05,2.2906743615853556e-05,2.7862161920958e-05,3.334134594126204e-05,3.92355231549603e-05,4.5395105712421965e-05,5.16326508884066e-05,5.77300410840491e-05,6.344968597975078e-05,6.854902913657356e-05,7.279715144822485e-05,7.59918857437911e-05,7.797566226587189e-05],\"yaxis\":\"y\",\"type\":\"scatter\"},{\"legendgroup\":\"Bronze Medalist\",\"marker\":{\"color\":\"rgb(214, 39, 40)\"},\"mode\":\"lines\",\"name\":\"Bronze Medalist\",\"showlegend\":true,\"x\":[10.0,10.124,10.248,10.372,10.496,10.62,10.744,10.868,10.992,11.116,11.24,11.364,11.488,11.612,11.736,11.86,11.984,12.108,12.232,12.356,12.48,12.604,12.728,12.852,12.975999999999999,13.1,13.224,13.347999999999999,13.472,13.596,13.72,13.844,13.968,14.091999999999999,14.216000000000001,14.34,14.464,14.588000000000001,14.712,14.836,14.96,15.084,15.208,15.332,15.456,15.58,15.704,15.828,15.952,16.076,16.2,16.323999999999998,16.448,16.572,16.695999999999998,16.82,16.944,17.067999999999998,17.192,17.316,17.44,17.564,17.688,17.812,17.936,18.060000000000002,18.183999999999997,18.308,18.432000000000002,18.555999999999997,18.68,18.804000000000002,18.928,19.052,19.176000000000002,19.3,19.424,19.548000000000002,19.672,19.796,19.92,20.044,20.168,20.292,20.416,20.54,20.664,20.788,20.912,21.036,21.16,21.284,21.408,21.532,21.656,21.78,21.904,22.028,22.152,22.276,22.4,22.524,22.648,22.772,22.896,23.02,23.144,23.268,23.392,23.516,23.64,23.764,23.887999999999998,24.012,24.136,24.259999999999998,24.384,24.508,24.631999999999998,24.756,24.880000000000003,25.003999999999998,25.128,25.252000000000002,25.375999999999998,25.5,25.624000000000002,25.747999999999998,25.872,25.996000000000002,26.12,26.244,26.368,26.492,26.616,26.74,26.864,26.988,27.112,27.236,27.36,27.484,27.608,27.732,27.856,27.98,28.104,28.228,28.352,28.476,28.6,28.724,28.848,28.972,29.096,29.22,29.344,29.468,29.592,29.716,29.84,29.964,30.088,30.212,30.336,30.46,30.584,30.708,30.832,30.956,31.08,31.204,31.328,31.452,31.576,31.7,31.824,31.948,32.072,32.196,32.32,32.444,32.568,32.692,32.816,32.94,33.064,33.188,33.312,33.436,33.56,33.684,33.808,33.932,34.056,34.18,34.304,34.428,34.552,34.676,34.8,34.924,35.048,35.172,35.296,35.42,35.544,35.668,35.792,35.916,36.04,36.164,36.288,36.412,36.536,36.66,36.784,36.908,37.032,37.156,37.28,37.403999999999996,37.528,37.652,37.775999999999996,37.9,38.024,38.147999999999996,38.272,38.396,38.519999999999996,38.644,38.768,38.891999999999996,39.016,39.14,39.263999999999996,39.388000000000005,39.512,39.635999999999996,39.760000000000005,39.884,40.007999999999996,40.132000000000005,40.256,40.379999999999995,40.504000000000005,40.628,40.751999999999995,40.876000000000005,41.0,41.123999999999995,41.248000000000005,41.372,41.495999999999995,41.620000000000005,41.744,41.867999999999995,41.992000000000004,42.116,42.24,42.364,42.488,42.612,42.736,42.86,42.984,43.108,43.232,43.356,43.48,43.604,43.728,43.852,43.976,44.1,44.224,44.348,44.472,44.596,44.72,44.844,44.968,45.092,45.216,45.34,45.464,45.588,45.712,45.836,45.96,46.084,46.208,46.332,46.456,46.58,46.704,46.828,46.952,47.076,47.2,47.324,47.448,47.572,47.696,47.82,47.944,48.068,48.192,48.316,48.44,48.564,48.688,48.812,48.936,49.06,49.184,49.308,49.432,49.556,49.68,49.804,49.928,50.052,50.176,50.3,50.424,50.548,50.672,50.796,50.92,51.044,51.168,51.292,51.416,51.54,51.664,51.788,51.912,52.036,52.16,52.284,52.408,52.532,52.656,52.78,52.904,53.028,53.152,53.276,53.4,53.524,53.648,53.772,53.896,54.02,54.144,54.268,54.392,54.516,54.64,54.764,54.888,55.012,55.136,55.26,55.384,55.508,55.632,55.756,55.88,56.004,56.128,56.252,56.376,56.5,56.624,56.748,56.872,56.996,57.12,57.244,57.368,57.492,57.616,57.74,57.864,57.988,58.112,58.236,58.36,58.484,58.608,58.732,58.856,58.98,59.104,59.228,59.352,59.476,59.6,59.724,59.848,59.972,60.096,60.22,60.344,60.468,60.592,60.716,60.84,60.964,61.088,61.212,61.336,61.46,61.584,61.708,61.832,61.956,62.08,62.204,62.328,62.452,62.576,62.7,62.824,62.948,63.072,63.196,63.32,63.444,63.568,63.692,63.816,63.94,64.064,64.188,64.312,64.436,64.56,64.684,64.80799999999999,64.932,65.056,65.18,65.304,65.428,65.55199999999999,65.676,65.8,65.924,66.048,66.172,66.29599999999999,66.42,66.544,66.668,66.792,66.916,67.03999999999999,67.164,67.288,67.412,67.536,67.66,67.78399999999999,67.908,68.032,68.156,68.28,68.404,68.52799999999999,68.652,68.77600000000001,68.9,69.024,69.148,69.27199999999999,69.396,69.52000000000001,69.644,69.768,69.892,70.01599999999999,70.14,70.26400000000001,70.388,70.512,70.636,70.75999999999999,70.884,71.00800000000001,71.132,71.256,71.38,71.50399999999999,71.628,71.75200000000001,71.876],\"xaxis\":\"x\",\"y\":[9.19402068397645e-05,9.615433823926146e-05,0.00010021010042990183,0.00010436763291273973,0.00010892138271629958,0.00011417122636561647,0.00012039240106003298,0.00012780873450074655,0.0001365736144452081,0.000146762401375755,0.0001583786152355117,0.00017137438129875273,0.00018568355086843826,0.00020126392436928408,0.00021814341173601775,0.0002364640413536903,0.0002565176601592264,0.000278768016429478,0.00030385560457518046,0.0003325839623581781,0.0003658887203094295,0.00040479322370603967,0.00045035659106134804,0.00050362131495131,0.0005655677471091574,0.000637081995603867,0.0007189420244133452,0.000811824363207396,0.0009163311881546426,0.0010330350349185837,0.001162536418160612,0.0013055284091081237,0.0014628618591216956,0.0016356053850198919,0.0018250952506444322,0.002032971613059913,0.0022611989699273362,0.002512069825305815,0.002788191466720798,0.0030924563199015284,0.003427996731546224,0.00379812541118649,0.00420626334852043,0.0046558579793814295,0.005150295763476942,0.005692815062067939,0.0062864269773173645,0.00693385317833701,0.007637490136104674,0.008399408100261177,0.009221390258226709,0.010105012861837686,0.01105176117351492,0.012063169772507449,0.013140970229131271,0.014287225562127753,0.015504430126504572,0.016795556026882163,0.01816403261751118,0.019613653404872162,0.021148413616978244,0.02277229059692294,0.024488986802229357,0.02630166049213928,0.028212671346660778,0.030223366779987503,0.03233392949856878,0.034543298366332444,0.03684916396448085,0.03924802904579562,0.04173531439831552,0.044305484366603747,0.046952164739038606,0.049668229197810124,0.05244583823043024,0.05527642463649161,0.05815063051165087,0.06105821008467174,0.06398791990839059,0.0669274222517712,0.06986322911608177,0.07278071311409647,0.07566420724244587,0.07849720789458609,0.08126268412288595,0.08394348184894472,0.08652279637572065,0.08898467320799686,0.09131448921124982,0.0934993660993288,0.09552847684280419,0.09739322119293468,0.09908726552085184,0.10060646015215463,0.10194866054592248,0.1031134850451525,0.1041020417600033,0.10491665243127796,0.10556059451252796,0.1060378763495016,0.1063530551526341,0.10651110318415691,0.10651732338547089,0.10637731099106275,0.1060969527649471,0.10568245137653408,0.1051403603286479,0.10447761542425957,0.10370155162916317,0.10281989800759274,0.1018407465054305,0.10077249159626357,0.09962373722993799,0.09840316640168231,0.09711936891837,0.09578062622806494,0.09439465902824333,0.09296835282642786,0.09150748653172211,0.09001649688343773,0.08849831484619758,0.08695430780360275,0.08538435342379222,0.08378705836876935,0.08216011907071401,0.08050080438211593,0.07880652298915168,0.07707542422924238,0.07530697168195273,0.07350242673366383,0.07166518560993747,0.06980092807771025,0.06791755729933485,0.06602493468505899,0.06413443665820473,0.06225837789635945,0.0604093551355792,0.058599566460387546,0.05684015476103846,0.05514061383910871,0.05350828501106674,0.051947963807593686,0.05046163181124667,0.04904832741155578,0.04770416947637096,0.04642254711193365,0.04519448436985997,0.04400917932127985,0.042854702030956975,0.041718816839130285,0.04058987368098749,0.03945769473698579,0.03831437075740779,0.03715487975654876,0.035977451846939124,0.03478362799979389,0.03357799508585561,0.032367619869229536,0.031161244295165372,0.029968336708260004,0.028798112928772795,0.027658644044670517,0.026556153912195773,0.025494581173933398,0.02447544286826833,0.023497995470209056,0.022559650685029634,0.021656572887108493,0.02078436656273033,0.019938757311296965,0.019116178650626384,0.018314196930545673,0.017531734460864094,0.016769081970453265,0.016027720999076407,0.015310000591807007,0.014618727719204038,0.013956735806077081,0.013326490970092787,0.012729782912069078,0.01216752975025645,0.011639706740262101,0.011145390851289745,0.01068289897861192,0.010249988615764826,0.009844086538192241,0.009462513021286499,0.009102675214230685,0.008762211995396313,0.008439082293078586,0.008131597935637188,0.007838409391193095,0.0075584575220603075,0.0072909064737028285,0.007035072266936259,0.006790359134501986,0.00655621189013759,0.0063320884105611906,0.0061174523138209525,0.00591178262296096,0.005714594914996429,0.005525467304657777,0.005344064591300093,0.005170154877788489,0.005003614720914413,0.004844421078716366,0.004692630615236536,0.0045483489438819195,0.004411693837234666,0.00428275712411734,0.004161569903464087,0.004048074941547541,0.00394210890052323,0.003843395633625788,0.003751550423744316,0.0036660939277914284,0.0035864738287725594,0.0035120918166124566,0.0034423334710733844,0.003376598806487574,0.0033143315324762734,0.003255045364013097,0.003198345889185836,0.0031439465469075005,0.003091677229383117,0.003041484024917448,0.0029934188136231457,0.0029476179678430236,0.002904270369525684,0.002863576307425969,0.0028257004016457843,0.0027907232585336105,0.0027585977629673696,0.0027291164511561434,0.002701896032117046,0.0026763837259176234,0.0026518877127639927,0.0026276308668301933,0.00260282347191483,0.002576747291919886,0.0025488407585333808,0.0025187736635875232,0.002486499987994997,0.0024522795164034395,0.0024166625394552903,0.0023804367960552617,0.00234454116943002,0.002309955694395615,0.002277581332527744,0.0022481250524224957,0.0022220056165569812,0.0021992930787120054,0.0021796906539999846,0.002162561966910486,0.002147000551253854,0.0021319327848525194,0.0021162410366160514,0.002098891324569804,0.0020790495624499797,0.002056172479152236,0.0020300631438837616,0.0020008860500966346,0.001969142072698209,0.0019356084796482396,0.0019012528627198634,0.0018671319313208951,0.001834286490994744,0.0018036428191864045,0.0017759285032085941,0.001751608180056403,0.0017308420559036019,0.001713467991927664,0.0016990065237572063,0.001686687411533132,0.0016754959851037103,0.0016642373327635466,0.0016516159529012498,0.0016363276128205687,0.0016171587829952197,0.0015930873011629873,0.001563376233850723,0.0015276517364234098,0.0014859555698793414,0.0014387641893961374,0.0013869691027959426,0.0013318173113539224,0.0012748155737568733,0.001217607217028359,0.0011618343967130524,0.0011090012980127814,0.0010603542248291324,0.0010167926565817372,0.000978821376250531,0.0009465482657108311,0.0009197261648523796,0.0008978312490960973,0.0008801655944952947,0.0008659686730611189,0.0008545218547001427,0.0008452316359346563,0.0008376809740333468,0.00083164319580939,0.0008270587001629434,0.0008239802375810851,0.0008224971338767902,0.0008226517948638817,0.0008243627913648246,0.0008273676776891567,0.0008311956370778773,0.0008351755373009696,0.0008384796833653987,0.0008401982465740774,0.0008394348045794215,0.000835410306679837,0.0008275615278201475,0.000815620849757321,0.0007996668460762547,0.0007801391921665584,0.0007578161986967354,0.0007337580088453402,0.0007092224820481785,0.0006855634636996064,0.0006641222356342313,0.0006461224877392569,0.0006325774548737261,0.0006242154223303831,0.0006214271790159416,0.0006242366864828272,0.0006322945587779147,0.0006448930090591221,0.0006610005848090166,0.0006793149900361209,0.0006983322224407591,0.0007164298308945112,0.0007319611708901574,0.0007433561597128209,0.0007492224737172909,0.0007484397975526127,0.0007402390770378439,0.0007242591023726902,0.00070057431630536,0.0006696904010833225,0.0006325075890589164,0.0005902552190122753,0.0005444042129967494,0.0004965663407912769,0.0004483900300929935,0.00040146199548678473,0.00035722229269480386,0.00031689795998285196,0.000281457691620116,0.00025158748602578695,0.00022768528829122963,0.00020987148336146417,0.00019801167915142832,0.00019174838140847188,0.00019053865518174306,0.00019369544026291943,0.000200430653024485,0.0002098984783923754,0.0002212373486955942,0.0002336091090361065,0.0002462338963801879,0.00025841940602950865,0.0002695835248123444,0.000279269750746085,0.00028715531732497363,0.0002930523976827073,0.00029690309337480957,0.0002987690704096731,0.0002988167033948243,0.0002972984896074587,0.0002945313889819618,0.00029087272110197047,0.00028669436127491145,0.00028235622750005785,0.00027818038575082353,0.00027442742676604714,0.0002712769701543794,0.0002688141305633943,0.0002670234759522165,0.00026579141824959574,0.0002649171635834084,0.0002641314276481152,0.00026312123745367305,0.0002615584410490034,0.0002591291502470459,0.0002555613123425939,0.0002506479419587557,0.00024426417314968605,0.00023637709316840427,0.00022704814754146048,0.00021642862492751713,0.00020474924234035682,0.0001923051179630082,0.00017943746387553654,0.0001665132285645967,0.0001539037676513998,0.0001419635127249212,0.0001310095993788014,0.00012130351102579168,0.00011303594509165452,0.00010631622290723861,0.00010116754001605638,9.752910253540399e-05,9.526567529054884e-05,9.418429902920537e-05,9.405700367157609e-05,9.464739319535607e-05,9.573817603296435e-05,9.715623066271255e-05,9.879176082414771e-05,0.00010060857494527697,0.000102643503617914,0.00010499434439893635,0.0001077973165419073,0.00011119659036402267,0.00011530978130308255,0.00012019414437535779,0.0001258184079718946,0.0001320446744529831,0.00013862362462902745,0.00014520453907267367,0.00015135962897285237,0.00015662014961673429,0.00016052006020635017,0.00016264186560971383,0.00016265891326308453,0.00016036888469202242,0.00015571444318626679,0.00014878877920666977,0.00013982584489992395,0.0001291770623298731,0.00011727792170379286,0.00010460892646741522,9.165567528664881e-05,7.887250711659001e-05,6.66532002309194e-05,5.5310916299328416e-05,4.506815896905543e-05,3.6056203283218575e-05,2.8322426361365536e-05,2.184333428392907e-05,1.6540857123378574e-05,1.22996252526703e-05,8.98334886858671e-06,6.448980968284513e-06,4.557937072277191e-06,3.1841799718308277e-06,2.2193936958425885e-06,1.5757400700039246e-06,1.1868144058515672e-06,1.007414647977437e-06,1.0126420876147875e-06,1.196695901704748e-06,1.5715406454233215e-06,2.165443468221064e-06,3.021219868954132e-06,4.1939133164697876e-06,5.747582165767594e-06,7.750890663910953e-06,1.0271307583271585e-05,1.3367905340614433e-05,1.7083010921776137e-05,2.1433258826990574e-05,2.6400891605062406e-05,3.192638995268041e-05,3.790363306388439e-05,4.417874032827003e-05,5.05534980391243e-05,5.679383218140493e-05,6.264319177969796e-05,6.784003479547863e-05,7.213796482583995e-05,7.532656488741968e-05,7.725071308666328e-05,7.78262063176096e-05,7.704987227050238e-05,7.500296924804124e-05,7.184745954224882e-05,6.781556623746256e-05,6.319375164903097e-05,5.830277811788267e-05,5.347576450470121e-05,4.9036127801326714e-05,4.527704711373519e-05,4.2443694772345375e-05,4.0719049778317035e-05,4.0213734209222285e-05,4.096005208146448e-05,4.291027528170446e-05,4.593918033523051e-05,4.985082895958446e-05,5.438953058231492e-05,5.925476691430326e-05,6.411957309477155e-05,6.865147884965283e-05,7.253468283966699e-05,7.549176007514995e-05,7.730298835354278e-05],\"yaxis\":\"y\",\"type\":\"scatter\"}],                        {\"barmode\":\"overlay\",\"hovermode\":\"closest\",\"legend\":{\"traceorder\":\"reversed\"},\"xaxis\":{\"anchor\":\"y2\",\"domain\":[0.0,1.0],\"zeroline\":false},\"yaxis\":{\"anchor\":\"free\",\"domain\":[0.0,1],\"position\":0.0},\"template\":{\"data\":{\"histogram2dcontour\":[{\"type\":\"histogram2dcontour\",\"colorbar\":{\"outlinewidth\":0,\"ticks\":\"\"},\"colorscale\":[[0.0,\"#0d0887\"],[0.1111111111111111,\"#46039f\"],[0.2222222222222222,\"#7201a8\"],[0.3333333333333333,\"#9c179e\"],[0.4444444444444444,\"#bd3786\"],[0.5555555555555556,\"#d8576b\"],[0.6666666666666666,\"#ed7953\"],[0.7777777777777778,\"#fb9f3a\"],[0.8888888888888888,\"#fdca26\"],[1.0,\"#f0f921\"]]}],\"choropleth\":[{\"type\":\"choropleth\",\"colorbar\":{\"outlinewidth\":0,\"ticks\":\"\"}}],\"histogram2d\":[{\"type\":\"histogram2d\",\"colorbar\":{\"outlinewidth\":0,\"ticks\":\"\"},\"colorscale\":[[0.0,\"#0d0887\"],[0.1111111111111111,\"#46039f\"],[0.2222222222222222,\"#7201a8\"],[0.3333333333333333,\"#9c179e\"],[0.4444444444444444,\"#bd3786\"],[0.5555555555555556,\"#d8576b\"],[0.6666666666666666,\"#ed7953\"],[0.7777777777777778,\"#fb9f3a\"],[0.8888888888888888,\"#fdca26\"],[1.0,\"#f0f921\"]]}],\"heatmap\":[{\"type\":\"heatmap\",\"colorbar\":{\"outlinewidth\":0,\"ticks\":\"\"},\"colorscale\":[[0.0,\"#0d0887\"],[0.1111111111111111,\"#46039f\"],[0.2222222222222222,\"#7201a8\"],[0.3333333333333333,\"#9c179e\"],[0.4444444444444444,\"#bd3786\"],[0.5555555555555556,\"#d8576b\"],[0.6666666666666666,\"#ed7953\"],[0.7777777777777778,\"#fb9f3a\"],[0.8888888888888888,\"#fdca26\"],[1.0,\"#f0f921\"]]}],\"heatmapgl\":[{\"type\":\"heatmapgl\",\"colorbar\":{\"outlinewidth\":0,\"ticks\":\"\"},\"colorscale\":[[0.0,\"#0d0887\"],[0.1111111111111111,\"#46039f\"],[0.2222222222222222,\"#7201a8\"],[0.3333333333333333,\"#9c179e\"],[0.4444444444444444,\"#bd3786\"],[0.5555555555555556,\"#d8576b\"],[0.6666666666666666,\"#ed7953\"],[0.7777777777777778,\"#fb9f3a\"],[0.8888888888888888,\"#fdca26\"],[1.0,\"#f0f921\"]]}],\"contourcarpet\":[{\"type\":\"contourcarpet\",\"colorbar\":{\"outlinewidth\":0,\"ticks\":\"\"}}],\"contour\":[{\"type\":\"contour\",\"colorbar\":{\"outlinewidth\":0,\"ticks\":\"\"},\"colorscale\":[[0.0,\"#0d0887\"],[0.1111111111111111,\"#46039f\"],[0.2222222222222222,\"#7201a8\"],[0.3333333333333333,\"#9c179e\"],[0.4444444444444444,\"#bd3786\"],[0.5555555555555556,\"#d8576b\"],[0.6666666666666666,\"#ed7953\"],[0.7777777777777778,\"#fb9f3a\"],[0.8888888888888888,\"#fdca26\"],[1.0,\"#f0f921\"]]}],\"surface\":[{\"type\":\"surface\",\"colorbar\":{\"outlinewidth\":0,\"ticks\":\"\"},\"colorscale\":[[0.0,\"#0d0887\"],[0.1111111111111111,\"#46039f\"],[0.2222222222222222,\"#7201a8\"],[0.3333333333333333,\"#9c179e\"],[0.4444444444444444,\"#bd3786\"],[0.5555555555555556,\"#d8576b\"],[0.6666666666666666,\"#ed7953\"],[0.7777777777777778,\"#fb9f3a\"],[0.8888888888888888,\"#fdca26\"],[1.0,\"#f0f921\"]]}],\"mesh3d\":[{\"type\":\"mesh3d\",\"colorbar\":{\"outlinewidth\":0,\"ticks\":\"\"}}],\"scatter\":[{\"fillpattern\":{\"fillmode\":\"overlay\",\"size\":10,\"solidity\":0.2},\"type\":\"scatter\"}],\"parcoords\":[{\"type\":\"parcoords\",\"line\":{\"colorbar\":{\"outlinewidth\":0,\"ticks\":\"\"}}}],\"scatterpolargl\":[{\"type\":\"scatterpolargl\",\"marker\":{\"colorbar\":{\"outlinewidth\":0,\"ticks\":\"\"}}}],\"bar\":[{\"error_x\":{\"color\":\"#2a3f5f\"},\"error_y\":{\"color\":\"#2a3f5f\"},\"marker\":{\"line\":{\"color\":\"#E5ECF6\",\"width\":0.5},\"pattern\":{\"fillmode\":\"overlay\",\"size\":10,\"solidity\":0.2}},\"type\":\"bar\"}],\"scattergeo\":[{\"type\":\"scattergeo\",\"marker\":{\"colorbar\":{\"outlinewidth\":0,\"ticks\":\"\"}}}],\"scatterpolar\":[{\"type\":\"scatterpolar\",\"marker\":{\"colorbar\":{\"outlinewidth\":0,\"ticks\":\"\"}}}],\"histogram\":[{\"marker\":{\"pattern\":{\"fillmode\":\"overlay\",\"size\":10,\"solidity\":0.2}},\"type\":\"histogram\"}],\"scattergl\":[{\"type\":\"scattergl\",\"marker\":{\"colorbar\":{\"outlinewidth\":0,\"ticks\":\"\"}}}],\"scatter3d\":[{\"type\":\"scatter3d\",\"line\":{\"colorbar\":{\"outlinewidth\":0,\"ticks\":\"\"}},\"marker\":{\"colorbar\":{\"outlinewidth\":0,\"ticks\":\"\"}}}],\"scattermapbox\":[{\"type\":\"scattermapbox\",\"marker\":{\"colorbar\":{\"outlinewidth\":0,\"ticks\":\"\"}}}],\"scatterternary\":[{\"type\":\"scatterternary\",\"marker\":{\"colorbar\":{\"outlinewidth\":0,\"ticks\":\"\"}}}],\"scattercarpet\":[{\"type\":\"scattercarpet\",\"marker\":{\"colorbar\":{\"outlinewidth\":0,\"ticks\":\"\"}}}],\"carpet\":[{\"aaxis\":{\"endlinecolor\":\"#2a3f5f\",\"gridcolor\":\"white\",\"linecolor\":\"white\",\"minorgridcolor\":\"white\",\"startlinecolor\":\"#2a3f5f\"},\"baxis\":{\"endlinecolor\":\"#2a3f5f\",\"gridcolor\":\"white\",\"linecolor\":\"white\",\"minorgridcolor\":\"white\",\"startlinecolor\":\"#2a3f5f\"},\"type\":\"carpet\"}],\"table\":[{\"cells\":{\"fill\":{\"color\":\"#EBF0F8\"},\"line\":{\"color\":\"white\"}},\"header\":{\"fill\":{\"color\":\"#C8D4E3\"},\"line\":{\"color\":\"white\"}},\"type\":\"table\"}],\"barpolar\":[{\"marker\":{\"line\":{\"color\":\"#E5ECF6\",\"width\":0.5},\"pattern\":{\"fillmode\":\"overlay\",\"size\":10,\"solidity\":0.2}},\"type\":\"barpolar\"}],\"pie\":[{\"automargin\":true,\"type\":\"pie\"}]},\"layout\":{\"autotypenumbers\":\"strict\",\"colorway\":[\"#636efa\",\"#EF553B\",\"#00cc96\",\"#ab63fa\",\"#FFA15A\",\"#19d3f3\",\"#FF6692\",\"#B6E880\",\"#FF97FF\",\"#FECB52\"],\"font\":{\"color\":\"#2a3f5f\"},\"hovermode\":\"closest\",\"hoverlabel\":{\"align\":\"left\"},\"paper_bgcolor\":\"white\",\"plot_bgcolor\":\"#E5ECF6\",\"polar\":{\"bgcolor\":\"#E5ECF6\",\"angularaxis\":{\"gridcolor\":\"white\",\"linecolor\":\"white\",\"ticks\":\"\"},\"radialaxis\":{\"gridcolor\":\"white\",\"linecolor\":\"white\",\"ticks\":\"\"}},\"ternary\":{\"bgcolor\":\"#E5ECF6\",\"aaxis\":{\"gridcolor\":\"white\",\"linecolor\":\"white\",\"ticks\":\"\"},\"baxis\":{\"gridcolor\":\"white\",\"linecolor\":\"white\",\"ticks\":\"\"},\"caxis\":{\"gridcolor\":\"white\",\"linecolor\":\"white\",\"ticks\":\"\"}},\"coloraxis\":{\"colorbar\":{\"outlinewidth\":0,\"ticks\":\"\"}},\"colorscale\":{\"sequential\":[[0.0,\"#0d0887\"],[0.1111111111111111,\"#46039f\"],[0.2222222222222222,\"#7201a8\"],[0.3333333333333333,\"#9c179e\"],[0.4444444444444444,\"#bd3786\"],[0.5555555555555556,\"#d8576b\"],[0.6666666666666666,\"#ed7953\"],[0.7777777777777778,\"#fb9f3a\"],[0.8888888888888888,\"#fdca26\"],[1.0,\"#f0f921\"]],\"sequentialminus\":[[0.0,\"#0d0887\"],[0.1111111111111111,\"#46039f\"],[0.2222222222222222,\"#7201a8\"],[0.3333333333333333,\"#9c179e\"],[0.4444444444444444,\"#bd3786\"],[0.5555555555555556,\"#d8576b\"],[0.6666666666666666,\"#ed7953\"],[0.7777777777777778,\"#fb9f3a\"],[0.8888888888888888,\"#fdca26\"],[1.0,\"#f0f921\"]],\"diverging\":[[0,\"#8e0152\"],[0.1,\"#c51b7d\"],[0.2,\"#de77ae\"],[0.3,\"#f1b6da\"],[0.4,\"#fde0ef\"],[0.5,\"#f7f7f7\"],[0.6,\"#e6f5d0\"],[0.7,\"#b8e186\"],[0.8,\"#7fbc41\"],[0.9,\"#4d9221\"],[1,\"#276419\"]]},\"xaxis\":{\"gridcolor\":\"white\",\"linecolor\":\"white\",\"ticks\":\"\",\"title\":{\"standoff\":15},\"zerolinecolor\":\"white\",\"automargin\":true,\"zerolinewidth\":2},\"yaxis\":{\"gridcolor\":\"white\",\"linecolor\":\"white\",\"ticks\":\"\",\"title\":{\"standoff\":15},\"zerolinecolor\":\"white\",\"automargin\":true,\"zerolinewidth\":2},\"scene\":{\"xaxis\":{\"backgroundcolor\":\"#E5ECF6\",\"gridcolor\":\"white\",\"linecolor\":\"white\",\"showbackground\":true,\"ticks\":\"\",\"zerolinecolor\":\"white\",\"gridwidth\":2},\"yaxis\":{\"backgroundcolor\":\"#E5ECF6\",\"gridcolor\":\"white\",\"linecolor\":\"white\",\"showbackground\":true,\"ticks\":\"\",\"zerolinecolor\":\"white\",\"gridwidth\":2},\"zaxis\":{\"backgroundcolor\":\"#E5ECF6\",\"gridcolor\":\"white\",\"linecolor\":\"white\",\"showbackground\":true,\"ticks\":\"\",\"zerolinecolor\":\"white\",\"gridwidth\":2}},\"shapedefaults\":{\"line\":{\"color\":\"#2a3f5f\"}},\"annotationdefaults\":{\"arrowcolor\":\"#2a3f5f\",\"arrowhead\":0,\"arrowwidth\":1},\"geo\":{\"bgcolor\":\"white\",\"landcolor\":\"#E5ECF6\",\"subunitcolor\":\"white\",\"showland\":true,\"showlakes\":true,\"lakecolor\":\"white\"},\"title\":{\"x\":0.05},\"mapbox\":{\"style\":\"light\"}}}},                        {\"responsive\": true}                    ).then(function(){\n",
       "                            \n",
       "var gd = document.getElementById('2482b7c5-7cbe-4c39-999b-61d918497971');\n",
       "var x = new MutationObserver(function (mutations, observer) {{\n",
       "        var display = window.getComputedStyle(gd).display;\n",
       "        if (!display || display === 'none') {{\n",
       "            console.log([gd, 'removed!']);\n",
       "            Plotly.purge(gd);\n",
       "            observer.disconnect();\n",
       "        }}\n",
       "}});\n",
       "\n",
       "// Listen for the removal of the full notebook cells\n",
       "var notebookContainer = gd.closest('#notebook-container');\n",
       "if (notebookContainer) {{\n",
       "    x.observe(notebookContainer, {childList: true});\n",
       "}}\n",
       "\n",
       "// Listen for the clearing of the current output cell\n",
       "var outputEl = gd.closest('.output');\n",
       "if (outputEl) {{\n",
       "    x.observe(outputEl, {childList: true});\n",
       "}}\n",
       "\n",
       "                        })                };                });            </script>        </div>"
      ]
     },
     "metadata": {},
     "output_type": "display_data"
    }
   ],
   "source": [
    "fig = ff.create_distplot([x1,x2,x3,x4], ['Overall Age','Gold Medalist','Silver Medalist','Bronze Medalist'], show_hist=False,show_rug=False)\n",
    "fig.show()"
   ]
  },
  {
   "cell_type": "code",
   "execution_count": 356,
   "id": "88f43cb3-c169-4c59-8270-4f16cf5ac9e0",
   "metadata": {
    "tags": []
   },
   "outputs": [],
   "source": [
    "famous_sports = ['Basketball', 'Judo', 'Football', 'Tug-Of-War', 'Athletics',\n",
    "       'Swimming', 'Badminton', 'Sailing', 'Gymnastics',\n",
    "       'Art Competitions', 'Handball', 'Weightlifting', 'Wrestling',\n",
    "       'Water Polo', 'Hockey', 'Rowing', 'Fencing', 'Equestrianism',\n",
    "       'Shooting', 'Boxing', 'Taekwondo', 'Cycling', 'Diving', 'Canoeing',\n",
    "       'Tennis', 'Modern Pentathlon', 'Golf', 'Softball', 'Archery',\n",
    "       'Volleyball', 'Synchronized Swimming', 'Table Tennis', 'Baseball',\n",
    "       'Rhythmic Gymnastics', 'Rugby Sevens', 'Trampolining',\n",
    "       'Beach Volleyball', 'Triathlon', 'Rugby', 'Lacrosse', 'Polo',\n",
    "       'Cricket', 'Ice Hockey', 'Racquets', 'Motorboating', 'Croquet',\n",
    "       'Figure Skating', 'Jeu De Paume', 'Roque', 'Basque Pelota',\n",
    "       'Alpinism', 'Aeronautics']"
   ]
  },
  {
   "cell_type": "code",
   "execution_count": null,
   "id": "50bf234c-1c3b-445a-b534-ba414513dc76",
   "metadata": {
    "tags": []
   },
   "outputs": [],
   "source": []
  },
  {
   "cell_type": "code",
   "execution_count": 357,
   "id": "f2afc197-f9c6-4ab8-a5b3-9155ce265f76",
   "metadata": {
    "tags": []
   },
   "outputs": [],
   "source": [
    "athletes_df = df.drop_duplicates(subset=['Name','region'])"
   ]
  },
  {
   "cell_type": "code",
   "execution_count": 358,
   "id": "0a18f84f-1191-4f88-9d1e-a68a51868d55",
   "metadata": {
    "tags": []
   },
   "outputs": [],
   "source": [
    "x = []\n",
    "names = []\n",
    "# temp_df = df.dropna(subset=['Medal','Sport','Age'])\n",
    "\n",
    "for sport in famous_sports:\n",
    "    temp_df = athletes_df[athletes_df['Sport'] == sport]\n",
    "    x.append(temp_df[temp_df['Medal'] == 'Gold']['Age'].dropna())\n",
    "    names.append(sport)"
   ]
  },
  {
   "cell_type": "code",
   "execution_count": 351,
   "id": "3f112fff-9208-407e-9aa6-26585ca4060a",
   "metadata": {
    "tags": []
   },
   "outputs": [
    {
     "data": {
      "text/plain": [
       "['Basketball',\n",
       " 'Judo',\n",
       " 'Football',\n",
       " 'Tug-Of-War',\n",
       " 'Athletics',\n",
       " 'Swimming',\n",
       " 'Badminton',\n",
       " 'Sailing',\n",
       " 'Gymnastics',\n",
       " 'Art Competitions',\n",
       " 'Handball',\n",
       " 'Weightlifting',\n",
       " 'Wrestling',\n",
       " 'Water Polo',\n",
       " 'Hockey',\n",
       " 'Rowing',\n",
       " 'Fencing',\n",
       " 'Equestrianism',\n",
       " 'Shooting',\n",
       " 'Boxing',\n",
       " 'Taekwondo',\n",
       " 'Cycling',\n",
       " 'Diving',\n",
       " 'Canoeing',\n",
       " 'Tennis',\n",
       " 'Modern Pentathlon',\n",
       " 'Golf',\n",
       " 'Softball',\n",
       " 'Archery',\n",
       " 'Volleyball',\n",
       " 'Synchronized Swimming',\n",
       " 'Table Tennis',\n",
       " 'Baseball',\n",
       " 'Rhythmic Gymnastics',\n",
       " 'Rugby Sevens',\n",
       " 'Trampolining',\n",
       " 'Beach Volleyball',\n",
       " 'Triathlon',\n",
       " 'Rugby',\n",
       " 'Lacrosse',\n",
       " 'Polo',\n",
       " 'Cricket',\n",
       " 'Ice Hockey',\n",
       " 'Racquets',\n",
       " 'Motorboating',\n",
       " 'Croquet',\n",
       " 'Figure Skating',\n",
       " 'Jeu De Paume',\n",
       " 'Roque',\n",
       " 'Basque Pelota',\n",
       " 'Alpinism',\n",
       " 'Aeronautics']"
      ]
     },
     "execution_count": 351,
     "metadata": {},
     "output_type": "execute_result"
    }
   ],
   "source": [
    "names"
   ]
  },
  {
   "cell_type": "code",
   "execution_count": 353,
   "id": "208a552b-e48a-4bac-a258-171776047ce8",
   "metadata": {
    "tags": []
   },
   "outputs": [
    {
     "data": {
      "text/html": [
       "<div>\n",
       "<style scoped>\n",
       "    .dataframe tbody tr th:only-of-type {\n",
       "        vertical-align: middle;\n",
       "    }\n",
       "\n",
       "    .dataframe tbody tr th {\n",
       "        vertical-align: top;\n",
       "    }\n",
       "\n",
       "    .dataframe thead th {\n",
       "        text-align: right;\n",
       "    }\n",
       "</style>\n",
       "<table border=\"1\" class=\"dataframe\">\n",
       "  <thead>\n",
       "    <tr style=\"text-align: right;\">\n",
       "      <th></th>\n",
       "      <th>index</th>\n",
       "      <th>ID</th>\n",
       "      <th>Name</th>\n",
       "      <th>Sex</th>\n",
       "      <th>Age</th>\n",
       "      <th>Height</th>\n",
       "      <th>Weight</th>\n",
       "      <th>Team</th>\n",
       "      <th>NOC</th>\n",
       "      <th>Games</th>\n",
       "      <th>...</th>\n",
       "      <th>Season</th>\n",
       "      <th>City</th>\n",
       "      <th>Sport</th>\n",
       "      <th>Event</th>\n",
       "      <th>Medal</th>\n",
       "      <th>region</th>\n",
       "      <th>notes</th>\n",
       "      <th>Bronze</th>\n",
       "      <th>Gold</th>\n",
       "      <th>Silver</th>\n",
       "    </tr>\n",
       "  </thead>\n",
       "  <tbody>\n",
       "  </tbody>\n",
       "</table>\n",
       "<p>0 rows × 21 columns</p>\n",
       "</div>"
      ],
      "text/plain": [
       "Empty DataFrame\n",
       "Columns: [index, ID, Name, Sex, Age, Height, Weight, Team, NOC, Games, Year, Season, City, Sport, Event, Medal, region, notes, Bronze, Gold, Silver]\n",
       "Index: []\n",
       "\n",
       "[0 rows x 21 columns]"
      ]
     },
     "execution_count": 353,
     "metadata": {},
     "output_type": "execute_result"
    }
   ],
   "source": [
    "temp_df.reset_index()"
   ]
  },
  {
   "cell_type": "code",
   "execution_count": 354,
   "id": "ec5d6561-59e2-4d25-87eb-0840b678b265",
   "metadata": {
    "tags": []
   },
   "outputs": [
    {
     "name": "stdout",
     "output_type": "stream",
     "text": [
      "Index 176005 not found in the DataFrame\n"
     ]
    }
   ],
   "source": [
    "index_to_remove = 176005\n",
    "\n",
    "# Check if the index exists in the DataFrame\n",
    "if index_to_remove in df.index:\n",
    "    df = df.drop(index_to_remove)\n",
    "else:\n",
    "    print(f\"Index {index_to_remove} not found in the DataFrame\")"
   ]
  },
  {
   "cell_type": "code",
   "execution_count": 355,
   "id": "6c544c34-0a52-4aa5-87ec-3436296da107",
   "metadata": {
    "tags": []
   },
   "outputs": [
    {
     "data": {
      "text/html": [
       "<div>\n",
       "<style scoped>\n",
       "    .dataframe tbody tr th:only-of-type {\n",
       "        vertical-align: middle;\n",
       "    }\n",
       "\n",
       "    .dataframe tbody tr th {\n",
       "        vertical-align: top;\n",
       "    }\n",
       "\n",
       "    .dataframe thead th {\n",
       "        text-align: right;\n",
       "    }\n",
       "</style>\n",
       "<table border=\"1\" class=\"dataframe\">\n",
       "  <thead>\n",
       "    <tr style=\"text-align: right;\">\n",
       "      <th></th>\n",
       "      <th>ID</th>\n",
       "      <th>Name</th>\n",
       "      <th>Sex</th>\n",
       "      <th>Age</th>\n",
       "      <th>Height</th>\n",
       "      <th>Weight</th>\n",
       "      <th>Team</th>\n",
       "      <th>NOC</th>\n",
       "      <th>Games</th>\n",
       "      <th>Year</th>\n",
       "      <th>Season</th>\n",
       "      <th>City</th>\n",
       "      <th>Sport</th>\n",
       "      <th>Event</th>\n",
       "      <th>Medal</th>\n",
       "      <th>region</th>\n",
       "      <th>notes</th>\n",
       "      <th>Bronze</th>\n",
       "      <th>Gold</th>\n",
       "      <th>Silver</th>\n",
       "    </tr>\n",
       "  </thead>\n",
       "  <tbody>\n",
       "  </tbody>\n",
       "</table>\n",
       "</div>"
      ],
      "text/plain": [
       "Empty DataFrame\n",
       "Columns: [ID, Name, Sex, Age, Height, Weight, Team, NOC, Games, Year, Season, City, Sport, Event, Medal, region, notes, Bronze, Gold, Silver]\n",
       "Index: []"
      ]
     },
     "execution_count": 355,
     "metadata": {},
     "output_type": "execute_result"
    }
   ],
   "source": [
    "temp_df[temp_df == \"\"]"
   ]
  },
  {
   "cell_type": "code",
   "execution_count": 359,
   "id": "e3969cb6-5570-4c87-beb3-89c37e4d0190",
   "metadata": {
    "tags": []
   },
   "outputs": [
    {
     "ename": "ValueError",
     "evalue": "min() arg is an empty sequence",
     "output_type": "error",
     "traceback": [
      "\u001b[1;31m---------------------------------------------------------------------------\u001b[0m",
      "\u001b[1;31mValueError\u001b[0m                                Traceback (most recent call last)",
      "Cell \u001b[1;32mIn[359], line 1\u001b[0m\n\u001b[1;32m----> 1\u001b[0m fig \u001b[38;5;241m=\u001b[39m ff\u001b[38;5;241m.\u001b[39mcreate_distplot(x,names,show_hist\u001b[38;5;241m=\u001b[39m\u001b[38;5;28;01mTrue\u001b[39;00m,show_rug\u001b[38;5;241m=\u001b[39m\u001b[38;5;28;01mFalse\u001b[39;00m)\n",
      "File \u001b[1;32mD:\\Anaconda\\Lib\\site-packages\\plotly\\figure_factory\\_distplot.py:189\u001b[0m, in \u001b[0;36mcreate_distplot\u001b[1;34m(hist_data, group_labels, bin_size, curve_type, colors, rug_text, histnorm, show_hist, show_curve, show_rug)\u001b[0m\n\u001b[0;32m    186\u001b[0m data \u001b[38;5;241m=\u001b[39m []\n\u001b[0;32m    187\u001b[0m \u001b[38;5;28;01mif\u001b[39;00m show_hist:\n\u001b[1;32m--> 189\u001b[0m     hist \u001b[38;5;241m=\u001b[39m _Distplot(\n\u001b[0;32m    190\u001b[0m         hist_data,\n\u001b[0;32m    191\u001b[0m         histnorm,\n\u001b[0;32m    192\u001b[0m         group_labels,\n\u001b[0;32m    193\u001b[0m         bin_size,\n\u001b[0;32m    194\u001b[0m         curve_type,\n\u001b[0;32m    195\u001b[0m         colors,\n\u001b[0;32m    196\u001b[0m         rug_text,\n\u001b[0;32m    197\u001b[0m         show_hist,\n\u001b[0;32m    198\u001b[0m         show_curve,\n\u001b[0;32m    199\u001b[0m     )\u001b[38;5;241m.\u001b[39mmake_hist()\n\u001b[0;32m    201\u001b[0m     data\u001b[38;5;241m.\u001b[39mappend(hist)\n\u001b[0;32m    203\u001b[0m \u001b[38;5;28;01mif\u001b[39;00m show_curve:\n",
      "File \u001b[1;32mD:\\Anaconda\\Lib\\site-packages\\plotly\\figure_factory\\_distplot.py:318\u001b[0m, in \u001b[0;36m_Distplot.__init__\u001b[1;34m(self, hist_data, histnorm, group_labels, bin_size, curve_type, colors, rug_text, show_hist, show_curve)\u001b[0m\n\u001b[0;32m    315\u001b[0m \u001b[38;5;28mself\u001b[39m\u001b[38;5;241m.\u001b[39mcurve_y \u001b[38;5;241m=\u001b[39m [\u001b[38;5;28;01mNone\u001b[39;00m] \u001b[38;5;241m*\u001b[39m \u001b[38;5;28mself\u001b[39m\u001b[38;5;241m.\u001b[39mtrace_number\n\u001b[0;32m    317\u001b[0m \u001b[38;5;28;01mfor\u001b[39;00m trace \u001b[38;5;129;01min\u001b[39;00m \u001b[38;5;28mself\u001b[39m\u001b[38;5;241m.\u001b[39mhist_data:\n\u001b[1;32m--> 318\u001b[0m     \u001b[38;5;28mself\u001b[39m\u001b[38;5;241m.\u001b[39mstart\u001b[38;5;241m.\u001b[39mappend(\u001b[38;5;28mmin\u001b[39m(trace) \u001b[38;5;241m*\u001b[39m \u001b[38;5;241m1.0\u001b[39m)\n\u001b[0;32m    319\u001b[0m     \u001b[38;5;28mself\u001b[39m\u001b[38;5;241m.\u001b[39mend\u001b[38;5;241m.\u001b[39mappend(\u001b[38;5;28mmax\u001b[39m(trace) \u001b[38;5;241m*\u001b[39m \u001b[38;5;241m1.0\u001b[39m)\n",
      "\u001b[1;31mValueError\u001b[0m: min() arg is an empty sequence"
     ]
    }
   ],
   "source": [
    "fig = ff.create_distplot(x,names,show_hist=True,show_rug=False)"
   ]
  },
  {
   "cell_type": "code",
   "execution_count": 292,
   "id": "0facd7d3-8f48-4eb4-a8c6-b058b3200d85",
   "metadata": {
    "tags": []
   },
   "outputs": [
    {
     "data": {
      "text/plain": [
       "ID             0\n",
       "Name           0\n",
       "Sex            0\n",
       "Age         6151\n",
       "Height     29529\n",
       "Weight     30144\n",
       "Team           0\n",
       "NOC            0\n",
       "Games          0\n",
       "Year           0\n",
       "Season         0\n",
       "City           0\n",
       "Sport          0\n",
       "Event          0\n",
       "Medal          0\n",
       "region       190\n",
       "notes     114601\n",
       "Bronze         0\n",
       "Gold           0\n",
       "Silver         0\n",
       "dtype: int64"
      ]
     },
     "execution_count": 292,
     "metadata": {},
     "output_type": "execute_result"
    }
   ],
   "source": [
    "athletes_df.isnull().sum()"
   ]
  },
  {
   "cell_type": "code",
   "execution_count": 295,
   "id": "b355afb4-b98b-4824-91f3-73ca1de26e32",
   "metadata": {
    "tags": []
   },
   "outputs": [],
   "source": [
    "# height and weights\n",
    "athletes_df['Medal'].fillna('No Medal', inplace=True)\n"
   ]
  },
  {
   "cell_type": "code",
   "execution_count": 313,
   "id": "d189626f-0a0d-49b4-b3c0-c000d71cfed3",
   "metadata": {
    "tags": []
   },
   "outputs": [
    {
     "data": {
      "text/plain": [
       "<Axes: xlabel='Height', ylabel='Weight'>"
      ]
     },
     "execution_count": 313,
     "metadata": {},
     "output_type": "execute_result"
    },
    {
     "data": {
      "image/png": "[encoded data removed]",
      "text/plain": [
       "<Figure size 1000x1000 with 1 Axes>"
      ]
     },
     "metadata": {},
     "output_type": "display_data"
    }
   ],
   "source": [
    "plt.figure(figsize=(10,10))\n",
    "temp_df = athletes_df[athletes_df['Sport'] == 'Athletics']\n",
    "sns.scatterplot(data = temp_df,x=temp_df['Height'], y=temp_df['Weight'],hue=temp_df['Medal'], style=temp_df['Sex'],s=100)"
   ]
  },
  {
   "cell_type": "code",
   "execution_count": 299,
   "id": "17c02f6e-4dfd-4117-aef5-cc6cc875bfec",
   "metadata": {
    "tags": []
   },
   "outputs": [],
   "source": [
    "men = athletes_df[athletes_df['Sex'] == 'M'].groupby('Year').count()['Name'].reset_index()\n",
    "women = athletes_df[athletes_df['Sex'] == 'F'].groupby('Year').count()['Name'].reset_index()"
   ]
  },
  {
   "cell_type": "code",
   "execution_count": 310,
   "id": "9a53fb26-c5f6-47fe-b772-4fd010a7108f",
   "metadata": {
    "tags": []
   },
   "outputs": [],
   "source": [
    "final = men.merge(women, on='Year',how='left')\n",
    "final.rename(columns = {'Name_x':'Male','Name_y':'Female'},inplace=True)"
   ]
  },
  {
   "cell_type": "code",
   "execution_count": 311,
   "id": "0fa803b1-ef8d-4021-96a4-e660c981a100",
   "metadata": {
    "tags": []
   },
   "outputs": [],
   "source": [
    "final.fillna(0,inplace=True)"
   ]
  },
  {
   "cell_type": "code",
   "execution_count": null,
   "id": "b8804171-7eb3-4470-9cd3-cf0b29c665a8",
   "metadata": {},
   "outputs": [],
   "source": []
  },
  {
   "cell_type": "code",
   "execution_count": 312,
   "id": "fbfc59f9-1468-43ff-9d2b-27a56f117da6",
   "metadata": {
    "tags": []
   },
   "outputs": [],
   "source": [
    "fig = px.line(final, x = 'Year', y=['Male','Female'])"
   ]
  },
  {
   "cell_type": "code",
   "execution_count": 306,
   "id": "3b33ab11-10fd-4225-a96f-320431a7c929",
   "metadata": {
    "tags": []
   },
   "outputs": [
    {
     "data": {
      "application/vnd.plotly.v1+json": {
       "config": {
        "plotlyServerURL": "https://plot.ly"
       },
       "data": [
        {
         "hovertemplate": "variable=Male<br>Year=%{x}<br>value=%{y}<extra></extra>",
         "legendgroup": "Male",
         "line": {
          "color": "#636efa",
          "dash": "solid"
         },
         "marker": {
          "symbol": "circle"
         },
         "mode": "lines",
         "name": "Male",
         "orientation": "v",
         "showlegend": true,
         "type": "scatter",
         "x": [
          1936,
          1948,
          1952,
          1956,
          1960,
          1964,
          1968,
          1972,
          1976,
          1980,
          1984,
          1988,
          1992,
          1996,
          2000,
          2004,
          2008,
          2012,
          2016
         ],
         "xaxis": "x",
         "y": [
          12,
          13,
          21,
          10,
          115,
          95,
          63,
          118,
          107,
          101,
          148,
          149,
          53,
          56,
          99,
          67,
          25,
          35,
          27
         ],
         "yaxis": "y"
        },
        {
         "hovertemplate": "variable=Female<br>Year=%{x}<br>value=%{y}<extra></extra>",
         "legendgroup": "Female",
         "line": {
          "color": "#EF553B",
          "dash": "solid"
         },
         "marker": {
          "symbol": "circle"
         },
         "mode": "lines",
         "name": "Female",
         "orientation": "v",
         "showlegend": true,
         "type": "scatter",
         "x": [
          1936,
          1948,
          1952,
          1956,
          1960,
          1964,
          1968,
          1972,
          1976,
          1980,
          1984,
          1988,
          1992,
          1996,
          2000,
          2004,
          2008,
          2012,
          2016
         ],
         "xaxis": "x",
         "y": [
          5,
          2,
          2,
          1,
          7,
          2,
          12,
          8,
          6,
          28,
          48,
          41,
          16,
          17,
          29,
          26,
          15,
          22,
          21
         ],
         "yaxis": "y"
        }
       ],
       "layout": {
        "autosize": true,
        "legend": {
         "title": {
          "text": "variable"
         },
         "tracegroupgap": 0
        },
        "margin": {
         "t": 60
        },
        "template": {
         "data": {
          "bar": [
           {
            "error_x": {
             "color": "#2a3f5f"
            },
            "error_y": {
             "color": "#2a3f5f"
            },
            "marker": {
             "line": {
              "color": "#E5ECF6",
              "width": 0.5
             },
             "pattern": {
              "fillmode": "overlay",
              "size": 10,
              "solidity": 0.2
             }
            },
            "type": "bar"
           }
          ],
          "barpolar": [
           {
            "marker": {
             "line": {
              "color": "#E5ECF6",
              "width": 0.5
             },
             "pattern": {
              "fillmode": "overlay",
              "size": 10,
              "solidity": 0.2
             }
            },
            "type": "barpolar"
           }
          ],
          "carpet": [
           {
            "aaxis": {
             "endlinecolor": "#2a3f5f",
             "gridcolor": "white",
             "linecolor": "white",
             "minorgridcolor": "white",
             "startlinecolor": "#2a3f5f"
            },
            "baxis": {
             "endlinecolor": "#2a3f5f",
             "gridcolor": "white",
             "linecolor": "white",
             "minorgridcolor": "white",
             "startlinecolor": "#2a3f5f"
            },
            "type": "carpet"
           }
          ],
          "choropleth": [
           {
            "colorbar": {
             "outlinewidth": 0,
             "ticks": ""
            },
            "type": "choropleth"
           }
          ],
          "contour": [
           {
            "colorbar": {
             "outlinewidth": 0,
             "ticks": ""
            },
            "colorscale": [
             [
              0,
              "#0d0887"
             ],
             [
              0.1111111111111111,
              "#46039f"
             ],
             [
              0.2222222222222222,
              "#7201a8"
             ],
             [
              0.3333333333333333,
              "#9c179e"
             ],
             [
              0.4444444444444444,
              "#bd3786"
             ],
             [
              0.5555555555555556,
              "#d8576b"
             ],
             [
              0.6666666666666666,
              "#ed7953"
             ],
             [
              0.7777777777777778,
              "#fb9f3a"
             ],
             [
              0.8888888888888888,
              "#fdca26"
             ],
             [
              1,
              "#f0f921"
             ]
            ],
            "type": "contour"
           }
          ],
          "contourcarpet": [
           {
            "colorbar": {
             "outlinewidth": 0,
             "ticks": ""
            },
            "type": "contourcarpet"
           }
          ],
          "heatmap": [
           {
            "colorbar": {
             "outlinewidth": 0,
             "ticks": ""
            },
            "colorscale": [
             [
              0,
              "#0d0887"
             ],
             [
              0.1111111111111111,
              "#46039f"
             ],
             [
              0.2222222222222222,
              "#7201a8"
             ],
             [
              0.3333333333333333,
              "#9c179e"
             ],
             [
              0.4444444444444444,
              "#bd3786"
             ],
             [
              0.5555555555555556,
              "#d8576b"
             ],
             [
              0.6666666666666666,
              "#ed7953"
             ],
             [
              0.7777777777777778,
              "#fb9f3a"
             ],
             [
              0.8888888888888888,
              "#fdca26"
             ],
             [
              1,
              "#f0f921"
             ]
            ],
            "type": "heatmap"
           }
          ],
          "heatmapgl": [
           {
            "colorbar": {
             "outlinewidth": 0,
             "ticks": ""
            },
            "colorscale": [
             [
              0,
              "#0d0887"
             ],
             [
              0.1111111111111111,
              "#46039f"
             ],
             [
              0.2222222222222222,
              "#7201a8"
             ],
             [
              0.3333333333333333,
              "#9c179e"
             ],
             [
              0.4444444444444444,
              "#bd3786"
             ],
             [
              0.5555555555555556,
              "#d8576b"
             ],
             [
              0.6666666666666666,
              "#ed7953"
             ],
             [
              0.7777777777777778,
              "#fb9f3a"
             ],
             [
              0.8888888888888888,
              "#fdca26"
             ],
             [
              1,
              "#f0f921"
             ]
            ],
            "type": "heatmapgl"
           }
          ],
          "histogram": [
           {
            "marker": {
             "pattern": {
              "fillmode": "overlay",
              "size": 10,
              "solidity": 0.2
             }
            },
            "type": "histogram"
           }
          ],
          "histogram2d": [
           {
            "colorbar": {
             "outlinewidth": 0,
             "ticks": ""
            },
            "colorscale": [
             [
              0,
              "#0d0887"
             ],
             [
              0.1111111111111111,
              "#46039f"
             ],
             [
              0.2222222222222222,
              "#7201a8"
             ],
             [
              0.3333333333333333,
              "#9c179e"
             ],
             [
              0.4444444444444444,
              "#bd3786"
             ],
             [
              0.5555555555555556,
              "#d8576b"
             ],
             [
              0.6666666666666666,
              "#ed7953"
             ],
             [
              0.7777777777777778,
              "#fb9f3a"
             ],
             [
              0.8888888888888888,
              "#fdca26"
             ],
             [
              1,
              "#f0f921"
             ]
            ],
            "type": "histogram2d"
           }
          ],
          "histogram2dcontour": [
           {
            "colorbar": {
             "outlinewidth": 0,
             "ticks": ""
            },
            "colorscale": [
             [
              0,
              "#0d0887"
             ],
             [
              0.1111111111111111,
              "#46039f"
             ],
             [
              0.2222222222222222,
              "#7201a8"
             ],
             [
              0.3333333333333333,
              "#9c179e"
             ],
             [
              0.4444444444444444,
              "#bd3786"
             ],
             [
              0.5555555555555556,
              "#d8576b"
             ],
             [
              0.6666666666666666,
              "#ed7953"
             ],
             [
              0.7777777777777778,
              "#fb9f3a"
             ],
             [
              0.8888888888888888,
              "#fdca26"
             ],
             [
              1,
              "#f0f921"
             ]
            ],
            "type": "histogram2dcontour"
           }
          ],
          "mesh3d": [
           {
            "colorbar": {
             "outlinewidth": 0,
             "ticks": ""
            },
            "type": "mesh3d"
           }
          ],
          "parcoords": [
           {
            "line": {
             "colorbar": {
              "outlinewidth": 0,
              "ticks": ""
             }
            },
            "type": "parcoords"
           }
          ],
          "pie": [
           {
            "automargin": true,
            "type": "pie"
           }
          ],
          "scatter": [
           {
            "fillpattern": {
             "fillmode": "overlay",
             "size": 10,
             "solidity": 0.2
            },
            "type": "scatter"
           }
          ],
          "scatter3d": [
           {
            "line": {
             "colorbar": {
              "outlinewidth": 0,
              "ticks": ""
             }
            },
            "marker": {
             "colorbar": {
              "outlinewidth": 0,
              "ticks": ""
             }
            },
            "type": "scatter3d"
           }
          ],
          "scattercarpet": [
           {
            "marker": {
             "colorbar": {
              "outlinewidth": 0,
              "ticks": ""
             }
            },
            "type": "scattercarpet"
           }
          ],
          "scattergeo": [
           {
            "marker": {
             "colorbar": {
              "outlinewidth": 0,
              "ticks": ""
             }
            },
            "type": "scattergeo"
           }
          ],
          "scattergl": [
           {
            "marker": {
             "colorbar": {
              "outlinewidth": 0,
              "ticks": ""
             }
            },
            "type": "scattergl"
           }
          ],
          "scattermapbox": [
           {
            "marker": {
             "colorbar": {
              "outlinewidth": 0,
              "ticks": ""
             }
            },
            "type": "scattermapbox"
           }
          ],
          "scatterpolar": [
           {
            "marker": {
             "colorbar": {
              "outlinewidth": 0,
              "ticks": ""
             }
            },
            "type": "scatterpolar"
           }
          ],
          "scatterpolargl": [
           {
            "marker": {
             "colorbar": {
              "outlinewidth": 0,
              "ticks": ""
             }
            },
            "type": "scatterpolargl"
           }
          ],
          "scatterternary": [
           {
            "marker": {
             "colorbar": {
              "outlinewidth": 0,
              "ticks": ""
             }
            },
            "type": "scatterternary"
           }
          ],
          "surface": [
           {
            "colorbar": {
             "outlinewidth": 0,
             "ticks": ""
            },
            "colorscale": [
             [
              0,
              "#0d0887"
             ],
             [
              0.1111111111111111,
              "#46039f"
             ],
             [
              0.2222222222222222,
              "#7201a8"
             ],
             [
              0.3333333333333333,
              "#9c179e"
             ],
             [
              0.4444444444444444,
              "#bd3786"
             ],
             [
              0.5555555555555556,
              "#d8576b"
             ],
             [
              0.6666666666666666,
              "#ed7953"
             ],
             [
              0.7777777777777778,
              "#fb9f3a"
             ],
             [
              0.8888888888888888,
              "#fdca26"
             ],
             [
              1,
              "#f0f921"
             ]
            ],
            "type": "surface"
           }
          ],
          "table": [
           {
            "cells": {
             "fill": {
              "color": "#EBF0F8"
             },
             "line": {
              "color": "white"
             }
            },
            "header": {
             "fill": {
              "color": "#C8D4E3"
             },
             "line": {
              "color": "white"
             }
            },
            "type": "table"
           }
          ]
         },
         "layout": {
          "annotationdefaults": {
           "arrowcolor": "#2a3f5f",
           "arrowhead": 0,
           "arrowwidth": 1
          },
          "autotypenumbers": "strict",
          "coloraxis": {
           "colorbar": {
            "outlinewidth": 0,
            "ticks": ""
           }
          },
          "colorscale": {
           "diverging": [
            [
             0,
             "#8e0152"
            ],
            [
             0.1,
             "#c51b7d"
            ],
            [
             0.2,
             "#de77ae"
            ],
            [
             0.3,
             "#f1b6da"
            ],
            [
             0.4,
             "#fde0ef"
            ],
            [
             0.5,
             "#f7f7f7"
            ],
            [
             0.6,
             "#e6f5d0"
            ],
            [
             0.7,
             "#b8e186"
            ],
            [
             0.8,
             "#7fbc41"
            ],
            [
             0.9,
             "#4d9221"
            ],
            [
             1,
             "#276419"
            ]
           ],
           "sequential": [
            [
             0,
             "#0d0887"
            ],
            [
             0.1111111111111111,
             "#46039f"
            ],
            [
             0.2222222222222222,
             "#7201a8"
            ],
            [
             0.3333333333333333,
             "#9c179e"
            ],
            [
             0.4444444444444444,
             "#bd3786"
            ],
            [
             0.5555555555555556,
             "#d8576b"
            ],
            [
             0.6666666666666666,
             "#ed7953"
            ],
            [
             0.7777777777777778,
             "#fb9f3a"
            ],
            [
             0.8888888888888888,
             "#fdca26"
            ],
            [
             1,
             "#f0f921"
            ]
           ],
           "sequentialminus": [
            [
             0,
             "#0d0887"
            ],
            [
             0.1111111111111111,
             "#46039f"
            ],
            [
             0.2222222222222222,
             "#7201a8"
            ],
            [
             0.3333333333333333,
             "#9c179e"
            ],
            [
             0.4444444444444444,
             "#bd3786"
            ],
            [
             0.5555555555555556,
             "#d8576b"
            ],
            [
             0.6666666666666666,
             "#ed7953"
            ],
            [
             0.7777777777777778,
             "#fb9f3a"
            ],
            [
             0.8888888888888888,
             "#fdca26"
            ],
            [
             1,
             "#f0f921"
            ]
           ]
          },
          "colorway": [
           "#636efa",
           "#EF553B",
           "#00cc96",
           "#ab63fa",
           "#FFA15A",
           "#19d3f3",
           "#FF6692",
           "#B6E880",
           "#FF97FF",
           "#FECB52"
          ],
          "font": {
           "color": "#2a3f5f"
          },
          "geo": {
           "bgcolor": "white",
           "lakecolor": "white",
           "landcolor": "#E5ECF6",
           "showlakes": true,
           "showland": true,
           "subunitcolor": "white"
          },
          "hoverlabel": {
           "align": "left"
          },
          "hovermode": "closest",
          "mapbox": {
           "style": "light"
          },
          "paper_bgcolor": "white",
          "plot_bgcolor": "#E5ECF6",
          "polar": {
           "angularaxis": {
            "gridcolor": "white",
            "linecolor": "white",
            "ticks": ""
           },
           "bgcolor": "#E5ECF6",
           "radialaxis": {
            "gridcolor": "white",
            "linecolor": "white",
            "ticks": ""
           }
          },
          "scene": {
           "xaxis": {
            "backgroundcolor": "#E5ECF6",
            "gridcolor": "white",
            "gridwidth": 2,
            "linecolor": "white",
            "showbackground": true,
            "ticks": "",
            "zerolinecolor": "white"
           },
           "yaxis": {
            "backgroundcolor": "#E5ECF6",
            "gridcolor": "white",
            "gridwidth": 2,
            "linecolor": "white",
            "showbackground": true,
            "ticks": "",
            "zerolinecolor": "white"
           },
           "zaxis": {
            "backgroundcolor": "#E5ECF6",
            "gridcolor": "white",
            "gridwidth": 2,
            "linecolor": "white",
            "showbackground": true,
            "ticks": "",
            "zerolinecolor": "white"
           }
          },
          "shapedefaults": {
           "line": {
            "color": "#2a3f5f"
           }
          },
          "ternary": {
           "aaxis": {
            "gridcolor": "white",
            "linecolor": "white",
            "ticks": ""
           },
           "baxis": {
            "gridcolor": "white",
            "linecolor": "white",
            "ticks": ""
           },
           "bgcolor": "#E5ECF6",
           "caxis": {
            "gridcolor": "white",
            "linecolor": "white",
            "ticks": ""
           }
          },
          "title": {
           "x": 0.05
          },
          "xaxis": {
           "automargin": true,
           "gridcolor": "white",
           "linecolor": "white",
           "ticks": "",
           "title": {
            "standoff": 15
           },
           "zerolinecolor": "white",
           "zerolinewidth": 2
          },
          "yaxis": {
           "automargin": true,
           "gridcolor": "white",
           "linecolor": "white",
           "ticks": "",
           "title": {
            "standoff": 15
           },
           "zerolinecolor": "white",
           "zerolinewidth": 2
          }
         }
        },
        "xaxis": {
         "anchor": "y",
         "autorange": true,
         "domain": [
          0,
          1
         ],
         "range": [
          1936,
          2016
         ],
         "title": {
          "text": "Year"
         },
         "type": "linear"
        },
        "yaxis": {
         "anchor": "x",
         "autorange": true,
         "domain": [
          0,
          1
         ],
         "range": [
          -7.222222222222223,
          157.22222222222223
         ],
         "title": {
          "text": "value"
         },
         "type": "linear"
        }
       }
      },
      "image/png": "[encoded data removed]",
      "text/html": [
       "<div>                            <div id=\"af7a5e5e-4fe2-46ee-979b-081fb84794a4\" class=\"plotly-graph-div\" style=\"height:525px; width:100%;\"></div>            <script type=\"text/javascript\">                require([\"plotly\"], function(Plotly) {                    window.PLOTLYENV=window.PLOTLYENV || {};                                    if (document.getElementById(\"af7a5e5e-4fe2-46ee-979b-081fb84794a4\")) {                    Plotly.newPlot(                        \"af7a5e5e-4fe2-46ee-979b-081fb84794a4\",                        [{\"hovertemplate\":\"variable=Male<br>Year=%{x}<br>value=%{y}<extra></extra>\",\"legendgroup\":\"Male\",\"line\":{\"color\":\"#636efa\",\"dash\":\"solid\"},\"marker\":{\"symbol\":\"circle\"},\"mode\":\"lines\",\"name\":\"Male\",\"orientation\":\"v\",\"showlegend\":true,\"x\":[1936,1948,1952,1956,1960,1964,1968,1972,1976,1980,1984,1988,1992,1996,2000,2004,2008,2012,2016],\"xaxis\":\"x\",\"y\":[12,13,21,10,115,95,63,118,107,101,148,149,53,56,99,67,25,35,27],\"yaxis\":\"y\",\"type\":\"scatter\"},{\"hovertemplate\":\"variable=Female<br>Year=%{x}<br>value=%{y}<extra></extra>\",\"legendgroup\":\"Female\",\"line\":{\"color\":\"#EF553B\",\"dash\":\"solid\"},\"marker\":{\"symbol\":\"circle\"},\"mode\":\"lines\",\"name\":\"Female\",\"orientation\":\"v\",\"showlegend\":true,\"x\":[1936,1948,1952,1956,1960,1964,1968,1972,1976,1980,1984,1988,1992,1996,2000,2004,2008,2012,2016],\"xaxis\":\"x\",\"y\":[5,2,2,1,7,2,12,8,6,28,48,41,16,17,29,26,15,22,21],\"yaxis\":\"y\",\"type\":\"scatter\"}],                        {\"template\":{\"data\":{\"histogram2dcontour\":[{\"type\":\"histogram2dcontour\",\"colorbar\":{\"outlinewidth\":0,\"ticks\":\"\"},\"colorscale\":[[0.0,\"#0d0887\"],[0.1111111111111111,\"#46039f\"],[0.2222222222222222,\"#7201a8\"],[0.3333333333333333,\"#9c179e\"],[0.4444444444444444,\"#bd3786\"],[0.5555555555555556,\"#d8576b\"],[0.6666666666666666,\"#ed7953\"],[0.7777777777777778,\"#fb9f3a\"],[0.8888888888888888,\"#fdca26\"],[1.0,\"#f0f921\"]]}],\"choropleth\":[{\"type\":\"choropleth\",\"colorbar\":{\"outlinewidth\":0,\"ticks\":\"\"}}],\"histogram2d\":[{\"type\":\"histogram2d\",\"colorbar\":{\"outlinewidth\":0,\"ticks\":\"\"},\"colorscale\":[[0.0,\"#0d0887\"],[0.1111111111111111,\"#46039f\"],[0.2222222222222222,\"#7201a8\"],[0.3333333333333333,\"#9c179e\"],[0.4444444444444444,\"#bd3786\"],[0.5555555555555556,\"#d8576b\"],[0.6666666666666666,\"#ed7953\"],[0.7777777777777778,\"#fb9f3a\"],[0.8888888888888888,\"#fdca26\"],[1.0,\"#f0f921\"]]}],\"heatmap\":[{\"type\":\"heatmap\",\"colorbar\":{\"outlinewidth\":0,\"ticks\":\"\"},\"colorscale\":[[0.0,\"#0d0887\"],[0.1111111111111111,\"#46039f\"],[0.2222222222222222,\"#7201a8\"],[0.3333333333333333,\"#9c179e\"],[0.4444444444444444,\"#bd3786\"],[0.5555555555555556,\"#d8576b\"],[0.6666666666666666,\"#ed7953\"],[0.7777777777777778,\"#fb9f3a\"],[0.8888888888888888,\"#fdca26\"],[1.0,\"#f0f921\"]]}],\"heatmapgl\":[{\"type\":\"heatmapgl\",\"colorbar\":{\"outlinewidth\":0,\"ticks\":\"\"},\"colorscale\":[[0.0,\"#0d0887\"],[0.1111111111111111,\"#46039f\"],[0.2222222222222222,\"#7201a8\"],[0.3333333333333333,\"#9c179e\"],[0.4444444444444444,\"#bd3786\"],[0.5555555555555556,\"#d8576b\"],[0.6666666666666666,\"#ed7953\"],[0.7777777777777778,\"#fb9f3a\"],[0.8888888888888888,\"#fdca26\"],[1.0,\"#f0f921\"]]}],\"contourcarpet\":[{\"type\":\"contourcarpet\",\"colorbar\":{\"outlinewidth\":0,\"ticks\":\"\"}}],\"contour\":[{\"type\":\"contour\",\"colorbar\":{\"outlinewidth\":0,\"ticks\":\"\"},\"colorscale\":[[0.0,\"#0d0887\"],[0.1111111111111111,\"#46039f\"],[0.2222222222222222,\"#7201a8\"],[0.3333333333333333,\"#9c179e\"],[0.4444444444444444,\"#bd3786\"],[0.5555555555555556,\"#d8576b\"],[0.6666666666666666,\"#ed7953\"],[0.7777777777777778,\"#fb9f3a\"],[0.8888888888888888,\"#fdca26\"],[1.0,\"#f0f921\"]]}],\"surface\":[{\"type\":\"surface\",\"colorbar\":{\"outlinewidth\":0,\"ticks\":\"\"},\"colorscale\":[[0.0,\"#0d0887\"],[0.1111111111111111,\"#46039f\"],[0.2222222222222222,\"#7201a8\"],[0.3333333333333333,\"#9c179e\"],[0.4444444444444444,\"#bd3786\"],[0.5555555555555556,\"#d8576b\"],[0.6666666666666666,\"#ed7953\"],[0.7777777777777778,\"#fb9f3a\"],[0.8888888888888888,\"#fdca26\"],[1.0,\"#f0f921\"]]}],\"mesh3d\":[{\"type\":\"mesh3d\",\"colorbar\":{\"outlinewidth\":0,\"ticks\":\"\"}}],\"scatter\":[{\"fillpattern\":{\"fillmode\":\"overlay\",\"size\":10,\"solidity\":0.2},\"type\":\"scatter\"}],\"parcoords\":[{\"type\":\"parcoords\",\"line\":{\"colorbar\":{\"outlinewidth\":0,\"ticks\":\"\"}}}],\"scatterpolargl\":[{\"type\":\"scatterpolargl\",\"marker\":{\"colorbar\":{\"outlinewidth\":0,\"ticks\":\"\"}}}],\"bar\":[{\"error_x\":{\"color\":\"#2a3f5f\"},\"error_y\":{\"color\":\"#2a3f5f\"},\"marker\":{\"line\":{\"color\":\"#E5ECF6\",\"width\":0.5},\"pattern\":{\"fillmode\":\"overlay\",\"size\":10,\"solidity\":0.2}},\"type\":\"bar\"}],\"scattergeo\":[{\"type\":\"scattergeo\",\"marker\":{\"colorbar\":{\"outlinewidth\":0,\"ticks\":\"\"}}}],\"scatterpolar\":[{\"type\":\"scatterpolar\",\"marker\":{\"colorbar\":{\"outlinewidth\":0,\"ticks\":\"\"}}}],\"histogram\":[{\"marker\":{\"pattern\":{\"fillmode\":\"overlay\",\"size\":10,\"solidity\":0.2}},\"type\":\"histogram\"}],\"scattergl\":[{\"type\":\"scattergl\",\"marker\":{\"colorbar\":{\"outlinewidth\":0,\"ticks\":\"\"}}}],\"scatter3d\":[{\"type\":\"scatter3d\",\"line\":{\"colorbar\":{\"outlinewidth\":0,\"ticks\":\"\"}},\"marker\":{\"colorbar\":{\"outlinewidth\":0,\"ticks\":\"\"}}}],\"scattermapbox\":[{\"type\":\"scattermapbox\",\"marker\":{\"colorbar\":{\"outlinewidth\":0,\"ticks\":\"\"}}}],\"scatterternary\":[{\"type\":\"scatterternary\",\"marker\":{\"colorbar\":{\"outlinewidth\":0,\"ticks\":\"\"}}}],\"scattercarpet\":[{\"type\":\"scattercarpet\",\"marker\":{\"colorbar\":{\"outlinewidth\":0,\"ticks\":\"\"}}}],\"carpet\":[{\"aaxis\":{\"endlinecolor\":\"#2a3f5f\",\"gridcolor\":\"white\",\"linecolor\":\"white\",\"minorgridcolor\":\"white\",\"startlinecolor\":\"#2a3f5f\"},\"baxis\":{\"endlinecolor\":\"#2a3f5f\",\"gridcolor\":\"white\",\"linecolor\":\"white\",\"minorgridcolor\":\"white\",\"startlinecolor\":\"#2a3f5f\"},\"type\":\"carpet\"}],\"table\":[{\"cells\":{\"fill\":{\"color\":\"#EBF0F8\"},\"line\":{\"color\":\"white\"}},\"header\":{\"fill\":{\"color\":\"#C8D4E3\"},\"line\":{\"color\":\"white\"}},\"type\":\"table\"}],\"barpolar\":[{\"marker\":{\"line\":{\"color\":\"#E5ECF6\",\"width\":0.5},\"pattern\":{\"fillmode\":\"overlay\",\"size\":10,\"solidity\":0.2}},\"type\":\"barpolar\"}],\"pie\":[{\"automargin\":true,\"type\":\"pie\"}]},\"layout\":{\"autotypenumbers\":\"strict\",\"colorway\":[\"#636efa\",\"#EF553B\",\"#00cc96\",\"#ab63fa\",\"#FFA15A\",\"#19d3f3\",\"#FF6692\",\"#B6E880\",\"#FF97FF\",\"#FECB52\"],\"font\":{\"color\":\"#2a3f5f\"},\"hovermode\":\"closest\",\"hoverlabel\":{\"align\":\"left\"},\"paper_bgcolor\":\"white\",\"plot_bgcolor\":\"#E5ECF6\",\"polar\":{\"bgcolor\":\"#E5ECF6\",\"angularaxis\":{\"gridcolor\":\"white\",\"linecolor\":\"white\",\"ticks\":\"\"},\"radialaxis\":{\"gridcolor\":\"white\",\"linecolor\":\"white\",\"ticks\":\"\"}},\"ternary\":{\"bgcolor\":\"#E5ECF6\",\"aaxis\":{\"gridcolor\":\"white\",\"linecolor\":\"white\",\"ticks\":\"\"},\"baxis\":{\"gridcolor\":\"white\",\"linecolor\":\"white\",\"ticks\":\"\"},\"caxis\":{\"gridcolor\":\"white\",\"linecolor\":\"white\",\"ticks\":\"\"}},\"coloraxis\":{\"colorbar\":{\"outlinewidth\":0,\"ticks\":\"\"}},\"colorscale\":{\"sequential\":[[0.0,\"#0d0887\"],[0.1111111111111111,\"#46039f\"],[0.2222222222222222,\"#7201a8\"],[0.3333333333333333,\"#9c179e\"],[0.4444444444444444,\"#bd3786\"],[0.5555555555555556,\"#d8576b\"],[0.6666666666666666,\"#ed7953\"],[0.7777777777777778,\"#fb9f3a\"],[0.8888888888888888,\"#fdca26\"],[1.0,\"#f0f921\"]],\"sequentialminus\":[[0.0,\"#0d0887\"],[0.1111111111111111,\"#46039f\"],[0.2222222222222222,\"#7201a8\"],[0.3333333333333333,\"#9c179e\"],[0.4444444444444444,\"#bd3786\"],[0.5555555555555556,\"#d8576b\"],[0.6666666666666666,\"#ed7953\"],[0.7777777777777778,\"#fb9f3a\"],[0.8888888888888888,\"#fdca26\"],[1.0,\"#f0f921\"]],\"diverging\":[[0,\"#8e0152\"],[0.1,\"#c51b7d\"],[0.2,\"#de77ae\"],[0.3,\"#f1b6da\"],[0.4,\"#fde0ef\"],[0.5,\"#f7f7f7\"],[0.6,\"#e6f5d0\"],[0.7,\"#b8e186\"],[0.8,\"#7fbc41\"],[0.9,\"#4d9221\"],[1,\"#276419\"]]},\"xaxis\":{\"gridcolor\":\"white\",\"linecolor\":\"white\",\"ticks\":\"\",\"title\":{\"standoff\":15},\"zerolinecolor\":\"white\",\"automargin\":true,\"zerolinewidth\":2},\"yaxis\":{\"gridcolor\":\"white\",\"linecolor\":\"white\",\"ticks\":\"\",\"title\":{\"standoff\":15},\"zerolinecolor\":\"white\",\"automargin\":true,\"zerolinewidth\":2},\"scene\":{\"xaxis\":{\"backgroundcolor\":\"#E5ECF6\",\"gridcolor\":\"white\",\"linecolor\":\"white\",\"showbackground\":true,\"ticks\":\"\",\"zerolinecolor\":\"white\",\"gridwidth\":2},\"yaxis\":{\"backgroundcolor\":\"#E5ECF6\",\"gridcolor\":\"white\",\"linecolor\":\"white\",\"showbackground\":true,\"ticks\":\"\",\"zerolinecolor\":\"white\",\"gridwidth\":2},\"zaxis\":{\"backgroundcolor\":\"#E5ECF6\",\"gridcolor\":\"white\",\"linecolor\":\"white\",\"showbackground\":true,\"ticks\":\"\",\"zerolinecolor\":\"white\",\"gridwidth\":2}},\"shapedefaults\":{\"line\":{\"color\":\"#2a3f5f\"}},\"annotationdefaults\":{\"arrowcolor\":\"#2a3f5f\",\"arrowhead\":0,\"arrowwidth\":1},\"geo\":{\"bgcolor\":\"white\",\"landcolor\":\"#E5ECF6\",\"subunitcolor\":\"white\",\"showland\":true,\"showlakes\":true,\"lakecolor\":\"white\"},\"title\":{\"x\":0.05},\"mapbox\":{\"style\":\"light\"}}},\"xaxis\":{\"anchor\":\"y\",\"domain\":[0.0,1.0],\"title\":{\"text\":\"Year\"}},\"yaxis\":{\"anchor\":\"x\",\"domain\":[0.0,1.0],\"title\":{\"text\":\"value\"}},\"legend\":{\"title\":{\"text\":\"variable\"},\"tracegroupgap\":0},\"margin\":{\"t\":60}},                        {\"responsive\": true}                    ).then(function(){\n",
       "                            \n",
       "var gd = document.getElementById('af7a5e5e-4fe2-46ee-979b-081fb84794a4');\n",
       "var x = new MutationObserver(function (mutations, observer) {{\n",
       "        var display = window.getComputedStyle(gd).display;\n",
       "        if (!display || display === 'none') {{\n",
       "            console.log([gd, 'removed!']);\n",
       "            Plotly.purge(gd);\n",
       "            observer.disconnect();\n",
       "        }}\n",
       "}});\n",
       "\n",
       "// Listen for the removal of the full notebook cells\n",
       "var notebookContainer = gd.closest('#notebook-container');\n",
       "if (notebookContainer) {{\n",
       "    x.observe(notebookContainer, {childList: true});\n",
       "}}\n",
       "\n",
       "// Listen for the clearing of the current output cell\n",
       "var outputEl = gd.closest('.output');\n",
       "if (outputEl) {{\n",
       "    x.observe(outputEl, {childList: true});\n",
       "}}\n",
       "\n",
       "                        })                };                });            </script>        </div>"
      ]
     },
     "metadata": {},
     "output_type": "display_data"
    }
   ],
   "source": [
    "fig.show()"
   ]
  },
  {
   "cell_type": "code",
   "execution_count": 221,
   "id": "c446c1cf-6255-4fcb-b361-a6860b30f193",
   "metadata": {
    "tags": []
   },
   "outputs": [],
   "source": []
  },
  {
   "cell_type": "code",
   "execution_count": null,
   "id": "f55612f6-d843-4043-a3b1-d78d1344b4b8",
   "metadata": {
    "tags": []
   },
   "outputs": [],
   "source": []
  },
  {
   "cell_type": "code",
   "execution_count": null,
   "id": "410cff8e-55d2-405b-a4ee-36874f126d46",
   "metadata": {
    "tags": []
   },
   "outputs": [],
   "source": []
  },
  {
   "cell_type": "code",
   "execution_count": null,
   "id": "efb7322c-1f41-475a-9cc1-01ebaec075e6",
   "metadata": {},
   "outputs": [],
   "source": []
  }
 ],
 "metadata": {
  "kernelspec": {
   "display_name": "Python 3 (ipykernel)",
   "language": "python",
   "name": "python3"
  },
  "language_info": {
   "codemirror_mode": {
    "name": "ipython",
    "version": 3
   },
   "file_extension": ".py",
   "mimetype": "text/x-python",
   "name": "python",
   "nbconvert_exporter": "python",
   "pygments_lexer": "ipython3",
   "version": "3.11.5"
  }
 },
 "nbformat": 4,
 "nbformat_minor": 5
}
